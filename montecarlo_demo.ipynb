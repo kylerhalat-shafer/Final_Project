{
 "cells": [
  {
   "cell_type": "code",
   "execution_count": 2,
   "id": "3d6daba0-8b24-464e-a52d-9a8a8d8ed471",
   "metadata": {},
   "outputs": [],
   "source": [
    "from montecarlo import Die\n",
    "from montecarlo import DieGame\n",
    "from montecarlo import Analyzer\n",
    "import pandas as pd\n",
    "import numpy as np\n",
    "import math\n",
    "import os\n",
    "import random"
   ]
  },
  {
   "cell_type": "markdown",
   "id": "1fbc2e96-9a11-4d4c-96d2-777867195e71",
   "metadata": {},
   "source": [
    "# Scenarios"
   ]
  },
  {
   "cell_type": "markdown",
   "id": "4c290570-d853-4922-bbe6-c660bd4d3623",
   "metadata": {},
   "source": [
    "## A Two Headed Coin"
   ]
  },
  {
   "cell_type": "markdown",
   "id": "ad4e49ce-2fbf-4bc4-a155-59f1101fbbba",
   "metadata": {},
   "source": [
    "### Create a fair coin (with faces H and T) and one unfair coin, in which one of the faces has a weight of 5 and the others 1."
   ]
  },
  {
   "cell_type": "code",
   "execution_count": 4,
   "id": "bc981f46-b7b9-4551-84df-f49193b163f1",
   "metadata": {},
   "outputs": [],
   "source": [
    "f1 = Die(['H','T'])"
   ]
  },
  {
   "cell_type": "code",
   "execution_count": 5,
   "id": "300d735f-1e8a-44d9-a016-eeb8c4eb40c4",
   "metadata": {},
   "outputs": [],
   "source": [
    "u1 = Die(['H','T'])"
   ]
  },
  {
   "cell_type": "code",
   "execution_count": 6,
   "id": "c590e542-ba0b-45ed-9356-847d9b0f4820",
   "metadata": {},
   "outputs": [],
   "source": [
    "u1.change_the_weight('T',5)"
   ]
  },
  {
   "cell_type": "code",
   "execution_count": 7,
   "id": "fb2bc4bf-4ddf-4ae9-9172-865fe2ef5cef",
   "metadata": {},
   "outputs": [
    {
     "name": "stdout",
     "output_type": "stream",
     "text": [
      "The current state faces and weights:\n"
     ]
    },
    {
     "data": {
      "text/html": [
       "<div>\n",
       "<style scoped>\n",
       "    .dataframe tbody tr th:only-of-type {\n",
       "        vertical-align: middle;\n",
       "    }\n",
       "\n",
       "    .dataframe tbody tr th {\n",
       "        vertical-align: top;\n",
       "    }\n",
       "\n",
       "    .dataframe thead th {\n",
       "        text-align: right;\n",
       "    }\n",
       "</style>\n",
       "<table border=\"1\" class=\"dataframe\">\n",
       "  <thead>\n",
       "    <tr style=\"text-align: right;\">\n",
       "      <th></th>\n",
       "      <th>faces</th>\n",
       "      <th>weights</th>\n",
       "    </tr>\n",
       "  </thead>\n",
       "  <tbody>\n",
       "    <tr>\n",
       "      <th>0</th>\n",
       "      <td>H</td>\n",
       "      <td>1.0</td>\n",
       "    </tr>\n",
       "    <tr>\n",
       "      <th>1</th>\n",
       "      <td>T</td>\n",
       "      <td>5.0</td>\n",
       "    </tr>\n",
       "  </tbody>\n",
       "</table>\n",
       "</div>"
      ],
      "text/plain": [
       "  faces  weights\n",
       "0     H      1.0\n",
       "1     T      5.0"
      ]
     },
     "execution_count": 7,
     "metadata": {},
     "output_type": "execute_result"
    }
   ],
   "source": [
    "u1.show()"
   ]
  },
  {
   "cell_type": "code",
   "execution_count": 8,
   "id": "7f12b74c-3a91-434b-a8a5-3bd221221295",
   "metadata": {},
   "outputs": [],
   "source": [
    "u2 = Die(['H','T'])"
   ]
  },
  {
   "cell_type": "code",
   "execution_count": 9,
   "id": "b4d0f987-d93c-4437-8fc8-2c04fe7469f7",
   "metadata": {},
   "outputs": [],
   "source": [
    "u2.change_the_weight('H',5)"
   ]
  },
  {
   "cell_type": "code",
   "execution_count": 10,
   "id": "6f6494f8-382b-48c6-ba17-b45e30f56116",
   "metadata": {},
   "outputs": [
    {
     "name": "stdout",
     "output_type": "stream",
     "text": [
      "The current state faces and weights:\n"
     ]
    },
    {
     "data": {
      "text/html": [
       "<div>\n",
       "<style scoped>\n",
       "    .dataframe tbody tr th:only-of-type {\n",
       "        vertical-align: middle;\n",
       "    }\n",
       "\n",
       "    .dataframe tbody tr th {\n",
       "        vertical-align: top;\n",
       "    }\n",
       "\n",
       "    .dataframe thead th {\n",
       "        text-align: right;\n",
       "    }\n",
       "</style>\n",
       "<table border=\"1\" class=\"dataframe\">\n",
       "  <thead>\n",
       "    <tr style=\"text-align: right;\">\n",
       "      <th></th>\n",
       "      <th>faces</th>\n",
       "      <th>weights</th>\n",
       "    </tr>\n",
       "  </thead>\n",
       "  <tbody>\n",
       "    <tr>\n",
       "      <th>0</th>\n",
       "      <td>H</td>\n",
       "      <td>5.0</td>\n",
       "    </tr>\n",
       "    <tr>\n",
       "      <th>1</th>\n",
       "      <td>T</td>\n",
       "      <td>1.0</td>\n",
       "    </tr>\n",
       "  </tbody>\n",
       "</table>\n",
       "</div>"
      ],
      "text/plain": [
       "  faces  weights\n",
       "0     H      5.0\n",
       "1     T      1.0"
      ]
     },
     "execution_count": 10,
     "metadata": {},
     "output_type": "execute_result"
    }
   ],
   "source": [
    "u2.show()"
   ]
  },
  {
   "cell_type": "markdown",
   "id": "fd589cbb-4f0e-43e6-a44b-de87840cf9c5",
   "metadata": {},
   "source": [
    "### Play a game of 1000 flips of three coins with all fair dice."
   ]
  },
  {
   "cell_type": "code",
   "execution_count": 11,
   "id": "e37f3a87-edaa-4832-8ac5-d208119a5ebe",
   "metadata": {},
   "outputs": [],
   "source": [
    "game1 = DieGame([f1,f1,f1])"
   ]
  },
  {
   "cell_type": "code",
   "execution_count": 12,
   "id": "9bfceabf-dca5-47ce-bd6d-9345c71c1ac0",
   "metadata": {},
   "outputs": [],
   "source": [
    "game1.play2(1000)"
   ]
  },
  {
   "cell_type": "code",
   "execution_count": 13,
   "id": "a470c990-3f92-436c-8cbc-a6127fc04e94",
   "metadata": {},
   "outputs": [
    {
     "data": {
      "text/html": [
       "<div>\n",
       "<style scoped>\n",
       "    .dataframe tbody tr th:only-of-type {\n",
       "        vertical-align: middle;\n",
       "    }\n",
       "\n",
       "    .dataframe tbody tr th {\n",
       "        vertical-align: top;\n",
       "    }\n",
       "\n",
       "    .dataframe thead th {\n",
       "        text-align: right;\n",
       "    }\n",
       "</style>\n",
       "<table border=\"1\" class=\"dataframe\">\n",
       "  <thead>\n",
       "    <tr style=\"text-align: right;\">\n",
       "      <th></th>\n",
       "      <th>0</th>\n",
       "      <th>1</th>\n",
       "      <th>2</th>\n",
       "    </tr>\n",
       "    <tr>\n",
       "      <th>Roll_Number</th>\n",
       "      <th></th>\n",
       "      <th></th>\n",
       "      <th></th>\n",
       "    </tr>\n",
       "  </thead>\n",
       "  <tbody>\n",
       "    <tr>\n",
       "      <th>1</th>\n",
       "      <td>H</td>\n",
       "      <td>H</td>\n",
       "      <td>T</td>\n",
       "    </tr>\n",
       "    <tr>\n",
       "      <th>2</th>\n",
       "      <td>T</td>\n",
       "      <td>T</td>\n",
       "      <td>T</td>\n",
       "    </tr>\n",
       "    <tr>\n",
       "      <th>3</th>\n",
       "      <td>H</td>\n",
       "      <td>T</td>\n",
       "      <td>T</td>\n",
       "    </tr>\n",
       "    <tr>\n",
       "      <th>4</th>\n",
       "      <td>H</td>\n",
       "      <td>T</td>\n",
       "      <td>H</td>\n",
       "    </tr>\n",
       "    <tr>\n",
       "      <th>5</th>\n",
       "      <td>T</td>\n",
       "      <td>T</td>\n",
       "      <td>H</td>\n",
       "    </tr>\n",
       "    <tr>\n",
       "      <th>...</th>\n",
       "      <td>...</td>\n",
       "      <td>...</td>\n",
       "      <td>...</td>\n",
       "    </tr>\n",
       "    <tr>\n",
       "      <th>996</th>\n",
       "      <td>H</td>\n",
       "      <td>H</td>\n",
       "      <td>T</td>\n",
       "    </tr>\n",
       "    <tr>\n",
       "      <th>997</th>\n",
       "      <td>H</td>\n",
       "      <td>H</td>\n",
       "      <td>H</td>\n",
       "    </tr>\n",
       "    <tr>\n",
       "      <th>998</th>\n",
       "      <td>H</td>\n",
       "      <td>T</td>\n",
       "      <td>T</td>\n",
       "    </tr>\n",
       "    <tr>\n",
       "      <th>999</th>\n",
       "      <td>T</td>\n",
       "      <td>T</td>\n",
       "      <td>H</td>\n",
       "    </tr>\n",
       "    <tr>\n",
       "      <th>1000</th>\n",
       "      <td>H</td>\n",
       "      <td>H</td>\n",
       "      <td>H</td>\n",
       "    </tr>\n",
       "  </tbody>\n",
       "</table>\n",
       "<p>1000 rows × 3 columns</p>\n",
       "</div>"
      ],
      "text/plain": [
       "             0  1  2\n",
       "Roll_Number         \n",
       "1            H  H  T\n",
       "2            T  T  T\n",
       "3            H  T  T\n",
       "4            H  T  H\n",
       "5            T  T  H\n",
       "...         .. .. ..\n",
       "996          H  H  T\n",
       "997          H  H  H\n",
       "998          H  T  T\n",
       "999          T  T  H\n",
       "1000         H  H  H\n",
       "\n",
       "[1000 rows x 3 columns]"
      ]
     },
     "execution_count": 13,
     "metadata": {},
     "output_type": "execute_result"
    }
   ],
   "source": [
    "game1.display(True)"
   ]
  },
  {
   "cell_type": "markdown",
   "id": "723d1151-ba36-4fad-9d47-2a0ff31cddd7",
   "metadata": {},
   "source": [
    "### Play a game of 1000 flips with two unfair dice and one fair die."
   ]
  },
  {
   "cell_type": "code",
   "execution_count": 14,
   "id": "d6352650-d29c-4337-af1a-940c9d197dd7",
   "metadata": {},
   "outputs": [],
   "source": [
    "game2 = DieGame([f1,u1,u2])"
   ]
  },
  {
   "cell_type": "code",
   "execution_count": 15,
   "id": "1fc7bbb4-a1b2-4f1b-a535-367edc4b83c0",
   "metadata": {},
   "outputs": [],
   "source": [
    "game2.play2(1000)"
   ]
  },
  {
   "cell_type": "code",
   "execution_count": 16,
   "id": "b1597495-8861-4268-a2d9-69c6297b9613",
   "metadata": {},
   "outputs": [
    {
     "data": {
      "text/html": [
       "<div>\n",
       "<style scoped>\n",
       "    .dataframe tbody tr th:only-of-type {\n",
       "        vertical-align: middle;\n",
       "    }\n",
       "\n",
       "    .dataframe tbody tr th {\n",
       "        vertical-align: top;\n",
       "    }\n",
       "\n",
       "    .dataframe thead th {\n",
       "        text-align: right;\n",
       "    }\n",
       "</style>\n",
       "<table border=\"1\" class=\"dataframe\">\n",
       "  <thead>\n",
       "    <tr style=\"text-align: right;\">\n",
       "      <th></th>\n",
       "      <th>0</th>\n",
       "      <th>1</th>\n",
       "      <th>2</th>\n",
       "    </tr>\n",
       "    <tr>\n",
       "      <th>Roll_Number</th>\n",
       "      <th></th>\n",
       "      <th></th>\n",
       "      <th></th>\n",
       "    </tr>\n",
       "  </thead>\n",
       "  <tbody>\n",
       "    <tr>\n",
       "      <th>1</th>\n",
       "      <td>H</td>\n",
       "      <td>T</td>\n",
       "      <td>H</td>\n",
       "    </tr>\n",
       "    <tr>\n",
       "      <th>2</th>\n",
       "      <td>H</td>\n",
       "      <td>T</td>\n",
       "      <td>H</td>\n",
       "    </tr>\n",
       "    <tr>\n",
       "      <th>3</th>\n",
       "      <td>H</td>\n",
       "      <td>T</td>\n",
       "      <td>H</td>\n",
       "    </tr>\n",
       "    <tr>\n",
       "      <th>4</th>\n",
       "      <td>T</td>\n",
       "      <td>T</td>\n",
       "      <td>H</td>\n",
       "    </tr>\n",
       "    <tr>\n",
       "      <th>5</th>\n",
       "      <td>T</td>\n",
       "      <td>T</td>\n",
       "      <td>H</td>\n",
       "    </tr>\n",
       "    <tr>\n",
       "      <th>...</th>\n",
       "      <td>...</td>\n",
       "      <td>...</td>\n",
       "      <td>...</td>\n",
       "    </tr>\n",
       "    <tr>\n",
       "      <th>996</th>\n",
       "      <td>T</td>\n",
       "      <td>H</td>\n",
       "      <td>H</td>\n",
       "    </tr>\n",
       "    <tr>\n",
       "      <th>997</th>\n",
       "      <td>T</td>\n",
       "      <td>T</td>\n",
       "      <td>H</td>\n",
       "    </tr>\n",
       "    <tr>\n",
       "      <th>998</th>\n",
       "      <td>H</td>\n",
       "      <td>T</td>\n",
       "      <td>H</td>\n",
       "    </tr>\n",
       "    <tr>\n",
       "      <th>999</th>\n",
       "      <td>T</td>\n",
       "      <td>T</td>\n",
       "      <td>H</td>\n",
       "    </tr>\n",
       "    <tr>\n",
       "      <th>1000</th>\n",
       "      <td>T</td>\n",
       "      <td>T</td>\n",
       "      <td>H</td>\n",
       "    </tr>\n",
       "  </tbody>\n",
       "</table>\n",
       "<p>1000 rows × 3 columns</p>\n",
       "</div>"
      ],
      "text/plain": [
       "             0  1  2\n",
       "Roll_Number         \n",
       "1            H  T  H\n",
       "2            H  T  H\n",
       "3            H  T  H\n",
       "4            T  T  H\n",
       "5            T  T  H\n",
       "...         .. .. ..\n",
       "996          T  H  H\n",
       "997          T  T  H\n",
       "998          H  T  H\n",
       "999          T  T  H\n",
       "1000         T  T  H\n",
       "\n",
       "[1000 rows x 3 columns]"
      ]
     },
     "execution_count": 16,
     "metadata": {},
     "output_type": "execute_result"
    }
   ],
   "source": [
    "game2.display(True)"
   ]
  },
  {
   "cell_type": "code",
   "execution_count": 17,
   "id": "42403d09-3a55-402c-9e23-252690338342",
   "metadata": {},
   "outputs": [
    {
     "data": {
      "text/html": [
       "<div>\n",
       "<style scoped>\n",
       "    .dataframe tbody tr th:only-of-type {\n",
       "        vertical-align: middle;\n",
       "    }\n",
       "\n",
       "    .dataframe tbody tr th {\n",
       "        vertical-align: top;\n",
       "    }\n",
       "\n",
       "    .dataframe thead th {\n",
       "        text-align: right;\n",
       "    }\n",
       "</style>\n",
       "<table border=\"1\" class=\"dataframe\">\n",
       "  <thead>\n",
       "    <tr style=\"text-align: right;\">\n",
       "      <th></th>\n",
       "      <th></th>\n",
       "      <th>Face_Value</th>\n",
       "    </tr>\n",
       "    <tr>\n",
       "      <th>Roll_Number</th>\n",
       "      <th>Die</th>\n",
       "      <th></th>\n",
       "    </tr>\n",
       "  </thead>\n",
       "  <tbody>\n",
       "    <tr>\n",
       "      <th>1</th>\n",
       "      <th>0</th>\n",
       "      <td>H</td>\n",
       "    </tr>\n",
       "    <tr>\n",
       "      <th>2</th>\n",
       "      <th>0</th>\n",
       "      <td>H</td>\n",
       "    </tr>\n",
       "    <tr>\n",
       "      <th>3</th>\n",
       "      <th>0</th>\n",
       "      <td>H</td>\n",
       "    </tr>\n",
       "    <tr>\n",
       "      <th>4</th>\n",
       "      <th>0</th>\n",
       "      <td>T</td>\n",
       "    </tr>\n",
       "    <tr>\n",
       "      <th>5</th>\n",
       "      <th>0</th>\n",
       "      <td>T</td>\n",
       "    </tr>\n",
       "    <tr>\n",
       "      <th>...</th>\n",
       "      <th>...</th>\n",
       "      <td>...</td>\n",
       "    </tr>\n",
       "    <tr>\n",
       "      <th>996</th>\n",
       "      <th>2</th>\n",
       "      <td>H</td>\n",
       "    </tr>\n",
       "    <tr>\n",
       "      <th>997</th>\n",
       "      <th>2</th>\n",
       "      <td>H</td>\n",
       "    </tr>\n",
       "    <tr>\n",
       "      <th>998</th>\n",
       "      <th>2</th>\n",
       "      <td>H</td>\n",
       "    </tr>\n",
       "    <tr>\n",
       "      <th>999</th>\n",
       "      <th>2</th>\n",
       "      <td>H</td>\n",
       "    </tr>\n",
       "    <tr>\n",
       "      <th>1000</th>\n",
       "      <th>2</th>\n",
       "      <td>H</td>\n",
       "    </tr>\n",
       "  </tbody>\n",
       "</table>\n",
       "<p>3000 rows × 1 columns</p>\n",
       "</div>"
      ],
      "text/plain": [
       "                Face_Value\n",
       "Roll_Number Die           \n",
       "1           0            H\n",
       "2           0            H\n",
       "3           0            H\n",
       "4           0            T\n",
       "5           0            T\n",
       "...                    ...\n",
       "996         2            H\n",
       "997         2            H\n",
       "998         2            H\n",
       "999         2            H\n",
       "1000        2            H\n",
       "\n",
       "[3000 rows x 1 columns]"
      ]
     },
     "execution_count": 17,
     "metadata": {},
     "output_type": "execute_result"
    }
   ],
   "source": [
    "game2.display(False)"
   ]
  },
  {
   "cell_type": "markdown",
   "id": "731bfeba-d70c-4c4e-b565-9e1f1f2fa801",
   "metadata": {},
   "source": [
    "### For each game, use an Analyzer object to determine the relative frequency of jackpots – getting either all Hs or all Ts."
   ]
  },
  {
   "cell_type": "code",
   "execution_count": 18,
   "id": "a0272974-6d03-4018-98d8-cabc78014c89",
   "metadata": {},
   "outputs": [],
   "source": [
    "somethingin = Analyzer(game1)"
   ]
  },
  {
   "cell_type": "code",
   "execution_count": 19,
   "id": "119c6d6f-a45f-4208-955a-9d0950103ade",
   "metadata": {},
   "outputs": [
    {
     "data": {
      "text/plain": [
       "249"
      ]
     },
     "execution_count": 19,
     "metadata": {},
     "output_type": "execute_result"
    }
   ],
   "source": [
    "somethingin.jackpot()"
   ]
  },
  {
   "cell_type": "code",
   "execution_count": 20,
   "id": "b9c55890-6314-4c75-82b4-ca74ebe25237",
   "metadata": {},
   "outputs": [
    {
     "data": {
      "text/html": [
       "<div>\n",
       "<style scoped>\n",
       "    .dataframe tbody tr th:only-of-type {\n",
       "        vertical-align: middle;\n",
       "    }\n",
       "\n",
       "    .dataframe tbody tr th {\n",
       "        vertical-align: top;\n",
       "    }\n",
       "\n",
       "    .dataframe thead th {\n",
       "        text-align: right;\n",
       "    }\n",
       "</style>\n",
       "<table border=\"1\" class=\"dataframe\">\n",
       "  <thead>\n",
       "    <tr style=\"text-align: right;\">\n",
       "      <th></th>\n",
       "      <th>0</th>\n",
       "      <th>1</th>\n",
       "      <th>2</th>\n",
       "    </tr>\n",
       "    <tr>\n",
       "      <th>Roll_Number</th>\n",
       "      <th></th>\n",
       "      <th></th>\n",
       "      <th></th>\n",
       "    </tr>\n",
       "  </thead>\n",
       "  <tbody>\n",
       "    <tr>\n",
       "      <th>2</th>\n",
       "      <td>T</td>\n",
       "      <td>T</td>\n",
       "      <td>T</td>\n",
       "    </tr>\n",
       "    <tr>\n",
       "      <th>9</th>\n",
       "      <td>T</td>\n",
       "      <td>T</td>\n",
       "      <td>T</td>\n",
       "    </tr>\n",
       "    <tr>\n",
       "      <th>12</th>\n",
       "      <td>T</td>\n",
       "      <td>T</td>\n",
       "      <td>T</td>\n",
       "    </tr>\n",
       "    <tr>\n",
       "      <th>20</th>\n",
       "      <td>T</td>\n",
       "      <td>T</td>\n",
       "      <td>T</td>\n",
       "    </tr>\n",
       "    <tr>\n",
       "      <th>28</th>\n",
       "      <td>H</td>\n",
       "      <td>H</td>\n",
       "      <td>H</td>\n",
       "    </tr>\n",
       "    <tr>\n",
       "      <th>...</th>\n",
       "      <td>...</td>\n",
       "      <td>...</td>\n",
       "      <td>...</td>\n",
       "    </tr>\n",
       "    <tr>\n",
       "      <th>980</th>\n",
       "      <td>T</td>\n",
       "      <td>T</td>\n",
       "      <td>T</td>\n",
       "    </tr>\n",
       "    <tr>\n",
       "      <th>993</th>\n",
       "      <td>T</td>\n",
       "      <td>T</td>\n",
       "      <td>T</td>\n",
       "    </tr>\n",
       "    <tr>\n",
       "      <th>994</th>\n",
       "      <td>T</td>\n",
       "      <td>T</td>\n",
       "      <td>T</td>\n",
       "    </tr>\n",
       "    <tr>\n",
       "      <th>997</th>\n",
       "      <td>H</td>\n",
       "      <td>H</td>\n",
       "      <td>H</td>\n",
       "    </tr>\n",
       "    <tr>\n",
       "      <th>1000</th>\n",
       "      <td>H</td>\n",
       "      <td>H</td>\n",
       "      <td>H</td>\n",
       "    </tr>\n",
       "  </tbody>\n",
       "</table>\n",
       "<p>249 rows × 3 columns</p>\n",
       "</div>"
      ],
      "text/plain": [
       "             0  1  2\n",
       "Roll_Number         \n",
       "2            T  T  T\n",
       "9            T  T  T\n",
       "12           T  T  T\n",
       "20           T  T  T\n",
       "28           H  H  H\n",
       "...         .. .. ..\n",
       "980          T  T  T\n",
       "993          T  T  T\n",
       "994          T  T  T\n",
       "997          H  H  H\n",
       "1000         H  H  H\n",
       "\n",
       "[249 rows x 3 columns]"
      ]
     },
     "execution_count": 20,
     "metadata": {},
     "output_type": "execute_result"
    }
   ],
   "source": [
    "somethingin.jack"
   ]
  },
  {
   "cell_type": "code",
   "execution_count": 21,
   "id": "e099e793-69c9-4f70-8ec2-fc60262a478f",
   "metadata": {},
   "outputs": [],
   "source": [
    "eleanor = Analyzer(game2)"
   ]
  },
  {
   "cell_type": "code",
   "execution_count": 22,
   "id": "6a16646f-5f79-4097-8133-d4c1a354db62",
   "metadata": {},
   "outputs": [
    {
     "data": {
      "text/plain": [
       "123"
      ]
     },
     "execution_count": 22,
     "metadata": {},
     "output_type": "execute_result"
    }
   ],
   "source": [
    "eleanor.jackpot()"
   ]
  },
  {
   "cell_type": "code",
   "execution_count": 23,
   "id": "a946ff29-16c2-497c-8af1-0548d2cdb5de",
   "metadata": {},
   "outputs": [
    {
     "name": "stdout",
     "output_type": "stream",
     "text": [
      "Game 1 had a relative frequency of:\n"
     ]
    },
    {
     "data": {
      "text/plain": [
       "0.249"
      ]
     },
     "execution_count": 23,
     "metadata": {},
     "output_type": "execute_result"
    }
   ],
   "source": [
    "print('Game 1 had a relative frequency of:') \n",
    "game1freq = 249/1000\n",
    "game1freq"
   ]
  },
  {
   "cell_type": "code",
   "execution_count": 24,
   "id": "4540389e-a428-4ff3-b87f-5a9356b1f8ce",
   "metadata": {},
   "outputs": [
    {
     "name": "stdout",
     "output_type": "stream",
     "text": [
      "Game 2 had a relative frequency of:\n"
     ]
    },
    {
     "data": {
      "text/plain": [
       "0.123"
      ]
     },
     "execution_count": 24,
     "metadata": {},
     "output_type": "execute_result"
    }
   ],
   "source": [
    "print('Game 2 had a relative frequency of:') \n",
    "game2freq = 123/1000\n",
    "game2freq"
   ]
  },
  {
   "cell_type": "markdown",
   "id": "6c0ebbc4-bac3-4e16-b7e8-4647819387c6",
   "metadata": {},
   "source": [
    "### Show your results, comparing the two relative frequencies, in a simple bar chart."
   ]
  },
  {
   "cell_type": "code",
   "execution_count": 26,
   "id": "39ef27ca-2040-4cff-be8a-d63d80325eee",
   "metadata": {},
   "outputs": [],
   "source": [
    "import matplotlib.pyplot as plt"
   ]
  },
  {
   "cell_type": "code",
   "execution_count": 27,
   "id": "27cf7396-13fe-4c38-b0af-68bdd209b598",
   "metadata": {},
   "outputs": [
    {
     "data": {
      "image/png": "[encoded data removed]",
      "text/plain": [
       "<Figure size 432x288 with 1 Axes>"
      ]
     },
     "metadata": {
      "needs_background": "light"
     },
     "output_type": "display_data"
    }
   ],
   "source": [
    "Game = ['Game 1', 'Game 2']\n",
    "Frequency = [0.249,0.123]\n",
    "\n",
    "plt.bar(Game,Frequency)\n",
    "plt.title('Jackpot Frequency')\n",
    "plt.xlabel('Game')\n",
    "plt.ylabel('Frequency')\n",
    "plt.show()"
   ]
  },
  {
   "cell_type": "markdown",
   "id": "609f1047-e123-4c88-81e5-e7434dc92264",
   "metadata": {},
   "source": [
    "## A 6-sided die"
   ]
  },
  {
   "cell_type": "markdown",
   "id": "eb1491c7-c508-4626-80da-5a3c478b034d",
   "metadata": {},
   "source": [
    "Create a fair die and two unfair dice, all of six sides with the faces 1 through 6. <br> \n",
    "- One unfair die (Type 1) will weight 6 five times more than the others (i.e. it has weight of 5 and the others a weight of 1 each). \n",
    "- The other unfair die (Type 2) will  weight 1 five times more than the others."
   ]
  },
  {
   "cell_type": "code",
   "execution_count": 28,
   "id": "fdb0017f-a0d5-47d6-bbe2-70e568526673",
   "metadata": {},
   "outputs": [],
   "source": [
    "fd1 = Die([1,2,3,4,5,6])\n",
    "dt1 = Die([1,2,3,4,5,6])\n",
    "dt2 = Die([1,2,3,4,5,6])"
   ]
  },
  {
   "cell_type": "code",
   "execution_count": 29,
   "id": "a9bbdc42-6a42-43e2-928d-75504097a5db",
   "metadata": {},
   "outputs": [],
   "source": [
    "dt1.change_the_weight(6,5)"
   ]
  },
  {
   "cell_type": "code",
   "execution_count": 30,
   "id": "d59d3537-9fee-4533-85a4-391328bb0982",
   "metadata": {},
   "outputs": [
    {
     "name": "stdout",
     "output_type": "stream",
     "text": [
      "The current state faces and weights:\n"
     ]
    },
    {
     "data": {
      "text/html": [
       "<div>\n",
       "<style scoped>\n",
       "    .dataframe tbody tr th:only-of-type {\n",
       "        vertical-align: middle;\n",
       "    }\n",
       "\n",
       "    .dataframe tbody tr th {\n",
       "        vertical-align: top;\n",
       "    }\n",
       "\n",
       "    .dataframe thead th {\n",
       "        text-align: right;\n",
       "    }\n",
       "</style>\n",
       "<table border=\"1\" class=\"dataframe\">\n",
       "  <thead>\n",
       "    <tr style=\"text-align: right;\">\n",
       "      <th></th>\n",
       "      <th>faces</th>\n",
       "      <th>weights</th>\n",
       "    </tr>\n",
       "  </thead>\n",
       "  <tbody>\n",
       "    <tr>\n",
       "      <th>0</th>\n",
       "      <td>1</td>\n",
       "      <td>1.0</td>\n",
       "    </tr>\n",
       "    <tr>\n",
       "      <th>1</th>\n",
       "      <td>2</td>\n",
       "      <td>1.0</td>\n",
       "    </tr>\n",
       "    <tr>\n",
       "      <th>2</th>\n",
       "      <td>3</td>\n",
       "      <td>1.0</td>\n",
       "    </tr>\n",
       "    <tr>\n",
       "      <th>3</th>\n",
       "      <td>4</td>\n",
       "      <td>1.0</td>\n",
       "    </tr>\n",
       "    <tr>\n",
       "      <th>4</th>\n",
       "      <td>5</td>\n",
       "      <td>1.0</td>\n",
       "    </tr>\n",
       "    <tr>\n",
       "      <th>5</th>\n",
       "      <td>6</td>\n",
       "      <td>5.0</td>\n",
       "    </tr>\n",
       "  </tbody>\n",
       "</table>\n",
       "</div>"
      ],
      "text/plain": [
       "   faces  weights\n",
       "0      1      1.0\n",
       "1      2      1.0\n",
       "2      3      1.0\n",
       "3      4      1.0\n",
       "4      5      1.0\n",
       "5      6      5.0"
      ]
     },
     "execution_count": 30,
     "metadata": {},
     "output_type": "execute_result"
    }
   ],
   "source": [
    "dt1.show()"
   ]
  },
  {
   "cell_type": "code",
   "execution_count": 31,
   "id": "30457fc0-d4f6-4102-a72b-cf34a02b7624",
   "metadata": {},
   "outputs": [],
   "source": [
    "dt2.change_the_weight(1,5)"
   ]
  },
  {
   "cell_type": "code",
   "execution_count": 32,
   "id": "e9628cb3-39c7-4400-ba3a-6a52b6bd4b6f",
   "metadata": {},
   "outputs": [
    {
     "name": "stdout",
     "output_type": "stream",
     "text": [
      "The current state faces and weights:\n"
     ]
    },
    {
     "data": {
      "text/html": [
       "<div>\n",
       "<style scoped>\n",
       "    .dataframe tbody tr th:only-of-type {\n",
       "        vertical-align: middle;\n",
       "    }\n",
       "\n",
       "    .dataframe tbody tr th {\n",
       "        vertical-align: top;\n",
       "    }\n",
       "\n",
       "    .dataframe thead th {\n",
       "        text-align: right;\n",
       "    }\n",
       "</style>\n",
       "<table border=\"1\" class=\"dataframe\">\n",
       "  <thead>\n",
       "    <tr style=\"text-align: right;\">\n",
       "      <th></th>\n",
       "      <th>faces</th>\n",
       "      <th>weights</th>\n",
       "    </tr>\n",
       "  </thead>\n",
       "  <tbody>\n",
       "    <tr>\n",
       "      <th>0</th>\n",
       "      <td>1</td>\n",
       "      <td>5.0</td>\n",
       "    </tr>\n",
       "    <tr>\n",
       "      <th>1</th>\n",
       "      <td>2</td>\n",
       "      <td>1.0</td>\n",
       "    </tr>\n",
       "    <tr>\n",
       "      <th>2</th>\n",
       "      <td>3</td>\n",
       "      <td>1.0</td>\n",
       "    </tr>\n",
       "    <tr>\n",
       "      <th>3</th>\n",
       "      <td>4</td>\n",
       "      <td>1.0</td>\n",
       "    </tr>\n",
       "    <tr>\n",
       "      <th>4</th>\n",
       "      <td>5</td>\n",
       "      <td>1.0</td>\n",
       "    </tr>\n",
       "    <tr>\n",
       "      <th>5</th>\n",
       "      <td>6</td>\n",
       "      <td>1.0</td>\n",
       "    </tr>\n",
       "  </tbody>\n",
       "</table>\n",
       "</div>"
      ],
      "text/plain": [
       "   faces  weights\n",
       "0      1      5.0\n",
       "1      2      1.0\n",
       "2      3      1.0\n",
       "3      4      1.0\n",
       "4      5      1.0\n",
       "5      6      1.0"
      ]
     },
     "execution_count": 32,
     "metadata": {},
     "output_type": "execute_result"
    }
   ],
   "source": [
    "dt2.show()"
   ]
  },
  {
   "cell_type": "markdown",
   "id": "5fa815c2-8e84-4f57-acab-ccfabcfc7ed6",
   "metadata": {},
   "source": [
    "### Play a game of 10000 rolls with 5 fair dice."
   ]
  },
  {
   "cell_type": "code",
   "execution_count": 33,
   "id": "4c3acfe2-9d77-43af-990b-95b4ae8726db",
   "metadata": {},
   "outputs": [],
   "source": [
    "game3 = DieGame([fd1,fd1,fd1,fd1,fd1])"
   ]
  },
  {
   "cell_type": "code",
   "execution_count": 34,
   "id": "3f2c067d-f1db-4e40-83e0-a61711563d9f",
   "metadata": {},
   "outputs": [],
   "source": [
    "game3.play2(10000)"
   ]
  },
  {
   "cell_type": "code",
   "execution_count": 35,
   "id": "d36ba417-e125-4a87-9d6c-a98a973d37d4",
   "metadata": {},
   "outputs": [
    {
     "data": {
      "text/html": [
       "<div>\n",
       "<style scoped>\n",
       "    .dataframe tbody tr th:only-of-type {\n",
       "        vertical-align: middle;\n",
       "    }\n",
       "\n",
       "    .dataframe tbody tr th {\n",
       "        vertical-align: top;\n",
       "    }\n",
       "\n",
       "    .dataframe thead th {\n",
       "        text-align: right;\n",
       "    }\n",
       "</style>\n",
       "<table border=\"1\" class=\"dataframe\">\n",
       "  <thead>\n",
       "    <tr style=\"text-align: right;\">\n",
       "      <th></th>\n",
       "      <th>0</th>\n",
       "      <th>1</th>\n",
       "      <th>2</th>\n",
       "      <th>3</th>\n",
       "      <th>4</th>\n",
       "    </tr>\n",
       "    <tr>\n",
       "      <th>Roll_Number</th>\n",
       "      <th></th>\n",
       "      <th></th>\n",
       "      <th></th>\n",
       "      <th></th>\n",
       "      <th></th>\n",
       "    </tr>\n",
       "  </thead>\n",
       "  <tbody>\n",
       "    <tr>\n",
       "      <th>1</th>\n",
       "      <td>2</td>\n",
       "      <td>4</td>\n",
       "      <td>2</td>\n",
       "      <td>4</td>\n",
       "      <td>1</td>\n",
       "    </tr>\n",
       "    <tr>\n",
       "      <th>2</th>\n",
       "      <td>4</td>\n",
       "      <td>6</td>\n",
       "      <td>2</td>\n",
       "      <td>5</td>\n",
       "      <td>2</td>\n",
       "    </tr>\n",
       "    <tr>\n",
       "      <th>3</th>\n",
       "      <td>3</td>\n",
       "      <td>4</td>\n",
       "      <td>4</td>\n",
       "      <td>5</td>\n",
       "      <td>3</td>\n",
       "    </tr>\n",
       "    <tr>\n",
       "      <th>4</th>\n",
       "      <td>2</td>\n",
       "      <td>2</td>\n",
       "      <td>2</td>\n",
       "      <td>4</td>\n",
       "      <td>6</td>\n",
       "    </tr>\n",
       "    <tr>\n",
       "      <th>5</th>\n",
       "      <td>2</td>\n",
       "      <td>5</td>\n",
       "      <td>3</td>\n",
       "      <td>5</td>\n",
       "      <td>5</td>\n",
       "    </tr>\n",
       "    <tr>\n",
       "      <th>...</th>\n",
       "      <td>...</td>\n",
       "      <td>...</td>\n",
       "      <td>...</td>\n",
       "      <td>...</td>\n",
       "      <td>...</td>\n",
       "    </tr>\n",
       "    <tr>\n",
       "      <th>9996</th>\n",
       "      <td>2</td>\n",
       "      <td>6</td>\n",
       "      <td>2</td>\n",
       "      <td>1</td>\n",
       "      <td>3</td>\n",
       "    </tr>\n",
       "    <tr>\n",
       "      <th>9997</th>\n",
       "      <td>6</td>\n",
       "      <td>2</td>\n",
       "      <td>4</td>\n",
       "      <td>5</td>\n",
       "      <td>2</td>\n",
       "    </tr>\n",
       "    <tr>\n",
       "      <th>9998</th>\n",
       "      <td>4</td>\n",
       "      <td>2</td>\n",
       "      <td>1</td>\n",
       "      <td>1</td>\n",
       "      <td>1</td>\n",
       "    </tr>\n",
       "    <tr>\n",
       "      <th>9999</th>\n",
       "      <td>3</td>\n",
       "      <td>2</td>\n",
       "      <td>6</td>\n",
       "      <td>4</td>\n",
       "      <td>5</td>\n",
       "    </tr>\n",
       "    <tr>\n",
       "      <th>10000</th>\n",
       "      <td>4</td>\n",
       "      <td>3</td>\n",
       "      <td>3</td>\n",
       "      <td>2</td>\n",
       "      <td>6</td>\n",
       "    </tr>\n",
       "  </tbody>\n",
       "</table>\n",
       "<p>10000 rows × 5 columns</p>\n",
       "</div>"
      ],
      "text/plain": [
       "             0  1  2  3  4\n",
       "Roll_Number               \n",
       "1            2  4  2  4  1\n",
       "2            4  6  2  5  2\n",
       "3            3  4  4  5  3\n",
       "4            2  2  2  4  6\n",
       "5            2  5  3  5  5\n",
       "...         .. .. .. .. ..\n",
       "9996         2  6  2  1  3\n",
       "9997         6  2  4  5  2\n",
       "9998         4  2  1  1  1\n",
       "9999         3  2  6  4  5\n",
       "10000        4  3  3  2  6\n",
       "\n",
       "[10000 rows x 5 columns]"
      ]
     },
     "execution_count": 35,
     "metadata": {},
     "output_type": "execute_result"
    }
   ],
   "source": [
    "game3.display()"
   ]
  },
  {
   "cell_type": "markdown",
   "id": "d8aa8855-a4df-492e-935a-06df22144d44",
   "metadata": {},
   "source": [
    "### Play a game of 10000 rolls with 2 unfair dice of type 1, 1 unfair die of type 2, and the rest fair dice."
   ]
  },
  {
   "cell_type": "code",
   "execution_count": 36,
   "id": "bda35659-6992-481e-aea0-9ecd7fbeefec",
   "metadata": {},
   "outputs": [],
   "source": [
    "game4 = DieGame([dt1,dt1,dt2,fd1,fd1])"
   ]
  },
  {
   "cell_type": "code",
   "execution_count": 37,
   "id": "4f311e98-aa0f-4642-abef-2c9bdd9f55fd",
   "metadata": {},
   "outputs": [],
   "source": [
    "game4.play2(10000)"
   ]
  },
  {
   "cell_type": "code",
   "execution_count": 38,
   "id": "6a62b51c-5f55-463c-bff5-b712f8c10b28",
   "metadata": {},
   "outputs": [
    {
     "data": {
      "text/html": [
       "<div>\n",
       "<style scoped>\n",
       "    .dataframe tbody tr th:only-of-type {\n",
       "        vertical-align: middle;\n",
       "    }\n",
       "\n",
       "    .dataframe tbody tr th {\n",
       "        vertical-align: top;\n",
       "    }\n",
       "\n",
       "    .dataframe thead th {\n",
       "        text-align: right;\n",
       "    }\n",
       "</style>\n",
       "<table border=\"1\" class=\"dataframe\">\n",
       "  <thead>\n",
       "    <tr style=\"text-align: right;\">\n",
       "      <th></th>\n",
       "      <th>0</th>\n",
       "      <th>1</th>\n",
       "      <th>2</th>\n",
       "      <th>3</th>\n",
       "      <th>4</th>\n",
       "    </tr>\n",
       "    <tr>\n",
       "      <th>Roll_Number</th>\n",
       "      <th></th>\n",
       "      <th></th>\n",
       "      <th></th>\n",
       "      <th></th>\n",
       "      <th></th>\n",
       "    </tr>\n",
       "  </thead>\n",
       "  <tbody>\n",
       "    <tr>\n",
       "      <th>1</th>\n",
       "      <td>3</td>\n",
       "      <td>6</td>\n",
       "      <td>1</td>\n",
       "      <td>5</td>\n",
       "      <td>4</td>\n",
       "    </tr>\n",
       "    <tr>\n",
       "      <th>2</th>\n",
       "      <td>2</td>\n",
       "      <td>3</td>\n",
       "      <td>1</td>\n",
       "      <td>5</td>\n",
       "      <td>5</td>\n",
       "    </tr>\n",
       "    <tr>\n",
       "      <th>3</th>\n",
       "      <td>2</td>\n",
       "      <td>6</td>\n",
       "      <td>3</td>\n",
       "      <td>3</td>\n",
       "      <td>1</td>\n",
       "    </tr>\n",
       "    <tr>\n",
       "      <th>4</th>\n",
       "      <td>2</td>\n",
       "      <td>6</td>\n",
       "      <td>3</td>\n",
       "      <td>2</td>\n",
       "      <td>3</td>\n",
       "    </tr>\n",
       "    <tr>\n",
       "      <th>5</th>\n",
       "      <td>4</td>\n",
       "      <td>1</td>\n",
       "      <td>1</td>\n",
       "      <td>5</td>\n",
       "      <td>3</td>\n",
       "    </tr>\n",
       "    <tr>\n",
       "      <th>...</th>\n",
       "      <td>...</td>\n",
       "      <td>...</td>\n",
       "      <td>...</td>\n",
       "      <td>...</td>\n",
       "      <td>...</td>\n",
       "    </tr>\n",
       "    <tr>\n",
       "      <th>9996</th>\n",
       "      <td>3</td>\n",
       "      <td>6</td>\n",
       "      <td>3</td>\n",
       "      <td>3</td>\n",
       "      <td>6</td>\n",
       "    </tr>\n",
       "    <tr>\n",
       "      <th>9997</th>\n",
       "      <td>6</td>\n",
       "      <td>6</td>\n",
       "      <td>1</td>\n",
       "      <td>5</td>\n",
       "      <td>5</td>\n",
       "    </tr>\n",
       "    <tr>\n",
       "      <th>9998</th>\n",
       "      <td>6</td>\n",
       "      <td>6</td>\n",
       "      <td>1</td>\n",
       "      <td>2</td>\n",
       "      <td>5</td>\n",
       "    </tr>\n",
       "    <tr>\n",
       "      <th>9999</th>\n",
       "      <td>6</td>\n",
       "      <td>6</td>\n",
       "      <td>1</td>\n",
       "      <td>6</td>\n",
       "      <td>1</td>\n",
       "    </tr>\n",
       "    <tr>\n",
       "      <th>10000</th>\n",
       "      <td>4</td>\n",
       "      <td>6</td>\n",
       "      <td>1</td>\n",
       "      <td>6</td>\n",
       "      <td>4</td>\n",
       "    </tr>\n",
       "  </tbody>\n",
       "</table>\n",
       "<p>10000 rows × 5 columns</p>\n",
       "</div>"
      ],
      "text/plain": [
       "             0  1  2  3  4\n",
       "Roll_Number               \n",
       "1            3  6  1  5  4\n",
       "2            2  3  1  5  5\n",
       "3            2  6  3  3  1\n",
       "4            2  6  3  2  3\n",
       "5            4  1  1  5  3\n",
       "...         .. .. .. .. ..\n",
       "9996         3  6  3  3  6\n",
       "9997         6  6  1  5  5\n",
       "9998         6  6  1  2  5\n",
       "9999         6  6  1  6  1\n",
       "10000        4  6  1  6  4\n",
       "\n",
       "[10000 rows x 5 columns]"
      ]
     },
     "execution_count": 38,
     "metadata": {},
     "output_type": "execute_result"
    }
   ],
   "source": [
    "game4.display()"
   ]
  },
  {
   "cell_type": "markdown",
   "id": "153e3764-34be-4bb3-93cc-7c450ce926c8",
   "metadata": {},
   "source": [
    "### For each game, use an Analyzer object to determine the relative frequency of jackpots and show your results, comparing the two relative frequencies, in a simple bar chart."
   ]
  },
  {
   "cell_type": "code",
   "execution_count": 39,
   "id": "16d11b5d-7d0e-491c-93e3-dac04cb38e89",
   "metadata": {},
   "outputs": [],
   "source": [
    "norwegianw = Analyzer(game3)\n",
    "yesterday = Analyzer(game4)"
   ]
  },
  {
   "cell_type": "code",
   "execution_count": 40,
   "id": "6e5d458b-89f7-4b63-b668-fb9ef9668457",
   "metadata": {},
   "outputs": [
    {
     "data": {
      "text/plain": [
       "1"
      ]
     },
     "execution_count": 40,
     "metadata": {},
     "output_type": "execute_result"
    }
   ],
   "source": [
    "norwegianw.jackpot()"
   ]
  },
  {
   "cell_type": "code",
   "execution_count": 41,
   "id": "c96d0ba6-5770-4a69-97d3-f20bae084389",
   "metadata": {},
   "outputs": [
    {
     "data": {
      "text/html": [
       "<div>\n",
       "<style scoped>\n",
       "    .dataframe tbody tr th:only-of-type {\n",
       "        vertical-align: middle;\n",
       "    }\n",
       "\n",
       "    .dataframe tbody tr th {\n",
       "        vertical-align: top;\n",
       "    }\n",
       "\n",
       "    .dataframe thead th {\n",
       "        text-align: right;\n",
       "    }\n",
       "</style>\n",
       "<table border=\"1\" class=\"dataframe\">\n",
       "  <thead>\n",
       "    <tr style=\"text-align: right;\">\n",
       "      <th></th>\n",
       "      <th>0</th>\n",
       "      <th>1</th>\n",
       "      <th>2</th>\n",
       "      <th>3</th>\n",
       "      <th>4</th>\n",
       "    </tr>\n",
       "    <tr>\n",
       "      <th>Roll_Number</th>\n",
       "      <th></th>\n",
       "      <th></th>\n",
       "      <th></th>\n",
       "      <th></th>\n",
       "      <th></th>\n",
       "    </tr>\n",
       "  </thead>\n",
       "  <tbody>\n",
       "    <tr>\n",
       "      <th>4263</th>\n",
       "      <td>6</td>\n",
       "      <td>6</td>\n",
       "      <td>6</td>\n",
       "      <td>6</td>\n",
       "      <td>6</td>\n",
       "    </tr>\n",
       "  </tbody>\n",
       "</table>\n",
       "</div>"
      ],
      "text/plain": [
       "             0  1  2  3  4\n",
       "Roll_Number               \n",
       "4263         6  6  6  6  6"
      ]
     },
     "execution_count": 41,
     "metadata": {},
     "output_type": "execute_result"
    }
   ],
   "source": [
    "norwegianw.jack"
   ]
  },
  {
   "cell_type": "code",
   "execution_count": 42,
   "id": "e4de48f0-6a27-43e5-94ce-060792fcb7f3",
   "metadata": {},
   "outputs": [
    {
     "data": {
      "text/plain": [
       "9"
      ]
     },
     "execution_count": 42,
     "metadata": {},
     "output_type": "execute_result"
    }
   ],
   "source": [
    "yesterday.jackpot()"
   ]
  },
  {
   "cell_type": "code",
   "execution_count": 43,
   "id": "da269530-1bb2-4888-a345-b4e15c329ca5",
   "metadata": {},
   "outputs": [
    {
     "data": {
      "text/html": [
       "<div>\n",
       "<style scoped>\n",
       "    .dataframe tbody tr th:only-of-type {\n",
       "        vertical-align: middle;\n",
       "    }\n",
       "\n",
       "    .dataframe tbody tr th {\n",
       "        vertical-align: top;\n",
       "    }\n",
       "\n",
       "    .dataframe thead th {\n",
       "        text-align: right;\n",
       "    }\n",
       "</style>\n",
       "<table border=\"1\" class=\"dataframe\">\n",
       "  <thead>\n",
       "    <tr style=\"text-align: right;\">\n",
       "      <th></th>\n",
       "      <th>0</th>\n",
       "      <th>1</th>\n",
       "      <th>2</th>\n",
       "      <th>3</th>\n",
       "      <th>4</th>\n",
       "    </tr>\n",
       "    <tr>\n",
       "      <th>Roll_Number</th>\n",
       "      <th></th>\n",
       "      <th></th>\n",
       "      <th></th>\n",
       "      <th></th>\n",
       "      <th></th>\n",
       "    </tr>\n",
       "  </thead>\n",
       "  <tbody>\n",
       "    <tr>\n",
       "      <th>268</th>\n",
       "      <td>1</td>\n",
       "      <td>1</td>\n",
       "      <td>1</td>\n",
       "      <td>1</td>\n",
       "      <td>1</td>\n",
       "    </tr>\n",
       "    <tr>\n",
       "      <th>3147</th>\n",
       "      <td>6</td>\n",
       "      <td>6</td>\n",
       "      <td>6</td>\n",
       "      <td>6</td>\n",
       "      <td>6</td>\n",
       "    </tr>\n",
       "    <tr>\n",
       "      <th>4409</th>\n",
       "      <td>4</td>\n",
       "      <td>4</td>\n",
       "      <td>4</td>\n",
       "      <td>4</td>\n",
       "      <td>4</td>\n",
       "    </tr>\n",
       "    <tr>\n",
       "      <th>4537</th>\n",
       "      <td>6</td>\n",
       "      <td>6</td>\n",
       "      <td>6</td>\n",
       "      <td>6</td>\n",
       "      <td>6</td>\n",
       "    </tr>\n",
       "    <tr>\n",
       "      <th>6018</th>\n",
       "      <td>3</td>\n",
       "      <td>3</td>\n",
       "      <td>3</td>\n",
       "      <td>3</td>\n",
       "      <td>3</td>\n",
       "    </tr>\n",
       "    <tr>\n",
       "      <th>7162</th>\n",
       "      <td>2</td>\n",
       "      <td>2</td>\n",
       "      <td>2</td>\n",
       "      <td>2</td>\n",
       "      <td>2</td>\n",
       "    </tr>\n",
       "    <tr>\n",
       "      <th>7844</th>\n",
       "      <td>6</td>\n",
       "      <td>6</td>\n",
       "      <td>6</td>\n",
       "      <td>6</td>\n",
       "      <td>6</td>\n",
       "    </tr>\n",
       "    <tr>\n",
       "      <th>8985</th>\n",
       "      <td>6</td>\n",
       "      <td>6</td>\n",
       "      <td>6</td>\n",
       "      <td>6</td>\n",
       "      <td>6</td>\n",
       "    </tr>\n",
       "    <tr>\n",
       "      <th>9792</th>\n",
       "      <td>6</td>\n",
       "      <td>6</td>\n",
       "      <td>6</td>\n",
       "      <td>6</td>\n",
       "      <td>6</td>\n",
       "    </tr>\n",
       "  </tbody>\n",
       "</table>\n",
       "</div>"
      ],
      "text/plain": [
       "             0  1  2  3  4\n",
       "Roll_Number               \n",
       "268          1  1  1  1  1\n",
       "3147         6  6  6  6  6\n",
       "4409         4  4  4  4  4\n",
       "4537         6  6  6  6  6\n",
       "6018         3  3  3  3  3\n",
       "7162         2  2  2  2  2\n",
       "7844         6  6  6  6  6\n",
       "8985         6  6  6  6  6\n",
       "9792         6  6  6  6  6"
      ]
     },
     "execution_count": 43,
     "metadata": {},
     "output_type": "execute_result"
    }
   ],
   "source": [
    "yesterday.jack"
   ]
  },
  {
   "cell_type": "code",
   "execution_count": 45,
   "id": "2b741632-bfd2-4db2-b35e-c9236ad0e926",
   "metadata": {},
   "outputs": [
    {
     "name": "stdout",
     "output_type": "stream",
     "text": [
      "Game 3 had a relative frequency of:\n"
     ]
    },
    {
     "data": {
      "text/plain": [
       "0.0001"
      ]
     },
     "execution_count": 45,
     "metadata": {},
     "output_type": "execute_result"
    }
   ],
   "source": [
    "print('Game 3 had a relative frequency of:') \n",
    "game3freq = 1/10000\n",
    "game3freq"
   ]
  },
  {
   "cell_type": "code",
   "execution_count": 44,
   "id": "5f58e7c0-1882-49fa-b9b0-62cff7fee6a6",
   "metadata": {},
   "outputs": [
    {
     "name": "stdout",
     "output_type": "stream",
     "text": [
      "Game 4 had a relative frequency of:\n"
     ]
    },
    {
     "data": {
      "text/plain": [
       "0.0009"
      ]
     },
     "execution_count": 44,
     "metadata": {},
     "output_type": "execute_result"
    }
   ],
   "source": [
    "print('Game 4 had a relative frequency of:') \n",
    "game4freq = 9/10000\n",
    "game4freq"
   ]
  },
  {
   "cell_type": "code",
   "execution_count": 46,
   "id": "de75d3e6-ab76-4d78-b0a0-c5d215f91acf",
   "metadata": {},
   "outputs": [
    {
     "data": {
      "image/png": "[encoded data removed]",
      "text/plain": [
       "<Figure size 432x288 with 1 Axes>"
      ]
     },
     "metadata": {
      "needs_background": "light"
     },
     "output_type": "display_data"
    }
   ],
   "source": [
    "Game = ['Game 3', 'Game 4']\n",
    "Frequency = [0.0001,0.0009]\n",
    "\n",
    "plt.bar(Game,Frequency)\n",
    "plt.title('Jackpot Frequency')\n",
    "plt.xlabel('Game')\n",
    "plt.ylabel('Frequency')\n",
    "plt.show()"
   ]
  },
  {
   "cell_type": "markdown",
   "id": "0deb33fb-698c-49f4-b50f-917326f7721b",
   "metadata": {},
   "source": [
    "### Also compute 10 most frequent combinations of faces for each game. Plot each of these as bar charts."
   ]
  },
  {
   "cell_type": "code",
   "execution_count": 52,
   "id": "f0a42f77-4fde-49ac-82fd-0b99f2feac69",
   "metadata": {},
   "outputs": [
    {
     "data": {
      "text/plain": [
       "<AxesSubplot:xlabel='0,1,2,3,4'>"
      ]
     },
     "execution_count": 52,
     "metadata": {},
     "output_type": "execute_result"
    },
    {
     "data": {
      "image/png": "[encoded data removed]",
      "text/plain": [
       "<Figure size 432x288 with 1 Axes>"
      ]
     },
     "metadata": {
      "needs_background": "light"
     },
     "output_type": "display_data"
    }
   ],
   "source": [
    "norwegianw.combo().nlargest(n=10,columns = ['Number of Instances']).plot.bar()"
   ]
  },
  {
   "cell_type": "code",
   "execution_count": 53,
   "id": "b6a3c3e4-2ebc-48dc-8a02-f2f55ca2a7c8",
   "metadata": {},
   "outputs": [
    {
     "data": {
      "text/plain": [
       "<AxesSubplot:xlabel='0,1,2,3,4'>"
      ]
     },
     "execution_count": 53,
     "metadata": {},
     "output_type": "execute_result"
    },
    {
     "data": {
      "image/png": "[encoded data removed]",
      "text/plain": [
       "<Figure size 432x288 with 1 Axes>"
      ]
     },
     "metadata": {
      "needs_background": "light"
     },
     "output_type": "display_data"
    }
   ],
   "source": [
    "yesterday.combo().nlargest(n=10,columns = ['Number of Instances']).plot.bar()"
   ]
  },
  {
   "cell_type": "markdown",
   "id": "5e239e4b-4caf-4844-bce4-26ef3df23806",
   "metadata": {},
   "source": [
    "## Letters of the Roman Alphabet"
   ]
  },
  {
   "cell_type": "markdown",
   "id": "27e8d74c-589b-44ca-a523-e31bcdb66ed3",
   "metadata": {},
   "source": [
    "### Create a \"die\" of letters from a to z with weights based on their frequency of usage. See Appendix for these weights."
   ]
  },
  {
   "cell_type": "code",
   "execution_count": 54,
   "id": "c6441253-f666-4e15-b6a6-eaca5e8acf54",
   "metadata": {},
   "outputs": [],
   "source": [
    "alpha = Die(['A','B','C','D','E','F','G','H','I','J','K','L','M','N','O','P','Q','R','S','T','U','V','W','X','Y','Z'])"
   ]
  },
  {
   "cell_type": "code",
   "execution_count": 55,
   "id": "b3837f84-84ed-4028-bab9-153599923d34",
   "metadata": {},
   "outputs": [],
   "source": [
    "alpha.change_the_weight('A',8.4966)"
   ]
  },
  {
   "cell_type": "code",
   "execution_count": 56,
   "id": "074e3165-c905-4d6f-a71a-1bfe40ce04e6",
   "metadata": {},
   "outputs": [],
   "source": [
    "alpha.change_the_weight('B',2.0720)"
   ]
  },
  {
   "cell_type": "code",
   "execution_count": 57,
   "id": "37d802e5-2082-488b-9e0e-35b0af53b822",
   "metadata": {},
   "outputs": [],
   "source": [
    "alpha.change_the_weight('C',4.5388)"
   ]
  },
  {
   "cell_type": "code",
   "execution_count": 58,
   "id": "cde945ee-2ece-477f-8c6f-e177d1decd0a",
   "metadata": {},
   "outputs": [],
   "source": [
    "alpha.change_the_weight('D',3.3844)"
   ]
  },
  {
   "cell_type": "code",
   "execution_count": 59,
   "id": "d256006d-6bdb-4f18-a554-68da28d22d87",
   "metadata": {},
   "outputs": [],
   "source": [
    "alpha.change_the_weight('E',11.1607)"
   ]
  },
  {
   "cell_type": "code",
   "execution_count": 60,
   "id": "75e5a65e-63cb-4d92-bcd2-d3fdb5847da2",
   "metadata": {},
   "outputs": [],
   "source": [
    "alpha.change_the_weight('F',1.8121)"
   ]
  },
  {
   "cell_type": "code",
   "execution_count": 61,
   "id": "589535a0-e979-4853-b18b-e570d8fb3ad3",
   "metadata": {},
   "outputs": [],
   "source": [
    "alpha.change_the_weight('G',2.4705)"
   ]
  },
  {
   "cell_type": "code",
   "execution_count": 62,
   "id": "5bf78e7f-0235-42d0-b33b-c073779402b1",
   "metadata": {},
   "outputs": [],
   "source": [
    "alpha.change_the_weight('H',3.0034)"
   ]
  },
  {
   "cell_type": "code",
   "execution_count": 63,
   "id": "81c1cbcc-5d19-443b-89a6-f342eec1f609",
   "metadata": {},
   "outputs": [],
   "source": [
    "alpha.change_the_weight('I',7.5448)"
   ]
  },
  {
   "cell_type": "code",
   "execution_count": 64,
   "id": "49768deb-bcca-4d61-b55b-50d2ac25c4d0",
   "metadata": {},
   "outputs": [],
   "source": [
    "alpha.change_the_weight('J',0.1965)"
   ]
  },
  {
   "cell_type": "code",
   "execution_count": 65,
   "id": "1d160919-27e4-4163-8ddc-986b07977a01",
   "metadata": {},
   "outputs": [],
   "source": [
    "alpha.change_the_weight('K',1.1016)"
   ]
  },
  {
   "cell_type": "code",
   "execution_count": 66,
   "id": "b384fb6a-4330-4173-99a0-3c735df43217",
   "metadata": {},
   "outputs": [],
   "source": [
    "alpha.change_the_weight('L',5.4893)"
   ]
  },
  {
   "cell_type": "code",
   "execution_count": 67,
   "id": "ffbd434e-abd9-4de7-b10e-749d609a2341",
   "metadata": {},
   "outputs": [],
   "source": [
    "alpha.change_the_weight('M',3.0129)"
   ]
  },
  {
   "cell_type": "code",
   "execution_count": 68,
   "id": "f7fa9eed-4835-4ee8-a88e-3f394b769a37",
   "metadata": {},
   "outputs": [],
   "source": [
    "alpha.change_the_weight('N',6.6544)"
   ]
  },
  {
   "cell_type": "code",
   "execution_count": 69,
   "id": "ece4d0bc-c98e-4c18-a017-71562dc46e4b",
   "metadata": {},
   "outputs": [],
   "source": [
    "alpha.change_the_weight('O',7.1635)"
   ]
  },
  {
   "cell_type": "code",
   "execution_count": 70,
   "id": "ffc38857-f8c2-4704-b81b-3f65a16b8400",
   "metadata": {},
   "outputs": [],
   "source": [
    "alpha.change_the_weight('P',3.1671)"
   ]
  },
  {
   "cell_type": "code",
   "execution_count": 71,
   "id": "7c0ed94b-8167-43da-ad5e-4952bc38b81d",
   "metadata": {},
   "outputs": [],
   "source": [
    "alpha.change_the_weight('Q',0.1962)"
   ]
  },
  {
   "cell_type": "code",
   "execution_count": 72,
   "id": "40ad2e3a-41f1-46c6-bdea-8938e22506f6",
   "metadata": {},
   "outputs": [],
   "source": [
    "alpha.change_the_weight('R',7.5809)"
   ]
  },
  {
   "cell_type": "code",
   "execution_count": 73,
   "id": "f593da98-7c19-47b9-8096-60ffabf0a01f",
   "metadata": {},
   "outputs": [],
   "source": [
    "alpha.change_the_weight('S',5.7351)"
   ]
  },
  {
   "cell_type": "code",
   "execution_count": 74,
   "id": "7136c5d7-a05f-4d88-bacd-e3aad9d4d38d",
   "metadata": {},
   "outputs": [],
   "source": [
    "alpha.change_the_weight('T',6.9509)"
   ]
  },
  {
   "cell_type": "code",
   "execution_count": 75,
   "id": "c7f9d714-e44a-40f6-a3f6-9f1a5edb18f9",
   "metadata": {},
   "outputs": [],
   "source": [
    "alpha.change_the_weight('U',3.6308)"
   ]
  },
  {
   "cell_type": "code",
   "execution_count": 76,
   "id": "4577abc9-549c-4e4f-98f9-8d0130d77b4f",
   "metadata": {},
   "outputs": [],
   "source": [
    "alpha.change_the_weight('V',1.0074)"
   ]
  },
  {
   "cell_type": "code",
   "execution_count": 77,
   "id": "4e33f1a0-297c-4244-b028-db7c8bdbfadb",
   "metadata": {},
   "outputs": [],
   "source": [
    "alpha.change_the_weight('W',1.2899)"
   ]
  },
  {
   "cell_type": "code",
   "execution_count": 78,
   "id": "0047eab2-c923-42fd-83d2-f06c4e0dc0df",
   "metadata": {},
   "outputs": [],
   "source": [
    "alpha.change_the_weight('X',0.2902)"
   ]
  },
  {
   "cell_type": "code",
   "execution_count": 79,
   "id": "267f8bdb-b588-4c7b-876e-7930080129a7",
   "metadata": {},
   "outputs": [],
   "source": [
    "alpha.change_the_weight('Y',1.7779)"
   ]
  },
  {
   "cell_type": "code",
   "execution_count": 80,
   "id": "93c24a77-45c4-43a7-a0ad-603a62d18863",
   "metadata": {},
   "outputs": [],
   "source": [
    "alpha.change_the_weight('Z',0.2722)"
   ]
  },
  {
   "cell_type": "code",
   "execution_count": 81,
   "id": "373b0ad7-24fe-47fb-b658-4906346f3cfe",
   "metadata": {},
   "outputs": [
    {
     "name": "stdout",
     "output_type": "stream",
     "text": [
      "The current state faces and weights:\n"
     ]
    },
    {
     "data": {
      "text/html": [
       "<div>\n",
       "<style scoped>\n",
       "    .dataframe tbody tr th:only-of-type {\n",
       "        vertical-align: middle;\n",
       "    }\n",
       "\n",
       "    .dataframe tbody tr th {\n",
       "        vertical-align: top;\n",
       "    }\n",
       "\n",
       "    .dataframe thead th {\n",
       "        text-align: right;\n",
       "    }\n",
       "</style>\n",
       "<table border=\"1\" class=\"dataframe\">\n",
       "  <thead>\n",
       "    <tr style=\"text-align: right;\">\n",
       "      <th></th>\n",
       "      <th>faces</th>\n",
       "      <th>weights</th>\n",
       "    </tr>\n",
       "  </thead>\n",
       "  <tbody>\n",
       "    <tr>\n",
       "      <th>0</th>\n",
       "      <td>A</td>\n",
       "      <td>8.4966</td>\n",
       "    </tr>\n",
       "    <tr>\n",
       "      <th>1</th>\n",
       "      <td>B</td>\n",
       "      <td>2.0720</td>\n",
       "    </tr>\n",
       "    <tr>\n",
       "      <th>2</th>\n",
       "      <td>C</td>\n",
       "      <td>4.5388</td>\n",
       "    </tr>\n",
       "    <tr>\n",
       "      <th>3</th>\n",
       "      <td>D</td>\n",
       "      <td>3.3844</td>\n",
       "    </tr>\n",
       "    <tr>\n",
       "      <th>4</th>\n",
       "      <td>E</td>\n",
       "      <td>11.1607</td>\n",
       "    </tr>\n",
       "    <tr>\n",
       "      <th>5</th>\n",
       "      <td>F</td>\n",
       "      <td>1.8121</td>\n",
       "    </tr>\n",
       "    <tr>\n",
       "      <th>6</th>\n",
       "      <td>G</td>\n",
       "      <td>2.4705</td>\n",
       "    </tr>\n",
       "    <tr>\n",
       "      <th>7</th>\n",
       "      <td>H</td>\n",
       "      <td>3.0034</td>\n",
       "    </tr>\n",
       "    <tr>\n",
       "      <th>8</th>\n",
       "      <td>I</td>\n",
       "      <td>7.5448</td>\n",
       "    </tr>\n",
       "    <tr>\n",
       "      <th>9</th>\n",
       "      <td>J</td>\n",
       "      <td>0.1965</td>\n",
       "    </tr>\n",
       "    <tr>\n",
       "      <th>10</th>\n",
       "      <td>K</td>\n",
       "      <td>1.1016</td>\n",
       "    </tr>\n",
       "    <tr>\n",
       "      <th>11</th>\n",
       "      <td>L</td>\n",
       "      <td>5.4893</td>\n",
       "    </tr>\n",
       "    <tr>\n",
       "      <th>12</th>\n",
       "      <td>M</td>\n",
       "      <td>3.0129</td>\n",
       "    </tr>\n",
       "    <tr>\n",
       "      <th>13</th>\n",
       "      <td>N</td>\n",
       "      <td>6.6544</td>\n",
       "    </tr>\n",
       "    <tr>\n",
       "      <th>14</th>\n",
       "      <td>O</td>\n",
       "      <td>7.1635</td>\n",
       "    </tr>\n",
       "    <tr>\n",
       "      <th>15</th>\n",
       "      <td>P</td>\n",
       "      <td>3.1671</td>\n",
       "    </tr>\n",
       "    <tr>\n",
       "      <th>16</th>\n",
       "      <td>Q</td>\n",
       "      <td>0.1962</td>\n",
       "    </tr>\n",
       "    <tr>\n",
       "      <th>17</th>\n",
       "      <td>R</td>\n",
       "      <td>7.5809</td>\n",
       "    </tr>\n",
       "    <tr>\n",
       "      <th>18</th>\n",
       "      <td>S</td>\n",
       "      <td>5.7351</td>\n",
       "    </tr>\n",
       "    <tr>\n",
       "      <th>19</th>\n",
       "      <td>T</td>\n",
       "      <td>6.9509</td>\n",
       "    </tr>\n",
       "    <tr>\n",
       "      <th>20</th>\n",
       "      <td>U</td>\n",
       "      <td>3.6308</td>\n",
       "    </tr>\n",
       "    <tr>\n",
       "      <th>21</th>\n",
       "      <td>V</td>\n",
       "      <td>1.0074</td>\n",
       "    </tr>\n",
       "    <tr>\n",
       "      <th>22</th>\n",
       "      <td>W</td>\n",
       "      <td>1.2899</td>\n",
       "    </tr>\n",
       "    <tr>\n",
       "      <th>23</th>\n",
       "      <td>X</td>\n",
       "      <td>0.2902</td>\n",
       "    </tr>\n",
       "    <tr>\n",
       "      <th>24</th>\n",
       "      <td>Y</td>\n",
       "      <td>1.7779</td>\n",
       "    </tr>\n",
       "    <tr>\n",
       "      <th>25</th>\n",
       "      <td>Z</td>\n",
       "      <td>0.2722</td>\n",
       "    </tr>\n",
       "  </tbody>\n",
       "</table>\n",
       "</div>"
      ],
      "text/plain": [
       "   faces  weights\n",
       "0      A   8.4966\n",
       "1      B   2.0720\n",
       "2      C   4.5388\n",
       "3      D   3.3844\n",
       "4      E  11.1607\n",
       "5      F   1.8121\n",
       "6      G   2.4705\n",
       "7      H   3.0034\n",
       "8      I   7.5448\n",
       "9      J   0.1965\n",
       "10     K   1.1016\n",
       "11     L   5.4893\n",
       "12     M   3.0129\n",
       "13     N   6.6544\n",
       "14     O   7.1635\n",
       "15     P   3.1671\n",
       "16     Q   0.1962\n",
       "17     R   7.5809\n",
       "18     S   5.7351\n",
       "19     T   6.9509\n",
       "20     U   3.6308\n",
       "21     V   1.0074\n",
       "22     W   1.2899\n",
       "23     X   0.2902\n",
       "24     Y   1.7779\n",
       "25     Z   0.2722"
      ]
     },
     "execution_count": 81,
     "metadata": {},
     "output_type": "execute_result"
    }
   ],
   "source": [
    "alpha.show()"
   ]
  },
  {
   "cell_type": "code",
   "execution_count": 82,
   "id": "7a54df06-ca29-44ea-9a85-92bdce819b3b",
   "metadata": {},
   "outputs": [],
   "source": [
    "game5 = DieGame([alpha,alpha,alpha,alpha,alpha])"
   ]
  },
  {
   "cell_type": "code",
   "execution_count": 83,
   "id": "6636691f-b9b5-48be-8dd1-809b29bcc18d",
   "metadata": {},
   "outputs": [],
   "source": [
    "game5.play2(1000)"
   ]
  },
  {
   "cell_type": "code",
   "execution_count": 84,
   "id": "03e37f02-6e95-43dc-a016-022862ece156",
   "metadata": {},
   "outputs": [
    {
     "data": {
      "text/html": [
       "<div>\n",
       "<style scoped>\n",
       "    .dataframe tbody tr th:only-of-type {\n",
       "        vertical-align: middle;\n",
       "    }\n",
       "\n",
       "    .dataframe tbody tr th {\n",
       "        vertical-align: top;\n",
       "    }\n",
       "\n",
       "    .dataframe thead th {\n",
       "        text-align: right;\n",
       "    }\n",
       "</style>\n",
       "<table border=\"1\" class=\"dataframe\">\n",
       "  <thead>\n",
       "    <tr style=\"text-align: right;\">\n",
       "      <th></th>\n",
       "      <th>0</th>\n",
       "      <th>1</th>\n",
       "      <th>2</th>\n",
       "      <th>3</th>\n",
       "      <th>4</th>\n",
       "    </tr>\n",
       "    <tr>\n",
       "      <th>Roll_Number</th>\n",
       "      <th></th>\n",
       "      <th></th>\n",
       "      <th></th>\n",
       "      <th></th>\n",
       "      <th></th>\n",
       "    </tr>\n",
       "  </thead>\n",
       "  <tbody>\n",
       "    <tr>\n",
       "      <th>1</th>\n",
       "      <td>E</td>\n",
       "      <td>C</td>\n",
       "      <td>C</td>\n",
       "      <td>I</td>\n",
       "      <td>S</td>\n",
       "    </tr>\n",
       "    <tr>\n",
       "      <th>2</th>\n",
       "      <td>A</td>\n",
       "      <td>E</td>\n",
       "      <td>K</td>\n",
       "      <td>A</td>\n",
       "      <td>S</td>\n",
       "    </tr>\n",
       "    <tr>\n",
       "      <th>3</th>\n",
       "      <td>V</td>\n",
       "      <td>L</td>\n",
       "      <td>A</td>\n",
       "      <td>L</td>\n",
       "      <td>S</td>\n",
       "    </tr>\n",
       "    <tr>\n",
       "      <th>4</th>\n",
       "      <td>E</td>\n",
       "      <td>A</td>\n",
       "      <td>V</td>\n",
       "      <td>I</td>\n",
       "      <td>O</td>\n",
       "    </tr>\n",
       "    <tr>\n",
       "      <th>5</th>\n",
       "      <td>I</td>\n",
       "      <td>O</td>\n",
       "      <td>O</td>\n",
       "      <td>P</td>\n",
       "      <td>Y</td>\n",
       "    </tr>\n",
       "    <tr>\n",
       "      <th>...</th>\n",
       "      <td>...</td>\n",
       "      <td>...</td>\n",
       "      <td>...</td>\n",
       "      <td>...</td>\n",
       "      <td>...</td>\n",
       "    </tr>\n",
       "    <tr>\n",
       "      <th>996</th>\n",
       "      <td>E</td>\n",
       "      <td>D</td>\n",
       "      <td>A</td>\n",
       "      <td>N</td>\n",
       "      <td>I</td>\n",
       "    </tr>\n",
       "    <tr>\n",
       "      <th>997</th>\n",
       "      <td>U</td>\n",
       "      <td>E</td>\n",
       "      <td>G</td>\n",
       "      <td>R</td>\n",
       "      <td>L</td>\n",
       "    </tr>\n",
       "    <tr>\n",
       "      <th>998</th>\n",
       "      <td>E</td>\n",
       "      <td>E</td>\n",
       "      <td>L</td>\n",
       "      <td>N</td>\n",
       "      <td>T</td>\n",
       "    </tr>\n",
       "    <tr>\n",
       "      <th>999</th>\n",
       "      <td>V</td>\n",
       "      <td>S</td>\n",
       "      <td>I</td>\n",
       "      <td>C</td>\n",
       "      <td>O</td>\n",
       "    </tr>\n",
       "    <tr>\n",
       "      <th>1000</th>\n",
       "      <td>P</td>\n",
       "      <td>V</td>\n",
       "      <td>B</td>\n",
       "      <td>O</td>\n",
       "      <td>E</td>\n",
       "    </tr>\n",
       "  </tbody>\n",
       "</table>\n",
       "<p>1000 rows × 5 columns</p>\n",
       "</div>"
      ],
      "text/plain": [
       "             0  1  2  3  4\n",
       "Roll_Number               \n",
       "1            E  C  C  I  S\n",
       "2            A  E  K  A  S\n",
       "3            V  L  A  L  S\n",
       "4            E  A  V  I  O\n",
       "5            I  O  O  P  Y\n",
       "...         .. .. .. .. ..\n",
       "996          E  D  A  N  I\n",
       "997          U  E  G  R  L\n",
       "998          E  E  L  N  T\n",
       "999          V  S  I  C  O\n",
       "1000         P  V  B  O  E\n",
       "\n",
       "[1000 rows x 5 columns]"
      ]
     },
     "execution_count": 84,
     "metadata": {},
     "output_type": "execute_result"
    }
   ],
   "source": [
    "game5.display()"
   ]
  },
  {
   "cell_type": "markdown",
   "id": "68d7564b-f4f5-468a-b664-85c0ba03484e",
   "metadata": {},
   "source": [
    "### How many combos can you that look like actual English words? ← NOTE: \"combo\" here just means resulting sequence, not literally combination as opposed to permutation."
   ]
  },
  {
   "cell_type": "code",
   "execution_count": 85,
   "id": "35130435-a3a2-4ad7-b3f3-e2da23312da0",
   "metadata": {},
   "outputs": [],
   "source": [
    "hey_jude = Analyzer(game5)"
   ]
  },
  {
   "cell_type": "code",
   "execution_count": 86,
   "id": "1a53ad54-3f68-4017-abd7-945eb39638cc",
   "metadata": {},
   "outputs": [
    {
     "data": {
      "text/html": [
       "<div>\n",
       "<style scoped>\n",
       "    .dataframe tbody tr th:only-of-type {\n",
       "        vertical-align: middle;\n",
       "    }\n",
       "\n",
       "    .dataframe tbody tr th {\n",
       "        vertical-align: top;\n",
       "    }\n",
       "\n",
       "    .dataframe thead th {\n",
       "        text-align: right;\n",
       "    }\n",
       "</style>\n",
       "<table border=\"1\" class=\"dataframe\">\n",
       "  <thead>\n",
       "    <tr style=\"text-align: right;\">\n",
       "      <th></th>\n",
       "      <th></th>\n",
       "      <th></th>\n",
       "      <th></th>\n",
       "      <th></th>\n",
       "      <th>Number of Instances</th>\n",
       "    </tr>\n",
       "    <tr>\n",
       "      <th>0</th>\n",
       "      <th>1</th>\n",
       "      <th>2</th>\n",
       "      <th>3</th>\n",
       "      <th>4</th>\n",
       "      <th></th>\n",
       "    </tr>\n",
       "  </thead>\n",
       "  <tbody>\n",
       "    <tr>\n",
       "      <th rowspan=\"5\" valign=\"top\">A</th>\n",
       "      <th rowspan=\"5\" valign=\"top\">A</th>\n",
       "      <th>A</th>\n",
       "      <th>N</th>\n",
       "      <th>V</th>\n",
       "      <td>1</td>\n",
       "    </tr>\n",
       "    <tr>\n",
       "      <th>H</th>\n",
       "      <th>V</th>\n",
       "      <th>H</th>\n",
       "      <td>1</td>\n",
       "    </tr>\n",
       "    <tr>\n",
       "      <th>N</th>\n",
       "      <th>A</th>\n",
       "      <th>M</th>\n",
       "      <td>1</td>\n",
       "    </tr>\n",
       "    <tr>\n",
       "      <th rowspan=\"2\" valign=\"top\">R</th>\n",
       "      <th>E</th>\n",
       "      <th>L</th>\n",
       "      <td>1</td>\n",
       "    </tr>\n",
       "    <tr>\n",
       "      <th>W</th>\n",
       "      <th>Z</th>\n",
       "      <td>1</td>\n",
       "    </tr>\n",
       "    <tr>\n",
       "      <th>...</th>\n",
       "      <th>...</th>\n",
       "      <th>...</th>\n",
       "      <th>...</th>\n",
       "      <th>...</th>\n",
       "      <td>...</td>\n",
       "    </tr>\n",
       "    <tr>\n",
       "      <th rowspan=\"5\" valign=\"top\">Y</th>\n",
       "      <th>S</th>\n",
       "      <th>P</th>\n",
       "      <th>A</th>\n",
       "      <th>V</th>\n",
       "      <td>1</td>\n",
       "    </tr>\n",
       "    <tr>\n",
       "      <th>T</th>\n",
       "      <th>A</th>\n",
       "      <th>O</th>\n",
       "      <th>N</th>\n",
       "      <td>1</td>\n",
       "    </tr>\n",
       "    <tr>\n",
       "      <th>U</th>\n",
       "      <th>N</th>\n",
       "      <th>R</th>\n",
       "      <th>O</th>\n",
       "      <td>1</td>\n",
       "    </tr>\n",
       "    <tr>\n",
       "      <th>W</th>\n",
       "      <th>E</th>\n",
       "      <th>T</th>\n",
       "      <th>S</th>\n",
       "      <td>1</td>\n",
       "    </tr>\n",
       "    <tr>\n",
       "      <th>Y</th>\n",
       "      <th>R</th>\n",
       "      <th>E</th>\n",
       "      <th>H</th>\n",
       "      <td>1</td>\n",
       "    </tr>\n",
       "  </tbody>\n",
       "</table>\n",
       "<p>1000 rows × 1 columns</p>\n",
       "</div>"
      ],
      "text/plain": [
       "           Number of Instances\n",
       "0 1 2 3 4                     \n",
       "A A A N V                    1\n",
       "    H V H                    1\n",
       "    N A M                    1\n",
       "    R E L                    1\n",
       "      W Z                    1\n",
       "...                        ...\n",
       "Y S P A V                    1\n",
       "  T A O N                    1\n",
       "  U N R O                    1\n",
       "  W E T S                    1\n",
       "  Y R E H                    1\n",
       "\n",
       "[1000 rows x 1 columns]"
      ]
     },
     "execution_count": 86,
     "metadata": {},
     "output_type": "execute_result"
    }
   ],
   "source": [
    "hey_jude.combo()"
   ]
  },
  {
   "cell_type": "code",
   "execution_count": 93,
   "id": "17b45d10-ae40-49bd-8afb-184c91dbdc5f",
   "metadata": {},
   "outputs": [
    {
     "data": {
      "text/html": [
       "<div>\n",
       "<style scoped>\n",
       "    .dataframe tbody tr th:only-of-type {\n",
       "        vertical-align: middle;\n",
       "    }\n",
       "\n",
       "    .dataframe tbody tr th {\n",
       "        vertical-align: top;\n",
       "    }\n",
       "\n",
       "    .dataframe thead th {\n",
       "        text-align: right;\n",
       "    }\n",
       "</style>\n",
       "<table border=\"1\" class=\"dataframe\">\n",
       "  <thead>\n",
       "    <tr style=\"text-align: right;\">\n",
       "      <th></th>\n",
       "      <th></th>\n",
       "      <th></th>\n",
       "      <th></th>\n",
       "      <th></th>\n",
       "      <th>Number of Instances</th>\n",
       "    </tr>\n",
       "    <tr>\n",
       "      <th>0</th>\n",
       "      <th>1</th>\n",
       "      <th>2</th>\n",
       "      <th>3</th>\n",
       "      <th>4</th>\n",
       "      <th></th>\n",
       "    </tr>\n",
       "  </thead>\n",
       "  <tbody>\n",
       "    <tr>\n",
       "      <th rowspan=\"5\" valign=\"top\">A</th>\n",
       "      <th rowspan=\"5\" valign=\"top\">A</th>\n",
       "      <th>A</th>\n",
       "      <th>N</th>\n",
       "      <th>V</th>\n",
       "      <td>1</td>\n",
       "    </tr>\n",
       "    <tr>\n",
       "      <th>H</th>\n",
       "      <th>V</th>\n",
       "      <th>H</th>\n",
       "      <td>1</td>\n",
       "    </tr>\n",
       "    <tr>\n",
       "      <th>N</th>\n",
       "      <th>A</th>\n",
       "      <th>M</th>\n",
       "      <td>1</td>\n",
       "    </tr>\n",
       "    <tr>\n",
       "      <th rowspan=\"2\" valign=\"top\">R</th>\n",
       "      <th>E</th>\n",
       "      <th>L</th>\n",
       "      <td>1</td>\n",
       "    </tr>\n",
       "    <tr>\n",
       "      <th>W</th>\n",
       "      <th>Z</th>\n",
       "      <td>1</td>\n",
       "    </tr>\n",
       "    <tr>\n",
       "      <th>...</th>\n",
       "      <th>...</th>\n",
       "      <th>...</th>\n",
       "      <th>...</th>\n",
       "      <th>...</th>\n",
       "      <td>...</td>\n",
       "    </tr>\n",
       "    <tr>\n",
       "      <th rowspan=\"5\" valign=\"top\">Y</th>\n",
       "      <th>S</th>\n",
       "      <th>P</th>\n",
       "      <th>A</th>\n",
       "      <th>V</th>\n",
       "      <td>1</td>\n",
       "    </tr>\n",
       "    <tr>\n",
       "      <th>T</th>\n",
       "      <th>A</th>\n",
       "      <th>O</th>\n",
       "      <th>N</th>\n",
       "      <td>1</td>\n",
       "    </tr>\n",
       "    <tr>\n",
       "      <th>U</th>\n",
       "      <th>N</th>\n",
       "      <th>R</th>\n",
       "      <th>O</th>\n",
       "      <td>1</td>\n",
       "    </tr>\n",
       "    <tr>\n",
       "      <th>W</th>\n",
       "      <th>E</th>\n",
       "      <th>T</th>\n",
       "      <th>S</th>\n",
       "      <td>1</td>\n",
       "    </tr>\n",
       "    <tr>\n",
       "      <th>Y</th>\n",
       "      <th>R</th>\n",
       "      <th>E</th>\n",
       "      <th>H</th>\n",
       "      <td>1</td>\n",
       "    </tr>\n",
       "  </tbody>\n",
       "</table>\n",
       "<p>1000 rows × 1 columns</p>\n",
       "</div>"
      ],
      "text/plain": [
       "           Number of Instances\n",
       "0 1 2 3 4                     \n",
       "A A A N V                    1\n",
       "    H V H                    1\n",
       "    N A M                    1\n",
       "    R E L                    1\n",
       "      W Z                    1\n",
       "...                        ...\n",
       "Y S P A V                    1\n",
       "  T A O N                    1\n",
       "  U N R O                    1\n",
       "  W E T S                    1\n",
       "  Y R E H                    1\n",
       "\n",
       "[1000 rows x 1 columns]"
      ]
     },
     "execution_count": 93,
     "metadata": {},
     "output_type": "execute_result"
    }
   ],
   "source": [
    "pd.set_option('display.max_rows', 100) #I did a 1000, looked through and it really didn't look like anything\n",
    "hey_jude.combo()"
   ]
  },
  {
   "cell_type": "code",
   "execution_count": 95,
   "id": "ccd9a40f-3288-49df-9c3d-fa44b7f0bb7a",
   "metadata": {},
   "outputs": [],
   "source": [
    "game6 = DieGame([alpha,alpha,alpha])"
   ]
  },
  {
   "cell_type": "code",
   "execution_count": 97,
   "id": "54860a54-126f-4583-a73f-493f0e2c62d7",
   "metadata": {},
   "outputs": [],
   "source": [
    "game6.play2(1000)"
   ]
  },
  {
   "cell_type": "code",
   "execution_count": 99,
   "id": "1cd3956a-2c03-49d2-a4ac-6e761f13affe",
   "metadata": {},
   "outputs": [],
   "source": [
    "gently_weeps = Analyzer(game6)"
   ]
  },
  {
   "cell_type": "code",
   "execution_count": 103,
   "id": "3d88a52d-59f1-4c7e-bac2-55a081bf5b71",
   "metadata": {},
   "outputs": [
    {
     "data": {
      "text/html": [
       "<div>\n",
       "<style scoped>\n",
       "    .dataframe tbody tr th:only-of-type {\n",
       "        vertical-align: middle;\n",
       "    }\n",
       "\n",
       "    .dataframe tbody tr th {\n",
       "        vertical-align: top;\n",
       "    }\n",
       "\n",
       "    .dataframe thead th {\n",
       "        text-align: right;\n",
       "    }\n",
       "</style>\n",
       "<table border=\"1\" class=\"dataframe\">\n",
       "  <thead>\n",
       "    <tr style=\"text-align: right;\">\n",
       "      <th></th>\n",
       "      <th></th>\n",
       "      <th></th>\n",
       "      <th>Number of Instances</th>\n",
       "    </tr>\n",
       "    <tr>\n",
       "      <th>0</th>\n",
       "      <th>1</th>\n",
       "      <th>2</th>\n",
       "      <th></th>\n",
       "    </tr>\n",
       "  </thead>\n",
       "  <tbody>\n",
       "    <tr>\n",
       "      <th rowspan=\"5\" valign=\"top\">A</th>\n",
       "      <th rowspan=\"3\" valign=\"top\">A</th>\n",
       "      <th>I</th>\n",
       "      <td>2</td>\n",
       "    </tr>\n",
       "    <tr>\n",
       "      <th>R</th>\n",
       "      <td>3</td>\n",
       "    </tr>\n",
       "    <tr>\n",
       "      <th>T</th>\n",
       "      <td>1</td>\n",
       "    </tr>\n",
       "    <tr>\n",
       "      <th rowspan=\"2\" valign=\"top\">C</th>\n",
       "      <th>E</th>\n",
       "      <td>1</td>\n",
       "    </tr>\n",
       "    <tr>\n",
       "      <th>H</th>\n",
       "      <td>1</td>\n",
       "    </tr>\n",
       "    <tr>\n",
       "      <th>...</th>\n",
       "      <th>...</th>\n",
       "      <th>...</th>\n",
       "      <td>...</td>\n",
       "    </tr>\n",
       "    <tr>\n",
       "      <th rowspan=\"4\" valign=\"top\">Y</th>\n",
       "      <th rowspan=\"2\" valign=\"top\">P</th>\n",
       "      <th>E</th>\n",
       "      <td>1</td>\n",
       "    </tr>\n",
       "    <tr>\n",
       "      <th>U</th>\n",
       "      <td>1</td>\n",
       "    </tr>\n",
       "    <tr>\n",
       "      <th>S</th>\n",
       "      <th>E</th>\n",
       "      <td>1</td>\n",
       "    </tr>\n",
       "    <tr>\n",
       "      <th>T</th>\n",
       "      <th>O</th>\n",
       "      <td>1</td>\n",
       "    </tr>\n",
       "    <tr>\n",
       "      <th>Z</th>\n",
       "      <th>A</th>\n",
       "      <th>E</th>\n",
       "      <td>1</td>\n",
       "    </tr>\n",
       "  </tbody>\n",
       "</table>\n",
       "<p>900 rows × 1 columns</p>\n",
       "</div>"
      ],
      "text/plain": [
       "       Number of Instances\n",
       "0 1 2                     \n",
       "A A I                    2\n",
       "    R                    3\n",
       "    T                    1\n",
       "  C E                    1\n",
       "    H                    1\n",
       "...                    ...\n",
       "Y P E                    1\n",
       "    U                    1\n",
       "  S E                    1\n",
       "  T O                    1\n",
       "Z A E                    1\n",
       "\n",
       "[900 rows x 1 columns]"
      ]
     },
     "execution_count": 103,
     "metadata": {},
     "output_type": "execute_result"
    }
   ],
   "source": [
    "pd.set_option('display.max_rows', 100) #More frequent with 3 letter words (and easier to see) especially if you consider government \n",
    "# agency names words\n",
    "gently_weeps.combo()"
   ]
  },
  {
   "cell_type": "code",
   "execution_count": null,
   "id": "a87f26f5-ec81-43d7-8b52-2659b90b0127",
   "metadata": {},
   "outputs": [],
   "source": []
  }
 ],
 "metadata": {
  "kernelspec": {
   "display_name": "Python 3 (ipykernel)",
   "language": "python",
   "name": "python3"
  },
  "language_info": {
   "codemirror_mode": {
    "name": "ipython",
    "version": 3
   },
   "file_extension": ".py",
   "mimetype": "text/x-python",
   "name": "python",
   "nbconvert_exporter": "python",
   "pygments_lexer": "ipython3",
   "version": "3.9.12"
  }
 },
 "nbformat": 4,
 "nbformat_minor": 5
}
