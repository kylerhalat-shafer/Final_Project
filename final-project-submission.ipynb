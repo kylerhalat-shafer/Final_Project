{
 "cells": [
  {
   "cell_type": "markdown",
   "id": "dd5a25da-be5f-4399-9437-0f6c88781934",
   "metadata": {},
   "source": [
    "# Metadata:\n",
    "- Title Final Project Report\n",
    "- Class DS 5100\n",
    "- Date: 07/14/2022\n",
    "- Student Name: Kyler Halat-Shafer\n",
    "- Student ID: uxt5qb\n",
    "- This URL: \n",
    "- Git Hub Repo URL: https://github.com/kylerhalat-shafer/Final_Project"
   ]
  },
  {
   "cell_type": "markdown",
   "id": "3ec241d5-97a1-4f65-9965-0b309004e6a3",
   "metadata": {},
   "source": [
    "## Monte Carlo Module:"
   ]
  },
  {
   "cell_type": "code",
   "execution_count": 1,
   "id": "f250639d-a492-47d0-974d-099d4bac7186",
   "metadata": {},
   "outputs": [],
   "source": [
    "import pandas as pd\n",
    "import numpy as np\n",
    "import math\n",
    "import os\n",
    "import random\n",
    "\n",
    "class Die:\n",
    "    \n",
    "    '''\n",
    "    The Die Class: is creating a 'die' meaning any probability object, whether it is for a coin flip or rolling a six-sided die.\n",
    "    Params: It will have faces, weights for each of those faces, be able to activate or 'roll' the 'die' \n",
    "    Return: A dataframe with the faces and weights \n",
    "    '''\n",
    "    \n",
    "    def __init__(self, faces):\n",
    "        ''' \n",
    "        description: Here we are initializing the Die class \n",
    "        param: 1.) Faces, which is an array to create any die object. 2.) Weights are just a number e.g. 5 versus 1, rather than a normalized probability distribution \n",
    "        type: 1.) Faces are strings or numbers 2.) Weights are integers or floats\n",
    "        return: The faces and the weights, originally set to a value of 1, will then be cataloged in a dataframe\n",
    "        '''\n",
    "        self.faces = faces #defining faces and so it can be called inside the class\n",
    "        self.weights = np.ones(len(faces)) #defining the weights as an array of 1 to match the length of faces\n",
    "        self.__df = pd.DataFrame({'faces': self.faces, 'weights':self.weights}) # dataframe with both faces and weights included, private\n",
    "        \n",
    "    def change_the_weight(self,new_face, new_weight):\n",
    "        ''' \n",
    "        description: This gives the user the ability to change the weight by first giving the argument of the face\n",
    "        param: 1.) New_face, for example we have a six sided die, the user will pick the side '4' and be able to adjust the weight as 2.) new_weight\n",
    "        type: 1.) New_face are strings or numbers 2.) New_weight are integers or floats\n",
    "        return: changing the dataframe from above to incorporate the new weight given\n",
    "        '''\n",
    "        if new_face not in list(self.__df['faces']): # testing to see if the new_face is in the dataframe initialized\n",
    "            print('Value did not pass')\n",
    "        else:\n",
    "            if (type(new_weight)) not in [int,float]:# testing to see if the new_weight \n",
    "                print('Change to integer or float to continue')\n",
    "            else:\n",
    "                self.__df.loc[self.__df.faces == new_face, 'weights'] = new_weight #if both tests are passed then changing the dataframe to include the new_weight\n",
    "        \n",
    "    def roll(self, num_rolls = 1): #this is taking the argument of the number of rolls, defaulting to 1\n",
    "        ''' \n",
    "        description: This is a random sample from the faces according to weights i.e. the rolling of a die \n",
    "        param: the number of rolls, initially set to 1\n",
    "        type: integer or float\n",
    "        return: the list of results, which is the faces after rolling the die a specified number of times\n",
    "        '''\n",
    "        results = [] \n",
    "        #my_probs = [i/sum(self.weights) for i in self.weights] \n",
    "        for i in range(num_rolls): \n",
    "            result = self.__df.faces.sample(weights = self.__df['weights']).values[0] \n",
    "            results.append(result)\n",
    "        return results # where i is a single roll, the result is the face, and appending that result to the list\n",
    "    \n",
    "    def show(self):\n",
    "        ''' \n",
    "        description: showing the current faces and weights as a dataframe\n",
    "        '''\n",
    "        print('The current state faces and weights:') \n",
    "        return self.__df\n",
    "\n",
    "class DieGame:\n",
    "    \n",
    "    '''\n",
    "    The DieGame Class: a game consists of rolling one or more 'die' \n",
    "    Params: Inputting each die, that have faces and weights already defined \n",
    "    Return: A dataframe of the number of die, the rolls, and the faces\n",
    "    '''\n",
    "    \n",
    "    def __init__(self,dice): #input the dice that have been created using the first class, Die\n",
    "        ''' \n",
    "        description: Each game is initialized by having one or more similarly defined dice e.g. d and d2 were created and can be used in this game\n",
    "        param: each die has the same amount of faces, but the weights can differ\n",
    "        type: the faces are either string or numeric,but not intermixed\n",
    "        '''\n",
    "        self.dice = dice #this will allow the dice to be called on\n",
    "        \n",
    "    def play2(self,n_rolls = 1):\n",
    "        ''' \n",
    "        description: This method will roll the dice the specified number of times the user inputs\n",
    "        param: N_rolls is the number of rolls that should occur\n",
    "        type: integer\n",
    "        return: a dataframe that the rows are the roll number, the columns are the die, and the face rolled as the element \n",
    "        '''\n",
    "        self.__roll_results = pd.DataFrame(index=range(1,n_rolls + 1)) #setting the row to offset and start with 1\n",
    "        self.__roll_results.index.rename('Roll_Number' ,inplace = True) # renaming the row to be 'Roll_Number'\n",
    "        n = 0\n",
    "        for die in self.dice: #for each die in dice\n",
    "            roll = die.roll(n_rolls) #iterating over the multiple dies in dice, for the amount of rolls \n",
    "            self.__roll_results[n] = roll #starting as a blank dataframe then adding the roll \n",
    "            n = n + 1 #need to define a column with each new die, since there can be more than 1\n",
    "            \n",
    "    \n",
    "    def display(self, wide = True):\n",
    "        ''' \n",
    "        description: Producing a wide dataframe by default and creating the option for a narrow dataframe to be given\n",
    "        param: True as the input for a wide dataframe and False for a narrow dataframe\n",
    "        return: Either a wide or narrow data frame of the roll number, dies, and faces rolled\n",
    "        '''\n",
    "        d1 = self.__roll_results.copy() #needed to make a copy, originally by altering the actual dataframe infringed on code written later\n",
    "        d1['id'] = d1.index\n",
    "        narrowdf = pd.melt(d1, id_vars = [\"id\"]) #using the copied dataframe to make the adjustment to narrow, which needs an id parameter\n",
    "        narrowdf.columns = ['Roll_Number','Die','Face_Value'] #name the columns\n",
    "        narrowdf.set_index(['Roll_Number','Die'],inplace = True) #allowing Roll Number and Die to be stacked\n",
    "        \n",
    "        if wide == True:\n",
    "            return self.__roll_results\n",
    "        if wide == False:\n",
    "            return narrowdf\n",
    "        else:\n",
    "            return 'Please enter True to return a wide dataframe and False for a narrow dataframe.'\n",
    "\n",
    "class Analyzer: \n",
    "    \n",
    "    '''\n",
    "    The Analyzer Class: Giving outputs to help understand what happened in a given game\n",
    "    Params: A game that has one or more die in it \n",
    "    Returns: Different views of when all faces are equal, the unique instances, and overall face counts \n",
    "    '''\n",
    "    \n",
    "    def __init__(self,game): \n",
    "        ''' \n",
    "        description: Takesthe results of a single game and analyzes that game\n",
    "        param: the game that was ran off of the previous class \n",
    "        return: displays the type in the game \n",
    "        '''\n",
    "        self.game = game\n",
    "        game.display().dtypes\n",
    "    \n",
    "    def jackpot(self):\n",
    "        ''' \n",
    "        description: How many times a roll, with one or multiple dies, resulted in all faces being the same \n",
    "        param: inputting a game through this method\n",
    "        type:Intger\n",
    "        return: a dataframe of just the roll numbers that have all faces equal\n",
    "        '''\n",
    "        ww = [] #creating an empty list to append to \n",
    "        for r in range(len(self.game.display())): #game.display() is the dataframe from the class DieGame, we want the length of that to iterate through \n",
    "            if len(set(list(self.game.display().loc[r+1,:]))) == 1: #then looking at each row,using loc, by creating this into a set, if all faces are the same it will output an integer\n",
    "                ww.append(True) \n",
    "            else:\n",
    "                ww.append(False) # we want both True and False results in this list \n",
    "        self.jack = self.game.display()[ww] # we can then take that list against the new dataframe for jackpot that is created to display the roll number and faces\n",
    "        return len(self.jack)\n",
    "    \n",
    "    def combo(self):\n",
    "        ''' \n",
    "        description: How many combination types of faces were rolled \n",
    "        param: inputting a game through this method\n",
    "        type:\n",
    "        return:\n",
    "        '''\n",
    "        self.comb = pd.DataFrame(self.game.display().groupby(list(self.game.display().columns)).size()) #creating a dataframe based on the data frame from the DieGame class, grouping by the columns\n",
    "        # transforming those columns into a list, and takes the number of rows using size \n",
    "        self.comb.columns = ['Number of Instances'] #naming the columns\n",
    "        return self.comb.sort_values(by=['Number of Instances']) \n",
    "    \n",
    "    def face_counts(self):\n",
    "        ''' \n",
    "        description: the number of times a given face appeared in each roll \n",
    "        return: a cross tab of faces by roll \n",
    "        '''\n",
    "        self.gamecross = pd.crosstab(index = list(self.game.display(False).reset_index()['Roll_Number']), columns = list(self.game.display(False)['Face_Value']))\n",
    "        #the row is the narrow df, after reseting the index so that only Roll Number can be used, the columns are the Face Values in the narrow dataframe, which needs to be a list in a df\n",
    "        return self.gamecross"
   ]
  },
  {
   "cell_type": "markdown",
   "id": "475bc217-1cae-4ae4-bf39-14d8b6d8aae6",
   "metadata": {},
   "source": [
    "## Test Module:"
   ]
  },
  {
   "cell_type": "code",
   "execution_count": null,
   "id": "efbf006d-0109-48dd-acff-5da63ff8a7c2",
   "metadata": {},
   "outputs": [],
   "source": [
    "import unittest\n",
    "import pandas as pd\n",
    "import numpy as np\n",
    "from montecarlo1 import Die\n",
    "from montecarlo1 import DieGame\n",
    "from montecarlo1 import Analyzer\n",
    "\n",
    "class DieGameTestSuite(unittest.TestCase):\n",
    "    '''\n",
    "    This testing file is designed to test each method in that is in each class of the module montecarlo. It imports the classses Die,DieGame, and Analyzer then specifically looks at each method in\n",
    "    them, as they appear in the montecarlo.py file. \n",
    "    '''\n",
    "\n",
    "    def test_change_the_weight(self): \n",
    "        '''\n",
    "        description: This test is seeing if the face that is passed is in the array of weights. \n",
    "        return: By changing the weight of the face 5 to the weight of 6, then applying a boolean check to see if the new face's weight is equal to 6 provides a True respone\n",
    "        note: Originally used a self.assertEqual method, however, this errored as pandas does not appreciate the boolean nature of testing dataframes or series \n",
    "        '''\n",
    "        testing = Die([1,2,3,4,5,6])\n",
    "        testing.change_the_weight(5,6) \n",
    "        new_face =  5\n",
    "        df = testing.show()  \n",
    "        df.loc[df.faces == new_face, 'weights'] == 6\n",
    "    \n",
    "    def test_roll(self): \n",
    "        '''\n",
    "        description: Does the method take in how many times the die is to be rolled? Does this return a list of outcomes?\n",
    "        return: By inputting a normal die, rolling it 10 times and then checking the length of roll using assertEqual as boolean response and seeing if it is a list is in the instance the \n",
    "        two questions are resolved\n",
    "        note: Using k and l throughout as naming longer variables that are used in order to save computing time, reduce amount of code written, and getting in the habit of reduce, reuse, recycle\n",
    "        '''\n",
    "        testing = Die([1,2,3,4,5,6])\n",
    "        k = testing.roll(10) \n",
    "        self.assertEqual(len(k),10) \n",
    "        self.assertIsInstance(k, list) \n",
    "     \n",
    "    def test_show(self):\n",
    "        '''\n",
    "        description: Does this show the current set of faces and weights?\n",
    "        return: By understanding that there are two columns, one for the roll number and the die(s) the length of a set will be 2 for columns, same as for the number of columns\n",
    "        note: The set function here can be eliminated since all characters are unique\n",
    "        '''\n",
    "        testing = Die([1,2,3,4,5,6])\n",
    "        df = testing.show() \n",
    "        self.assertEqual(len(set(list(df.columns))),2)\n",
    "        self.assertEqual(len(set(list(df.index))), 6) \n",
    "  \n",
    "    def test_play2(self): \n",
    "        '''\n",
    "        description: Does it create a table where the columns are roll number, the die number is the row, and the element is the face?\n",
    "        return: By playing a simple game of 10 rolls, the number of rows will be equal to the number of rolls, whereas the columns will be equal to 1 in display since the die is the only column\n",
    "        in the way that this dataframe is designed\n",
    "        '''\n",
    "        testing = Die([1,2,3,4,5,6]) \n",
    "        game_test = DieGame([testing]) \n",
    "        game_test.play2(10) \n",
    "        self.assertEqual(len(list(game_test.display().index)), 10)\n",
    "        self.assertEqual(len(game_test.display().columns), 1)\n",
    "                   \n",
    "    def test_display(self): \n",
    "        '''\n",
    "        description: Is a narrow and a wide dataframe able to be created? Expected number of rows, columns, and indexes are also checked. \n",
    "        return: Boolean responses are returned for both the narrow and wide dataframes as well as the length of rows and columns. The difference in narrow and wide is having double the amount of\n",
    "        rows in this example, which checking for and seeing is correct shows that both are created. As well as columns are different. \n",
    "        note: Originally used a self.assertEqual method, however, this errored as pandas does not appreciate the boolean nature of testing dataframes or series\n",
    "        '''\n",
    "        testing = Die([1,2,3,4,5,6])\n",
    "        game_test = DieGame([testing, testing])\n",
    "        game_test.play2(10)\n",
    "        k = game_test.display(True) \n",
    "        l = game_test.display(False) \n",
    "        k == True\n",
    "        l == True\n",
    "        self.assertEqual(len(k.index),10) \n",
    "        self.assertEqual(len(k.columns),2) \n",
    "        self.assertEqual(len(l.index),20) \n",
    "        self.assertEqual(len(l.columns),1) \n",
    "        \n",
    "    def test_jackpot(self): \n",
    "        '''\n",
    "        description: Check the dataframe that is created if all face_values are identical.\n",
    "        return: By doing a simple test with a die where it has only one face and one roll, then the jackpot would have to be triggered and be equal to one, shown below. \n",
    "        '''\n",
    "        testing = Die([6])\n",
    "        game_test = DieGame([testing])\n",
    "        game_test.play2(1)\n",
    "        test_jack = Analyzer(game_test) \n",
    "        self.assertEqual(test_jack.jackpot(),1) \n",
    "    \n",
    "    def test_combo(self): \n",
    "        '''\n",
    "        description: Check the dataframe that is created if all paired face_values are unique. \n",
    "        return: The idea here is to use the method as is, then to test it by reseting the index to get a length that is measurable against the number of rows. Without reseting the index \n",
    "        then checking the rows became increasing challenging. \n",
    "        '''\n",
    "        testing = Die([1,2,3,4,5,6])\n",
    "        game_test = DieGame([testing,testing])\n",
    "        game_test.play2(10)\n",
    "        test_combo = Analyzer(game_test)\n",
    "        k = test_combo.combo()\n",
    "        len(k.reset_index(drop=True))==10\n",
    "                        \n",
    "    def test_face_count(self):\n",
    "        '''\n",
    "        description: Check the dataframe that your face_count is saved. \n",
    "        return: By using a simple 1 faced die, the game can be played and saved to the dataframe and boolean tested to see if the dataframe has been saved. From there the rows should be equal \n",
    "        to the number of rolls, and the columns equal to the single die where the face is saved. Since the die = face, then the face is saved. \n",
    "        '''\n",
    "        testing = Die([5])\n",
    "        game_test = DieGame([testing])\n",
    "        game_test.play2(10)\n",
    "        test_faceco = Analyzer(game_test)\n",
    "        test_faceco.face_counts() \n",
    "        k = test_faceco.gamecross  \n",
    "        k == True \n",
    "        self.assertEqual(len(k.index),10) \n",
    "        self.assertEqual(len(k.columns),1) \n",
    "        \n",
    "if __name__ == '__main__':\n",
    "    unittest.main(verbosity=3)\n"
   ]
  },
  {
   "cell_type": "markdown",
   "id": "58c81b6e-9e1e-46fd-82f9-2683433a4f4b",
   "metadata": {},
   "source": [
    "## Test Results:"
   ]
  },
  {
   "cell_type": "code",
   "execution_count": null,
   "id": "d4fba1de-9045-42c8-a75a-70f1b0ae37a5",
   "metadata": {},
   "outputs": [],
   "source": [
    "test_change_the_weight (__main__.DieGameTestSuite) ... ok\n",
    "test_combo (__main__.DieGameTestSuite) ... ok\n",
    "test_display (__main__.DieGameTestSuite) ... ok\n",
    "test_face_count (__main__.DieGameTestSuite) ... ok\n",
    "test_jackpot (__main__.DieGameTestSuite) ... ok\n",
    "test_play2 (__main__.DieGameTestSuite) ... ok\n",
    "test_roll (__main__.DieGameTestSuite) ... ok\n",
    "test_show (__main__.DieGameTestSuite) ... ok\n",
    "\n",
    "----------------------------------------------------------------------\n",
    "Ran 8 tests in 0.068s\n",
    "\n",
    "OK"
   ]
  },
  {
   "cell_type": "markdown",
   "id": "0f73a542-7e4d-4145-a199-70f8374edcc9",
   "metadata": {},
   "source": [
    "## Scenarios:"
   ]
  },
  {
   "cell_type": "markdown",
   "id": "01365df9-d7af-417e-9f59-03c4e7843cf8",
   "metadata": {},
   "source": [
    "### Scenario 1:\n",
    "#### Create a fair coin (with faces H and T) and one unfair coin, in which one of the faces has a weight of 5 and the others 1."
   ]
  },
  {
   "cell_type": "code",
   "execution_count": 12,
   "id": "4c7bbcb8-1e9d-491f-9e66-d41726ca72e1",
   "metadata": {},
   "outputs": [],
   "source": [
    "#from montecarlo import Die\n",
    "#from montecarlo import DieGame\n",
    "#from montecarlo import Analyzer\n",
    "#import pandas as pd\n",
    "#import numpy as np\n",
    "#import math\n",
    "#import os\n",
    "#import random"
   ]
  },
  {
   "cell_type": "code",
   "execution_count": 2,
   "id": "072ed02f-eae1-45ca-b400-d19601c2d78f",
   "metadata": {},
   "outputs": [],
   "source": [
    "f1 = Die(['H','T'])"
   ]
  },
  {
   "cell_type": "code",
   "execution_count": 3,
   "id": "88bcdb8b-d1bc-483e-a26f-39059d9cbf9e",
   "metadata": {},
   "outputs": [],
   "source": [
    "u1 = Die(['H','T'])"
   ]
  },
  {
   "cell_type": "code",
   "execution_count": 4,
   "id": "d09d8543-045f-47b6-9844-373c1f82845c",
   "metadata": {},
   "outputs": [],
   "source": [
    "u1.change_the_weight('T',5)"
   ]
  },
  {
   "cell_type": "code",
   "execution_count": 5,
   "id": "36aafea9-64d9-4530-93f5-33feabdecbdd",
   "metadata": {},
   "outputs": [
    {
     "name": "stdout",
     "output_type": "stream",
     "text": [
      "The current state faces and weights:\n"
     ]
    },
    {
     "data": {
      "text/html": [
       "<div>\n",
       "<style scoped>\n",
       "    .dataframe tbody tr th:only-of-type {\n",
       "        vertical-align: middle;\n",
       "    }\n",
       "\n",
       "    .dataframe tbody tr th {\n",
       "        vertical-align: top;\n",
       "    }\n",
       "\n",
       "    .dataframe thead th {\n",
       "        text-align: right;\n",
       "    }\n",
       "</style>\n",
       "<table border=\"1\" class=\"dataframe\">\n",
       "  <thead>\n",
       "    <tr style=\"text-align: right;\">\n",
       "      <th></th>\n",
       "      <th>faces</th>\n",
       "      <th>weights</th>\n",
       "    </tr>\n",
       "  </thead>\n",
       "  <tbody>\n",
       "    <tr>\n",
       "      <th>0</th>\n",
       "      <td>H</td>\n",
       "      <td>1.0</td>\n",
       "    </tr>\n",
       "    <tr>\n",
       "      <th>1</th>\n",
       "      <td>T</td>\n",
       "      <td>5.0</td>\n",
       "    </tr>\n",
       "  </tbody>\n",
       "</table>\n",
       "</div>"
      ],
      "text/plain": [
       "  faces  weights\n",
       "0     H      1.0\n",
       "1     T      5.0"
      ]
     },
     "execution_count": 5,
     "metadata": {},
     "output_type": "execute_result"
    }
   ],
   "source": [
    "u1.show()"
   ]
  },
  {
   "cell_type": "code",
   "execution_count": 6,
   "id": "67b3aa4d-a594-4831-bede-227a51746b16",
   "metadata": {},
   "outputs": [],
   "source": [
    "u2 = Die(['H','T'])"
   ]
  },
  {
   "cell_type": "code",
   "execution_count": 7,
   "id": "8184c2da-2f50-4dfd-9fd9-f844263219b2",
   "metadata": {},
   "outputs": [],
   "source": [
    "u2.change_the_weight('H',5)"
   ]
  },
  {
   "cell_type": "code",
   "execution_count": 8,
   "id": "6209ecd4-28cf-4d39-bd65-edb685f45bff",
   "metadata": {},
   "outputs": [
    {
     "name": "stdout",
     "output_type": "stream",
     "text": [
      "The current state faces and weights:\n"
     ]
    },
    {
     "data": {
      "text/html": [
       "<div>\n",
       "<style scoped>\n",
       "    .dataframe tbody tr th:only-of-type {\n",
       "        vertical-align: middle;\n",
       "    }\n",
       "\n",
       "    .dataframe tbody tr th {\n",
       "        vertical-align: top;\n",
       "    }\n",
       "\n",
       "    .dataframe thead th {\n",
       "        text-align: right;\n",
       "    }\n",
       "</style>\n",
       "<table border=\"1\" class=\"dataframe\">\n",
       "  <thead>\n",
       "    <tr style=\"text-align: right;\">\n",
       "      <th></th>\n",
       "      <th>faces</th>\n",
       "      <th>weights</th>\n",
       "    </tr>\n",
       "  </thead>\n",
       "  <tbody>\n",
       "    <tr>\n",
       "      <th>0</th>\n",
       "      <td>H</td>\n",
       "      <td>5.0</td>\n",
       "    </tr>\n",
       "    <tr>\n",
       "      <th>1</th>\n",
       "      <td>T</td>\n",
       "      <td>1.0</td>\n",
       "    </tr>\n",
       "  </tbody>\n",
       "</table>\n",
       "</div>"
      ],
      "text/plain": [
       "  faces  weights\n",
       "0     H      5.0\n",
       "1     T      1.0"
      ]
     },
     "execution_count": 8,
     "metadata": {},
     "output_type": "execute_result"
    }
   ],
   "source": [
    "u2.show()"
   ]
  },
  {
   "cell_type": "markdown",
   "id": "a851f44d-ae75-40ab-a9e1-0553139f3c42",
   "metadata": {},
   "source": [
    "### Play a game of 1000 flips of three coins with all fair dice."
   ]
  },
  {
   "cell_type": "code",
   "execution_count": 9,
   "id": "0c075172-673c-41b0-a8b9-ac7e90a4f861",
   "metadata": {},
   "outputs": [],
   "source": [
    "game1 = DieGame([f1,f1,f1])"
   ]
  },
  {
   "cell_type": "code",
   "execution_count": 10,
   "id": "097fd3b7-e6ae-4093-9d9f-7e3e72f786a5",
   "metadata": {},
   "outputs": [],
   "source": [
    "game1.play2(1000)"
   ]
  },
  {
   "cell_type": "code",
   "execution_count": 11,
   "id": "9d1e8108-3f69-4ed8-8cba-0d1ff3f38410",
   "metadata": {},
   "outputs": [
    {
     "data": {
      "text/html": [
       "<div>\n",
       "<style scoped>\n",
       "    .dataframe tbody tr th:only-of-type {\n",
       "        vertical-align: middle;\n",
       "    }\n",
       "\n",
       "    .dataframe tbody tr th {\n",
       "        vertical-align: top;\n",
       "    }\n",
       "\n",
       "    .dataframe thead th {\n",
       "        text-align: right;\n",
       "    }\n",
       "</style>\n",
       "<table border=\"1\" class=\"dataframe\">\n",
       "  <thead>\n",
       "    <tr style=\"text-align: right;\">\n",
       "      <th></th>\n",
       "      <th>0</th>\n",
       "      <th>1</th>\n",
       "      <th>2</th>\n",
       "    </tr>\n",
       "    <tr>\n",
       "      <th>Roll_Number</th>\n",
       "      <th></th>\n",
       "      <th></th>\n",
       "      <th></th>\n",
       "    </tr>\n",
       "  </thead>\n",
       "  <tbody>\n",
       "    <tr>\n",
       "      <th>1</th>\n",
       "      <td>T</td>\n",
       "      <td>T</td>\n",
       "      <td>T</td>\n",
       "    </tr>\n",
       "    <tr>\n",
       "      <th>2</th>\n",
       "      <td>T</td>\n",
       "      <td>T</td>\n",
       "      <td>T</td>\n",
       "    </tr>\n",
       "    <tr>\n",
       "      <th>3</th>\n",
       "      <td>H</td>\n",
       "      <td>H</td>\n",
       "      <td>T</td>\n",
       "    </tr>\n",
       "    <tr>\n",
       "      <th>4</th>\n",
       "      <td>T</td>\n",
       "      <td>H</td>\n",
       "      <td>T</td>\n",
       "    </tr>\n",
       "    <tr>\n",
       "      <th>5</th>\n",
       "      <td>T</td>\n",
       "      <td>H</td>\n",
       "      <td>H</td>\n",
       "    </tr>\n",
       "    <tr>\n",
       "      <th>...</th>\n",
       "      <td>...</td>\n",
       "      <td>...</td>\n",
       "      <td>...</td>\n",
       "    </tr>\n",
       "    <tr>\n",
       "      <th>996</th>\n",
       "      <td>T</td>\n",
       "      <td>T</td>\n",
       "      <td>H</td>\n",
       "    </tr>\n",
       "    <tr>\n",
       "      <th>997</th>\n",
       "      <td>T</td>\n",
       "      <td>H</td>\n",
       "      <td>T</td>\n",
       "    </tr>\n",
       "    <tr>\n",
       "      <th>998</th>\n",
       "      <td>H</td>\n",
       "      <td>H</td>\n",
       "      <td>T</td>\n",
       "    </tr>\n",
       "    <tr>\n",
       "      <th>999</th>\n",
       "      <td>H</td>\n",
       "      <td>H</td>\n",
       "      <td>T</td>\n",
       "    </tr>\n",
       "    <tr>\n",
       "      <th>1000</th>\n",
       "      <td>H</td>\n",
       "      <td>T</td>\n",
       "      <td>H</td>\n",
       "    </tr>\n",
       "  </tbody>\n",
       "</table>\n",
       "<p>1000 rows × 3 columns</p>\n",
       "</div>"
      ],
      "text/plain": [
       "             0  1  2\n",
       "Roll_Number         \n",
       "1            T  T  T\n",
       "2            T  T  T\n",
       "3            H  H  T\n",
       "4            T  H  T\n",
       "5            T  H  H\n",
       "...         .. .. ..\n",
       "996          T  T  H\n",
       "997          T  H  T\n",
       "998          H  H  T\n",
       "999          H  H  T\n",
       "1000         H  T  H\n",
       "\n",
       "[1000 rows x 3 columns]"
      ]
     },
     "execution_count": 11,
     "metadata": {},
     "output_type": "execute_result"
    }
   ],
   "source": [
    "game1.display(True)"
   ]
  },
  {
   "cell_type": "markdown",
   "id": "5bd2ff0c-bb7f-458e-bcea-cef060d26538",
   "metadata": {},
   "source": [
    "### Play a game of 1000 flips with two unfair dice and one fair die."
   ]
  },
  {
   "cell_type": "code",
   "execution_count": 13,
   "id": "accfba5e-ab6e-42a3-8b3e-a6786e59f704",
   "metadata": {},
   "outputs": [],
   "source": [
    "game2 = DieGame([f1,u1,u2])"
   ]
  },
  {
   "cell_type": "code",
   "execution_count": 14,
   "id": "26e27b9d-834e-4eae-a959-bf18540d72cd",
   "metadata": {},
   "outputs": [],
   "source": [
    "game2.play2(1000)"
   ]
  },
  {
   "cell_type": "code",
   "execution_count": 15,
   "id": "dfa73e3a-91cc-4382-9871-e85503d7fd76",
   "metadata": {},
   "outputs": [
    {
     "data": {
      "text/html": [
       "<div>\n",
       "<style scoped>\n",
       "    .dataframe tbody tr th:only-of-type {\n",
       "        vertical-align: middle;\n",
       "    }\n",
       "\n",
       "    .dataframe tbody tr th {\n",
       "        vertical-align: top;\n",
       "    }\n",
       "\n",
       "    .dataframe thead th {\n",
       "        text-align: right;\n",
       "    }\n",
       "</style>\n",
       "<table border=\"1\" class=\"dataframe\">\n",
       "  <thead>\n",
       "    <tr style=\"text-align: right;\">\n",
       "      <th></th>\n",
       "      <th>0</th>\n",
       "      <th>1</th>\n",
       "      <th>2</th>\n",
       "    </tr>\n",
       "    <tr>\n",
       "      <th>Roll_Number</th>\n",
       "      <th></th>\n",
       "      <th></th>\n",
       "      <th></th>\n",
       "    </tr>\n",
       "  </thead>\n",
       "  <tbody>\n",
       "    <tr>\n",
       "      <th>1</th>\n",
       "      <td>H</td>\n",
       "      <td>T</td>\n",
       "      <td>T</td>\n",
       "    </tr>\n",
       "    <tr>\n",
       "      <th>2</th>\n",
       "      <td>T</td>\n",
       "      <td>T</td>\n",
       "      <td>H</td>\n",
       "    </tr>\n",
       "    <tr>\n",
       "      <th>3</th>\n",
       "      <td>H</td>\n",
       "      <td>T</td>\n",
       "      <td>H</td>\n",
       "    </tr>\n",
       "    <tr>\n",
       "      <th>4</th>\n",
       "      <td>H</td>\n",
       "      <td>T</td>\n",
       "      <td>H</td>\n",
       "    </tr>\n",
       "    <tr>\n",
       "      <th>5</th>\n",
       "      <td>T</td>\n",
       "      <td>T</td>\n",
       "      <td>H</td>\n",
       "    </tr>\n",
       "    <tr>\n",
       "      <th>...</th>\n",
       "      <td>...</td>\n",
       "      <td>...</td>\n",
       "      <td>...</td>\n",
       "    </tr>\n",
       "    <tr>\n",
       "      <th>996</th>\n",
       "      <td>H</td>\n",
       "      <td>T</td>\n",
       "      <td>H</td>\n",
       "    </tr>\n",
       "    <tr>\n",
       "      <th>997</th>\n",
       "      <td>T</td>\n",
       "      <td>T</td>\n",
       "      <td>H</td>\n",
       "    </tr>\n",
       "    <tr>\n",
       "      <th>998</th>\n",
       "      <td>T</td>\n",
       "      <td>T</td>\n",
       "      <td>H</td>\n",
       "    </tr>\n",
       "    <tr>\n",
       "      <th>999</th>\n",
       "      <td>H</td>\n",
       "      <td>T</td>\n",
       "      <td>H</td>\n",
       "    </tr>\n",
       "    <tr>\n",
       "      <th>1000</th>\n",
       "      <td>T</td>\n",
       "      <td>T</td>\n",
       "      <td>H</td>\n",
       "    </tr>\n",
       "  </tbody>\n",
       "</table>\n",
       "<p>1000 rows × 3 columns</p>\n",
       "</div>"
      ],
      "text/plain": [
       "             0  1  2\n",
       "Roll_Number         \n",
       "1            H  T  T\n",
       "2            T  T  H\n",
       "3            H  T  H\n",
       "4            H  T  H\n",
       "5            T  T  H\n",
       "...         .. .. ..\n",
       "996          H  T  H\n",
       "997          T  T  H\n",
       "998          T  T  H\n",
       "999          H  T  H\n",
       "1000         T  T  H\n",
       "\n",
       "[1000 rows x 3 columns]"
      ]
     },
     "execution_count": 15,
     "metadata": {},
     "output_type": "execute_result"
    }
   ],
   "source": [
    "game2.display(True)"
   ]
  },
  {
   "cell_type": "code",
   "execution_count": 16,
   "id": "32ff2e85-b6fd-44ef-89dd-2a71640078a3",
   "metadata": {},
   "outputs": [
    {
     "data": {
      "text/html": [
       "<div>\n",
       "<style scoped>\n",
       "    .dataframe tbody tr th:only-of-type {\n",
       "        vertical-align: middle;\n",
       "    }\n",
       "\n",
       "    .dataframe tbody tr th {\n",
       "        vertical-align: top;\n",
       "    }\n",
       "\n",
       "    .dataframe thead th {\n",
       "        text-align: right;\n",
       "    }\n",
       "</style>\n",
       "<table border=\"1\" class=\"dataframe\">\n",
       "  <thead>\n",
       "    <tr style=\"text-align: right;\">\n",
       "      <th></th>\n",
       "      <th></th>\n",
       "      <th>Face_Value</th>\n",
       "    </tr>\n",
       "    <tr>\n",
       "      <th>Roll_Number</th>\n",
       "      <th>Die</th>\n",
       "      <th></th>\n",
       "    </tr>\n",
       "  </thead>\n",
       "  <tbody>\n",
       "    <tr>\n",
       "      <th>1</th>\n",
       "      <th>0</th>\n",
       "      <td>H</td>\n",
       "    </tr>\n",
       "    <tr>\n",
       "      <th>2</th>\n",
       "      <th>0</th>\n",
       "      <td>T</td>\n",
       "    </tr>\n",
       "    <tr>\n",
       "      <th>3</th>\n",
       "      <th>0</th>\n",
       "      <td>H</td>\n",
       "    </tr>\n",
       "    <tr>\n",
       "      <th>4</th>\n",
       "      <th>0</th>\n",
       "      <td>H</td>\n",
       "    </tr>\n",
       "    <tr>\n",
       "      <th>5</th>\n",
       "      <th>0</th>\n",
       "      <td>T</td>\n",
       "    </tr>\n",
       "    <tr>\n",
       "      <th>...</th>\n",
       "      <th>...</th>\n",
       "      <td>...</td>\n",
       "    </tr>\n",
       "    <tr>\n",
       "      <th>996</th>\n",
       "      <th>2</th>\n",
       "      <td>H</td>\n",
       "    </tr>\n",
       "    <tr>\n",
       "      <th>997</th>\n",
       "      <th>2</th>\n",
       "      <td>H</td>\n",
       "    </tr>\n",
       "    <tr>\n",
       "      <th>998</th>\n",
       "      <th>2</th>\n",
       "      <td>H</td>\n",
       "    </tr>\n",
       "    <tr>\n",
       "      <th>999</th>\n",
       "      <th>2</th>\n",
       "      <td>H</td>\n",
       "    </tr>\n",
       "    <tr>\n",
       "      <th>1000</th>\n",
       "      <th>2</th>\n",
       "      <td>H</td>\n",
       "    </tr>\n",
       "  </tbody>\n",
       "</table>\n",
       "<p>3000 rows × 1 columns</p>\n",
       "</div>"
      ],
      "text/plain": [
       "                Face_Value\n",
       "Roll_Number Die           \n",
       "1           0            H\n",
       "2           0            T\n",
       "3           0            H\n",
       "4           0            H\n",
       "5           0            T\n",
       "...                    ...\n",
       "996         2            H\n",
       "997         2            H\n",
       "998         2            H\n",
       "999         2            H\n",
       "1000        2            H\n",
       "\n",
       "[3000 rows x 1 columns]"
      ]
     },
     "execution_count": 16,
     "metadata": {},
     "output_type": "execute_result"
    }
   ],
   "source": [
    "game2.display(False)"
   ]
  },
  {
   "cell_type": "markdown",
   "id": "edbdca1a-e4c1-4528-b811-1c9e31228273",
   "metadata": {},
   "source": [
    "### For each game, use an Analyzer object to determine the relative frequency of jackpots – getting either all Hs or all Ts."
   ]
  },
  {
   "cell_type": "code",
   "execution_count": 17,
   "id": "32e2a5fd-bf91-4f59-bcc3-fc82e5b4b736",
   "metadata": {},
   "outputs": [],
   "source": [
    "somethingin = Analyzer(game1)"
   ]
  },
  {
   "cell_type": "code",
   "execution_count": 18,
   "id": "026cd246-f22f-4191-aa51-85c74b339d28",
   "metadata": {},
   "outputs": [
    {
     "data": {
      "text/plain": [
       "254"
      ]
     },
     "execution_count": 18,
     "metadata": {},
     "output_type": "execute_result"
    }
   ],
   "source": [
    "somethingin.jackpot()"
   ]
  },
  {
   "cell_type": "code",
   "execution_count": 19,
   "id": "2ad4eb90-1a08-4b94-9031-0cea7b0f93fd",
   "metadata": {},
   "outputs": [
    {
     "data": {
      "text/html": [
       "<div>\n",
       "<style scoped>\n",
       "    .dataframe tbody tr th:only-of-type {\n",
       "        vertical-align: middle;\n",
       "    }\n",
       "\n",
       "    .dataframe tbody tr th {\n",
       "        vertical-align: top;\n",
       "    }\n",
       "\n",
       "    .dataframe thead th {\n",
       "        text-align: right;\n",
       "    }\n",
       "</style>\n",
       "<table border=\"1\" class=\"dataframe\">\n",
       "  <thead>\n",
       "    <tr style=\"text-align: right;\">\n",
       "      <th></th>\n",
       "      <th>0</th>\n",
       "      <th>1</th>\n",
       "      <th>2</th>\n",
       "    </tr>\n",
       "    <tr>\n",
       "      <th>Roll_Number</th>\n",
       "      <th></th>\n",
       "      <th></th>\n",
       "      <th></th>\n",
       "    </tr>\n",
       "  </thead>\n",
       "  <tbody>\n",
       "    <tr>\n",
       "      <th>1</th>\n",
       "      <td>T</td>\n",
       "      <td>T</td>\n",
       "      <td>T</td>\n",
       "    </tr>\n",
       "    <tr>\n",
       "      <th>2</th>\n",
       "      <td>T</td>\n",
       "      <td>T</td>\n",
       "      <td>T</td>\n",
       "    </tr>\n",
       "    <tr>\n",
       "      <th>13</th>\n",
       "      <td>H</td>\n",
       "      <td>H</td>\n",
       "      <td>H</td>\n",
       "    </tr>\n",
       "    <tr>\n",
       "      <th>18</th>\n",
       "      <td>T</td>\n",
       "      <td>T</td>\n",
       "      <td>T</td>\n",
       "    </tr>\n",
       "    <tr>\n",
       "      <th>20</th>\n",
       "      <td>H</td>\n",
       "      <td>H</td>\n",
       "      <td>H</td>\n",
       "    </tr>\n",
       "    <tr>\n",
       "      <th>...</th>\n",
       "      <td>...</td>\n",
       "      <td>...</td>\n",
       "      <td>...</td>\n",
       "    </tr>\n",
       "    <tr>\n",
       "      <th>976</th>\n",
       "      <td>T</td>\n",
       "      <td>T</td>\n",
       "      <td>T</td>\n",
       "    </tr>\n",
       "    <tr>\n",
       "      <th>979</th>\n",
       "      <td>H</td>\n",
       "      <td>H</td>\n",
       "      <td>H</td>\n",
       "    </tr>\n",
       "    <tr>\n",
       "      <th>985</th>\n",
       "      <td>T</td>\n",
       "      <td>T</td>\n",
       "      <td>T</td>\n",
       "    </tr>\n",
       "    <tr>\n",
       "      <th>990</th>\n",
       "      <td>T</td>\n",
       "      <td>T</td>\n",
       "      <td>T</td>\n",
       "    </tr>\n",
       "    <tr>\n",
       "      <th>992</th>\n",
       "      <td>H</td>\n",
       "      <td>H</td>\n",
       "      <td>H</td>\n",
       "    </tr>\n",
       "  </tbody>\n",
       "</table>\n",
       "<p>254 rows × 3 columns</p>\n",
       "</div>"
      ],
      "text/plain": [
       "             0  1  2\n",
       "Roll_Number         \n",
       "1            T  T  T\n",
       "2            T  T  T\n",
       "13           H  H  H\n",
       "18           T  T  T\n",
       "20           H  H  H\n",
       "...         .. .. ..\n",
       "976          T  T  T\n",
       "979          H  H  H\n",
       "985          T  T  T\n",
       "990          T  T  T\n",
       "992          H  H  H\n",
       "\n",
       "[254 rows x 3 columns]"
      ]
     },
     "execution_count": 19,
     "metadata": {},
     "output_type": "execute_result"
    }
   ],
   "source": [
    "somethingin.jack"
   ]
  },
  {
   "cell_type": "code",
   "execution_count": 20,
   "id": "d983b312-bd09-47cd-b29a-2107257c3b3f",
   "metadata": {},
   "outputs": [],
   "source": [
    "eleanor = Analyzer(game2)"
   ]
  },
  {
   "cell_type": "code",
   "execution_count": 21,
   "id": "4328b098-20ab-41ee-9060-5e01dd5a0757",
   "metadata": {},
   "outputs": [
    {
     "data": {
      "text/plain": [
       "138"
      ]
     },
     "execution_count": 21,
     "metadata": {},
     "output_type": "execute_result"
    }
   ],
   "source": [
    "eleanor.jackpot()"
   ]
  },
  {
   "cell_type": "code",
   "execution_count": 22,
   "id": "102229ff-b9be-4ec8-a3dd-6d89369af23d",
   "metadata": {},
   "outputs": [
    {
     "name": "stdout",
     "output_type": "stream",
     "text": [
      "Game 1 had a relative frequency of:\n"
     ]
    },
    {
     "data": {
      "text/plain": [
       "0.254"
      ]
     },
     "execution_count": 22,
     "metadata": {},
     "output_type": "execute_result"
    }
   ],
   "source": [
    "print('Game 1 had a relative frequency of:') \n",
    "game1freq = 254/1000\n",
    "game1freq"
   ]
  },
  {
   "cell_type": "code",
   "execution_count": 23,
   "id": "42ee92ef-6bec-4e47-b0fb-2bdcc83015f5",
   "metadata": {},
   "outputs": [
    {
     "name": "stdout",
     "output_type": "stream",
     "text": [
      "Game 2 had a relative frequency of:\n"
     ]
    },
    {
     "data": {
      "text/plain": [
       "0.138"
      ]
     },
     "execution_count": 23,
     "metadata": {},
     "output_type": "execute_result"
    }
   ],
   "source": [
    "print('Game 2 had a relative frequency of:') \n",
    "game2freq = 138/1000\n",
    "game2freq"
   ]
  },
  {
   "cell_type": "markdown",
   "id": "0393a2ec-f842-424d-b0cd-c2a3c2688730",
   "metadata": {},
   "source": [
    "### Show your results, comparing the two relative frequencies, in a simple bar chart."
   ]
  },
  {
   "cell_type": "code",
   "execution_count": 24,
   "id": "459f48ca-15d3-4197-900c-b4100de81bd4",
   "metadata": {},
   "outputs": [],
   "source": [
    "import matplotlib.pyplot as plt"
   ]
  },
  {
   "cell_type": "code",
   "execution_count": 25,
   "id": "1a4916d4-5961-45bf-a9a4-802809c50162",
   "metadata": {},
   "outputs": [
    {
     "data": {
      "image/png": "[encoded data removed]",
      "text/plain": [
       "<Figure size 432x288 with 1 Axes>"
      ]
     },
     "metadata": {
      "needs_background": "light"
     },
     "output_type": "display_data"
    }
   ],
   "source": [
    "Game = ['Game 1', 'Game 2']\n",
    "Frequency = [0.254,0.138]\n",
    "\n",
    "plt.bar(Game,Frequency)\n",
    "plt.title('Jackpot Frequency')\n",
    "plt.xlabel('Game')\n",
    "plt.ylabel('Frequency')\n",
    "plt.show()"
   ]
  },
  {
   "cell_type": "markdown",
   "id": "0c2dcd85-c78d-4362-82be-01ed36dcadef",
   "metadata": {},
   "source": [
    "## A 6-sided die"
   ]
  },
  {
   "cell_type": "markdown",
   "id": "2b0a4d06-3d76-4e7a-b13c-50a851482d79",
   "metadata": {},
   "source": [
    "Create a fair die and two unfair dice, all of six sides with the faces 1 through 6. <br> \n",
    "- One unfair die (Type 1) will weight 6 five times more than the others (i.e. it has weight of 5 and the others a weight of 1 each). \n",
    "- The other unfair die (Type 2) will  weight 1 five times more than the others."
   ]
  },
  {
   "cell_type": "code",
   "execution_count": 26,
   "id": "96ce5057-fc6b-45d1-9dbf-f402822bde2c",
   "metadata": {},
   "outputs": [],
   "source": [
    "fd1 = Die([1,2,3,4,5,6])\n",
    "dt1 = Die([1,2,3,4,5,6])\n",
    "dt2 = Die([1,2,3,4,5,6])"
   ]
  },
  {
   "cell_type": "code",
   "execution_count": 27,
   "id": "c8e11176-145a-497f-a91d-9cccc90c34b3",
   "metadata": {},
   "outputs": [],
   "source": [
    "dt1.change_the_weight(6,5)"
   ]
  },
  {
   "cell_type": "code",
   "execution_count": 28,
   "id": "29e439e2-03f8-4dd2-a15a-bfab266573d9",
   "metadata": {},
   "outputs": [
    {
     "name": "stdout",
     "output_type": "stream",
     "text": [
      "The current state faces and weights:\n"
     ]
    },
    {
     "data": {
      "text/html": [
       "<div>\n",
       "<style scoped>\n",
       "    .dataframe tbody tr th:only-of-type {\n",
       "        vertical-align: middle;\n",
       "    }\n",
       "\n",
       "    .dataframe tbody tr th {\n",
       "        vertical-align: top;\n",
       "    }\n",
       "\n",
       "    .dataframe thead th {\n",
       "        text-align: right;\n",
       "    }\n",
       "</style>\n",
       "<table border=\"1\" class=\"dataframe\">\n",
       "  <thead>\n",
       "    <tr style=\"text-align: right;\">\n",
       "      <th></th>\n",
       "      <th>faces</th>\n",
       "      <th>weights</th>\n",
       "    </tr>\n",
       "  </thead>\n",
       "  <tbody>\n",
       "    <tr>\n",
       "      <th>0</th>\n",
       "      <td>1</td>\n",
       "      <td>1.0</td>\n",
       "    </tr>\n",
       "    <tr>\n",
       "      <th>1</th>\n",
       "      <td>2</td>\n",
       "      <td>1.0</td>\n",
       "    </tr>\n",
       "    <tr>\n",
       "      <th>2</th>\n",
       "      <td>3</td>\n",
       "      <td>1.0</td>\n",
       "    </tr>\n",
       "    <tr>\n",
       "      <th>3</th>\n",
       "      <td>4</td>\n",
       "      <td>1.0</td>\n",
       "    </tr>\n",
       "    <tr>\n",
       "      <th>4</th>\n",
       "      <td>5</td>\n",
       "      <td>1.0</td>\n",
       "    </tr>\n",
       "    <tr>\n",
       "      <th>5</th>\n",
       "      <td>6</td>\n",
       "      <td>5.0</td>\n",
       "    </tr>\n",
       "  </tbody>\n",
       "</table>\n",
       "</div>"
      ],
      "text/plain": [
       "   faces  weights\n",
       "0      1      1.0\n",
       "1      2      1.0\n",
       "2      3      1.0\n",
       "3      4      1.0\n",
       "4      5      1.0\n",
       "5      6      5.0"
      ]
     },
     "execution_count": 28,
     "metadata": {},
     "output_type": "execute_result"
    }
   ],
   "source": [
    "dt1.show()"
   ]
  },
  {
   "cell_type": "code",
   "execution_count": 29,
   "id": "52b6575c-9a4e-43b3-a853-4ca0cd434ebb",
   "metadata": {},
   "outputs": [],
   "source": [
    "dt2.change_the_weight(1,5)"
   ]
  },
  {
   "cell_type": "code",
   "execution_count": 30,
   "id": "014feb09-507b-4320-a153-c59d52af590f",
   "metadata": {},
   "outputs": [
    {
     "name": "stdout",
     "output_type": "stream",
     "text": [
      "The current state faces and weights:\n"
     ]
    },
    {
     "data": {
      "text/html": [
       "<div>\n",
       "<style scoped>\n",
       "    .dataframe tbody tr th:only-of-type {\n",
       "        vertical-align: middle;\n",
       "    }\n",
       "\n",
       "    .dataframe tbody tr th {\n",
       "        vertical-align: top;\n",
       "    }\n",
       "\n",
       "    .dataframe thead th {\n",
       "        text-align: right;\n",
       "    }\n",
       "</style>\n",
       "<table border=\"1\" class=\"dataframe\">\n",
       "  <thead>\n",
       "    <tr style=\"text-align: right;\">\n",
       "      <th></th>\n",
       "      <th>faces</th>\n",
       "      <th>weights</th>\n",
       "    </tr>\n",
       "  </thead>\n",
       "  <tbody>\n",
       "    <tr>\n",
       "      <th>0</th>\n",
       "      <td>1</td>\n",
       "      <td>5.0</td>\n",
       "    </tr>\n",
       "    <tr>\n",
       "      <th>1</th>\n",
       "      <td>2</td>\n",
       "      <td>1.0</td>\n",
       "    </tr>\n",
       "    <tr>\n",
       "      <th>2</th>\n",
       "      <td>3</td>\n",
       "      <td>1.0</td>\n",
       "    </tr>\n",
       "    <tr>\n",
       "      <th>3</th>\n",
       "      <td>4</td>\n",
       "      <td>1.0</td>\n",
       "    </tr>\n",
       "    <tr>\n",
       "      <th>4</th>\n",
       "      <td>5</td>\n",
       "      <td>1.0</td>\n",
       "    </tr>\n",
       "    <tr>\n",
       "      <th>5</th>\n",
       "      <td>6</td>\n",
       "      <td>1.0</td>\n",
       "    </tr>\n",
       "  </tbody>\n",
       "</table>\n",
       "</div>"
      ],
      "text/plain": [
       "   faces  weights\n",
       "0      1      5.0\n",
       "1      2      1.0\n",
       "2      3      1.0\n",
       "3      4      1.0\n",
       "4      5      1.0\n",
       "5      6      1.0"
      ]
     },
     "execution_count": 30,
     "metadata": {},
     "output_type": "execute_result"
    }
   ],
   "source": [
    "dt2.show()"
   ]
  },
  {
   "cell_type": "markdown",
   "id": "9d05f3ff-7aae-4f6f-a27d-88565efca3b0",
   "metadata": {},
   "source": [
    "### Play a game of 10000 rolls with 5 fair dice."
   ]
  },
  {
   "cell_type": "code",
   "execution_count": 31,
   "id": "ca60e04e-4052-44fb-bbca-30e1de3e3252",
   "metadata": {},
   "outputs": [],
   "source": [
    "game3 = DieGame([fd1,fd1,fd1,fd1,fd1])"
   ]
  },
  {
   "cell_type": "code",
   "execution_count": 32,
   "id": "80d2abf8-ee66-4b17-a41e-c32659780164",
   "metadata": {},
   "outputs": [],
   "source": [
    "game3.play2(10000)"
   ]
  },
  {
   "cell_type": "code",
   "execution_count": 33,
   "id": "18cef458-4e14-4dd6-ac2c-8f851154ac47",
   "metadata": {},
   "outputs": [
    {
     "data": {
      "text/html": [
       "<div>\n",
       "<style scoped>\n",
       "    .dataframe tbody tr th:only-of-type {\n",
       "        vertical-align: middle;\n",
       "    }\n",
       "\n",
       "    .dataframe tbody tr th {\n",
       "        vertical-align: top;\n",
       "    }\n",
       "\n",
       "    .dataframe thead th {\n",
       "        text-align: right;\n",
       "    }\n",
       "</style>\n",
       "<table border=\"1\" class=\"dataframe\">\n",
       "  <thead>\n",
       "    <tr style=\"text-align: right;\">\n",
       "      <th></th>\n",
       "      <th>0</th>\n",
       "      <th>1</th>\n",
       "      <th>2</th>\n",
       "      <th>3</th>\n",
       "      <th>4</th>\n",
       "    </tr>\n",
       "    <tr>\n",
       "      <th>Roll_Number</th>\n",
       "      <th></th>\n",
       "      <th></th>\n",
       "      <th></th>\n",
       "      <th></th>\n",
       "      <th></th>\n",
       "    </tr>\n",
       "  </thead>\n",
       "  <tbody>\n",
       "    <tr>\n",
       "      <th>1</th>\n",
       "      <td>4</td>\n",
       "      <td>4</td>\n",
       "      <td>3</td>\n",
       "      <td>5</td>\n",
       "      <td>3</td>\n",
       "    </tr>\n",
       "    <tr>\n",
       "      <th>2</th>\n",
       "      <td>4</td>\n",
       "      <td>5</td>\n",
       "      <td>3</td>\n",
       "      <td>4</td>\n",
       "      <td>2</td>\n",
       "    </tr>\n",
       "    <tr>\n",
       "      <th>3</th>\n",
       "      <td>3</td>\n",
       "      <td>6</td>\n",
       "      <td>3</td>\n",
       "      <td>5</td>\n",
       "      <td>2</td>\n",
       "    </tr>\n",
       "    <tr>\n",
       "      <th>4</th>\n",
       "      <td>2</td>\n",
       "      <td>5</td>\n",
       "      <td>5</td>\n",
       "      <td>4</td>\n",
       "      <td>6</td>\n",
       "    </tr>\n",
       "    <tr>\n",
       "      <th>5</th>\n",
       "      <td>6</td>\n",
       "      <td>3</td>\n",
       "      <td>4</td>\n",
       "      <td>1</td>\n",
       "      <td>4</td>\n",
       "    </tr>\n",
       "    <tr>\n",
       "      <th>...</th>\n",
       "      <td>...</td>\n",
       "      <td>...</td>\n",
       "      <td>...</td>\n",
       "      <td>...</td>\n",
       "      <td>...</td>\n",
       "    </tr>\n",
       "    <tr>\n",
       "      <th>9996</th>\n",
       "      <td>1</td>\n",
       "      <td>2</td>\n",
       "      <td>2</td>\n",
       "      <td>5</td>\n",
       "      <td>1</td>\n",
       "    </tr>\n",
       "    <tr>\n",
       "      <th>9997</th>\n",
       "      <td>3</td>\n",
       "      <td>1</td>\n",
       "      <td>6</td>\n",
       "      <td>4</td>\n",
       "      <td>1</td>\n",
       "    </tr>\n",
       "    <tr>\n",
       "      <th>9998</th>\n",
       "      <td>4</td>\n",
       "      <td>5</td>\n",
       "      <td>4</td>\n",
       "      <td>5</td>\n",
       "      <td>1</td>\n",
       "    </tr>\n",
       "    <tr>\n",
       "      <th>9999</th>\n",
       "      <td>4</td>\n",
       "      <td>3</td>\n",
       "      <td>4</td>\n",
       "      <td>5</td>\n",
       "      <td>1</td>\n",
       "    </tr>\n",
       "    <tr>\n",
       "      <th>10000</th>\n",
       "      <td>5</td>\n",
       "      <td>3</td>\n",
       "      <td>2</td>\n",
       "      <td>5</td>\n",
       "      <td>6</td>\n",
       "    </tr>\n",
       "  </tbody>\n",
       "</table>\n",
       "<p>10000 rows × 5 columns</p>\n",
       "</div>"
      ],
      "text/plain": [
       "             0  1  2  3  4\n",
       "Roll_Number               \n",
       "1            4  4  3  5  3\n",
       "2            4  5  3  4  2\n",
       "3            3  6  3  5  2\n",
       "4            2  5  5  4  6\n",
       "5            6  3  4  1  4\n",
       "...         .. .. .. .. ..\n",
       "9996         1  2  2  5  1\n",
       "9997         3  1  6  4  1\n",
       "9998         4  5  4  5  1\n",
       "9999         4  3  4  5  1\n",
       "10000        5  3  2  5  6\n",
       "\n",
       "[10000 rows x 5 columns]"
      ]
     },
     "execution_count": 33,
     "metadata": {},
     "output_type": "execute_result"
    }
   ],
   "source": [
    "game3.display()"
   ]
  },
  {
   "cell_type": "markdown",
   "id": "5717f0b4-7d1a-4c0d-9ae4-de9bb101ef43",
   "metadata": {},
   "source": [
    "### Play a game of 10000 rolls with 2 unfair dice of type 1, 1 unfair die of type 2, and the rest fair dice."
   ]
  },
  {
   "cell_type": "code",
   "execution_count": 34,
   "id": "61f5b455-c330-4923-b789-075a78fe96ec",
   "metadata": {},
   "outputs": [],
   "source": [
    "game4 = DieGame([dt1,dt1,dt2,fd1,fd1])"
   ]
  },
  {
   "cell_type": "code",
   "execution_count": 35,
   "id": "329327ba-a0b1-4bf3-a288-1bd20afcbb71",
   "metadata": {},
   "outputs": [],
   "source": [
    "game4.play2(10000)"
   ]
  },
  {
   "cell_type": "code",
   "execution_count": 36,
   "id": "bf99eaa4-7d3b-4fd8-ab57-0c0cc7b6cc61",
   "metadata": {},
   "outputs": [
    {
     "data": {
      "text/html": [
       "<div>\n",
       "<style scoped>\n",
       "    .dataframe tbody tr th:only-of-type {\n",
       "        vertical-align: middle;\n",
       "    }\n",
       "\n",
       "    .dataframe tbody tr th {\n",
       "        vertical-align: top;\n",
       "    }\n",
       "\n",
       "    .dataframe thead th {\n",
       "        text-align: right;\n",
       "    }\n",
       "</style>\n",
       "<table border=\"1\" class=\"dataframe\">\n",
       "  <thead>\n",
       "    <tr style=\"text-align: right;\">\n",
       "      <th></th>\n",
       "      <th>0</th>\n",
       "      <th>1</th>\n",
       "      <th>2</th>\n",
       "      <th>3</th>\n",
       "      <th>4</th>\n",
       "    </tr>\n",
       "    <tr>\n",
       "      <th>Roll_Number</th>\n",
       "      <th></th>\n",
       "      <th></th>\n",
       "      <th></th>\n",
       "      <th></th>\n",
       "      <th></th>\n",
       "    </tr>\n",
       "  </thead>\n",
       "  <tbody>\n",
       "    <tr>\n",
       "      <th>1</th>\n",
       "      <td>4</td>\n",
       "      <td>6</td>\n",
       "      <td>1</td>\n",
       "      <td>2</td>\n",
       "      <td>1</td>\n",
       "    </tr>\n",
       "    <tr>\n",
       "      <th>2</th>\n",
       "      <td>6</td>\n",
       "      <td>5</td>\n",
       "      <td>1</td>\n",
       "      <td>4</td>\n",
       "      <td>2</td>\n",
       "    </tr>\n",
       "    <tr>\n",
       "      <th>3</th>\n",
       "      <td>1</td>\n",
       "      <td>6</td>\n",
       "      <td>1</td>\n",
       "      <td>5</td>\n",
       "      <td>6</td>\n",
       "    </tr>\n",
       "    <tr>\n",
       "      <th>4</th>\n",
       "      <td>1</td>\n",
       "      <td>6</td>\n",
       "      <td>5</td>\n",
       "      <td>1</td>\n",
       "      <td>5</td>\n",
       "    </tr>\n",
       "    <tr>\n",
       "      <th>5</th>\n",
       "      <td>5</td>\n",
       "      <td>1</td>\n",
       "      <td>3</td>\n",
       "      <td>4</td>\n",
       "      <td>2</td>\n",
       "    </tr>\n",
       "    <tr>\n",
       "      <th>...</th>\n",
       "      <td>...</td>\n",
       "      <td>...</td>\n",
       "      <td>...</td>\n",
       "      <td>...</td>\n",
       "      <td>...</td>\n",
       "    </tr>\n",
       "    <tr>\n",
       "      <th>9996</th>\n",
       "      <td>6</td>\n",
       "      <td>3</td>\n",
       "      <td>3</td>\n",
       "      <td>5</td>\n",
       "      <td>4</td>\n",
       "    </tr>\n",
       "    <tr>\n",
       "      <th>9997</th>\n",
       "      <td>6</td>\n",
       "      <td>2</td>\n",
       "      <td>1</td>\n",
       "      <td>6</td>\n",
       "      <td>4</td>\n",
       "    </tr>\n",
       "    <tr>\n",
       "      <th>9998</th>\n",
       "      <td>1</td>\n",
       "      <td>2</td>\n",
       "      <td>1</td>\n",
       "      <td>3</td>\n",
       "      <td>3</td>\n",
       "    </tr>\n",
       "    <tr>\n",
       "      <th>9999</th>\n",
       "      <td>2</td>\n",
       "      <td>5</td>\n",
       "      <td>5</td>\n",
       "      <td>4</td>\n",
       "      <td>6</td>\n",
       "    </tr>\n",
       "    <tr>\n",
       "      <th>10000</th>\n",
       "      <td>4</td>\n",
       "      <td>4</td>\n",
       "      <td>2</td>\n",
       "      <td>6</td>\n",
       "      <td>5</td>\n",
       "    </tr>\n",
       "  </tbody>\n",
       "</table>\n",
       "<p>10000 rows × 5 columns</p>\n",
       "</div>"
      ],
      "text/plain": [
       "             0  1  2  3  4\n",
       "Roll_Number               \n",
       "1            4  6  1  2  1\n",
       "2            6  5  1  4  2\n",
       "3            1  6  1  5  6\n",
       "4            1  6  5  1  5\n",
       "5            5  1  3  4  2\n",
       "...         .. .. .. .. ..\n",
       "9996         6  3  3  5  4\n",
       "9997         6  2  1  6  4\n",
       "9998         1  2  1  3  3\n",
       "9999         2  5  5  4  6\n",
       "10000        4  4  2  6  5\n",
       "\n",
       "[10000 rows x 5 columns]"
      ]
     },
     "execution_count": 36,
     "metadata": {},
     "output_type": "execute_result"
    }
   ],
   "source": [
    "game4.display()"
   ]
  },
  {
   "cell_type": "markdown",
   "id": "b77b8660-ead1-4b64-970b-73dd95e99d68",
   "metadata": {},
   "source": [
    "### For each game, use an Analyzer object to determine the relative frequency of jackpots and show your results, comparing the two relative frequencies, in a simple bar chart."
   ]
  },
  {
   "cell_type": "code",
   "execution_count": 37,
   "id": "258c66d5-ccfa-4881-a15e-629d32501bb3",
   "metadata": {},
   "outputs": [],
   "source": [
    "norwegianw = Analyzer(game3)\n",
    "yesterday = Analyzer(game4)"
   ]
  },
  {
   "cell_type": "code",
   "execution_count": 38,
   "id": "cf559b34-1ca8-416f-9dd6-7180cb2894c5",
   "metadata": {},
   "outputs": [
    {
     "data": {
      "text/plain": [
       "5"
      ]
     },
     "execution_count": 38,
     "metadata": {},
     "output_type": "execute_result"
    }
   ],
   "source": [
    "norwegianw.jackpot()"
   ]
  },
  {
   "cell_type": "code",
   "execution_count": 39,
   "id": "f3ac5edb-4447-41de-bb16-930b92f09641",
   "metadata": {},
   "outputs": [
    {
     "data": {
      "text/html": [
       "<div>\n",
       "<style scoped>\n",
       "    .dataframe tbody tr th:only-of-type {\n",
       "        vertical-align: middle;\n",
       "    }\n",
       "\n",
       "    .dataframe tbody tr th {\n",
       "        vertical-align: top;\n",
       "    }\n",
       "\n",
       "    .dataframe thead th {\n",
       "        text-align: right;\n",
       "    }\n",
       "</style>\n",
       "<table border=\"1\" class=\"dataframe\">\n",
       "  <thead>\n",
       "    <tr style=\"text-align: right;\">\n",
       "      <th></th>\n",
       "      <th>0</th>\n",
       "      <th>1</th>\n",
       "      <th>2</th>\n",
       "      <th>3</th>\n",
       "      <th>4</th>\n",
       "    </tr>\n",
       "    <tr>\n",
       "      <th>Roll_Number</th>\n",
       "      <th></th>\n",
       "      <th></th>\n",
       "      <th></th>\n",
       "      <th></th>\n",
       "      <th></th>\n",
       "    </tr>\n",
       "  </thead>\n",
       "  <tbody>\n",
       "    <tr>\n",
       "      <th>316</th>\n",
       "      <td>6</td>\n",
       "      <td>6</td>\n",
       "      <td>6</td>\n",
       "      <td>6</td>\n",
       "      <td>6</td>\n",
       "    </tr>\n",
       "    <tr>\n",
       "      <th>1048</th>\n",
       "      <td>3</td>\n",
       "      <td>3</td>\n",
       "      <td>3</td>\n",
       "      <td>3</td>\n",
       "      <td>3</td>\n",
       "    </tr>\n",
       "    <tr>\n",
       "      <th>4563</th>\n",
       "      <td>3</td>\n",
       "      <td>3</td>\n",
       "      <td>3</td>\n",
       "      <td>3</td>\n",
       "      <td>3</td>\n",
       "    </tr>\n",
       "    <tr>\n",
       "      <th>6707</th>\n",
       "      <td>5</td>\n",
       "      <td>5</td>\n",
       "      <td>5</td>\n",
       "      <td>5</td>\n",
       "      <td>5</td>\n",
       "    </tr>\n",
       "    <tr>\n",
       "      <th>7149</th>\n",
       "      <td>1</td>\n",
       "      <td>1</td>\n",
       "      <td>1</td>\n",
       "      <td>1</td>\n",
       "      <td>1</td>\n",
       "    </tr>\n",
       "  </tbody>\n",
       "</table>\n",
       "</div>"
      ],
      "text/plain": [
       "             0  1  2  3  4\n",
       "Roll_Number               \n",
       "316          6  6  6  6  6\n",
       "1048         3  3  3  3  3\n",
       "4563         3  3  3  3  3\n",
       "6707         5  5  5  5  5\n",
       "7149         1  1  1  1  1"
      ]
     },
     "execution_count": 39,
     "metadata": {},
     "output_type": "execute_result"
    }
   ],
   "source": [
    "norwegianw.jack"
   ]
  },
  {
   "cell_type": "code",
   "execution_count": 40,
   "id": "efd86cc6-5ecd-4193-8d90-eaa569936a78",
   "metadata": {},
   "outputs": [
    {
     "data": {
      "text/plain": [
       "6"
      ]
     },
     "execution_count": 40,
     "metadata": {},
     "output_type": "execute_result"
    }
   ],
   "source": [
    "yesterday.jackpot()"
   ]
  },
  {
   "cell_type": "code",
   "execution_count": 41,
   "id": "73999c1c-5316-47f2-9fe9-3caba0f76886",
   "metadata": {},
   "outputs": [
    {
     "data": {
      "text/html": [
       "<div>\n",
       "<style scoped>\n",
       "    .dataframe tbody tr th:only-of-type {\n",
       "        vertical-align: middle;\n",
       "    }\n",
       "\n",
       "    .dataframe tbody tr th {\n",
       "        vertical-align: top;\n",
       "    }\n",
       "\n",
       "    .dataframe thead th {\n",
       "        text-align: right;\n",
       "    }\n",
       "</style>\n",
       "<table border=\"1\" class=\"dataframe\">\n",
       "  <thead>\n",
       "    <tr style=\"text-align: right;\">\n",
       "      <th></th>\n",
       "      <th>0</th>\n",
       "      <th>1</th>\n",
       "      <th>2</th>\n",
       "      <th>3</th>\n",
       "      <th>4</th>\n",
       "    </tr>\n",
       "    <tr>\n",
       "      <th>Roll_Number</th>\n",
       "      <th></th>\n",
       "      <th></th>\n",
       "      <th></th>\n",
       "      <th></th>\n",
       "      <th></th>\n",
       "    </tr>\n",
       "  </thead>\n",
       "  <tbody>\n",
       "    <tr>\n",
       "      <th>444</th>\n",
       "      <td>6</td>\n",
       "      <td>6</td>\n",
       "      <td>6</td>\n",
       "      <td>6</td>\n",
       "      <td>6</td>\n",
       "    </tr>\n",
       "    <tr>\n",
       "      <th>781</th>\n",
       "      <td>3</td>\n",
       "      <td>3</td>\n",
       "      <td>3</td>\n",
       "      <td>3</td>\n",
       "      <td>3</td>\n",
       "    </tr>\n",
       "    <tr>\n",
       "      <th>3967</th>\n",
       "      <td>6</td>\n",
       "      <td>6</td>\n",
       "      <td>6</td>\n",
       "      <td>6</td>\n",
       "      <td>6</td>\n",
       "    </tr>\n",
       "    <tr>\n",
       "      <th>5077</th>\n",
       "      <td>6</td>\n",
       "      <td>6</td>\n",
       "      <td>6</td>\n",
       "      <td>6</td>\n",
       "      <td>6</td>\n",
       "    </tr>\n",
       "    <tr>\n",
       "      <th>5846</th>\n",
       "      <td>6</td>\n",
       "      <td>6</td>\n",
       "      <td>6</td>\n",
       "      <td>6</td>\n",
       "      <td>6</td>\n",
       "    </tr>\n",
       "    <tr>\n",
       "      <th>7451</th>\n",
       "      <td>1</td>\n",
       "      <td>1</td>\n",
       "      <td>1</td>\n",
       "      <td>1</td>\n",
       "      <td>1</td>\n",
       "    </tr>\n",
       "  </tbody>\n",
       "</table>\n",
       "</div>"
      ],
      "text/plain": [
       "             0  1  2  3  4\n",
       "Roll_Number               \n",
       "444          6  6  6  6  6\n",
       "781          3  3  3  3  3\n",
       "3967         6  6  6  6  6\n",
       "5077         6  6  6  6  6\n",
       "5846         6  6  6  6  6\n",
       "7451         1  1  1  1  1"
      ]
     },
     "execution_count": 41,
     "metadata": {},
     "output_type": "execute_result"
    }
   ],
   "source": [
    "yesterday.jack"
   ]
  },
  {
   "cell_type": "code",
   "execution_count": 42,
   "id": "1edc097e-c18c-4d8c-83f9-c5d585afea1d",
   "metadata": {},
   "outputs": [
    {
     "name": "stdout",
     "output_type": "stream",
     "text": [
      "Game 3 had a relative frequency of:\n"
     ]
    },
    {
     "data": {
      "text/plain": [
       "0.0005"
      ]
     },
     "execution_count": 42,
     "metadata": {},
     "output_type": "execute_result"
    }
   ],
   "source": [
    "print('Game 3 had a relative frequency of:') \n",
    "game3freq = 5/10000\n",
    "game3freq"
   ]
  },
  {
   "cell_type": "code",
   "execution_count": 43,
   "id": "d4dcaa9d-2851-45c4-96b4-48e7d43d512e",
   "metadata": {},
   "outputs": [
    {
     "name": "stdout",
     "output_type": "stream",
     "text": [
      "Game 4 had a relative frequency of:\n"
     ]
    },
    {
     "data": {
      "text/plain": [
       "0.0006"
      ]
     },
     "execution_count": 43,
     "metadata": {},
     "output_type": "execute_result"
    }
   ],
   "source": [
    "print('Game 4 had a relative frequency of:') \n",
    "game4freq = 6/10000\n",
    "game4freq"
   ]
  },
  {
   "cell_type": "code",
   "execution_count": 44,
   "id": "58bf2721-0bb4-49fb-987e-0cfed4c8c21c",
   "metadata": {},
   "outputs": [
    {
     "data": {
      "image/png": "[encoded data removed]",
      "text/plain": [
       "<Figure size 432x288 with 1 Axes>"
      ]
     },
     "metadata": {
      "needs_background": "light"
     },
     "output_type": "display_data"
    }
   ],
   "source": [
    "Game = ['Game 3', 'Game 4']\n",
    "Frequency = [0.0001,0.0009]\n",
    "\n",
    "plt.bar(Game,Frequency)\n",
    "plt.title('Jackpot Frequency')\n",
    "plt.xlabel('Game')\n",
    "plt.ylabel('Frequency')\n",
    "plt.show()"
   ]
  },
  {
   "cell_type": "markdown",
   "id": "0fba16dc-3cab-4d28-aff3-f021a237a095",
   "metadata": {},
   "source": [
    "### Also compute 10 most frequent combinations of faces for each game. Plot each of these as bar charts."
   ]
  },
  {
   "cell_type": "code",
   "execution_count": 45,
   "id": "82c7875a-905e-42f2-b18b-7f1d3c7bf778",
   "metadata": {},
   "outputs": [
    {
     "data": {
      "text/plain": [
       "<AxesSubplot:xlabel='0,1,2,3,4'>"
      ]
     },
     "execution_count": 45,
     "metadata": {},
     "output_type": "execute_result"
    },
    {
     "data": {
      "image/png": "[encoded data removed]",
      "text/plain": [
       "<Figure size 432x288 with 1 Axes>"
      ]
     },
     "metadata": {
      "needs_background": "light"
     },
     "output_type": "display_data"
    }
   ],
   "source": [
    "norwegianw.combo().nlargest(n=10,columns = ['Number of Instances']).plot.bar()"
   ]
  },
  {
   "cell_type": "code",
   "execution_count": 46,
   "id": "d191fc6f-ebf9-4304-8147-575e1829dc21",
   "metadata": {},
   "outputs": [
    {
     "data": {
      "text/plain": [
       "<AxesSubplot:xlabel='0,1,2,3,4'>"
      ]
     },
     "execution_count": 46,
     "metadata": {},
     "output_type": "execute_result"
    },
    {
     "data": {
      "image/png": "[encoded data removed]",
      "text/plain": [
       "<Figure size 432x288 with 1 Axes>"
      ]
     },
     "metadata": {
      "needs_background": "light"
     },
     "output_type": "display_data"
    }
   ],
   "source": [
    "yesterday.combo().nlargest(n=10,columns = ['Number of Instances']).plot.bar()"
   ]
  },
  {
   "cell_type": "markdown",
   "id": "e18bf06e-ef06-47a1-b850-d8cdc798b9f9",
   "metadata": {},
   "source": [
    "## Letters of the Roman Alphabet"
   ]
  },
  {
   "cell_type": "markdown",
   "id": "dda18f4f-c48b-40ac-84c4-1c1cae316a26",
   "metadata": {},
   "source": [
    "### Create a \"die\" of letters from a to z with weights based on their frequency of usage. See Appendix for these weights."
   ]
  },
  {
   "cell_type": "code",
   "execution_count": 47,
   "id": "3a7a166a-3030-4087-8185-57a8f2e22803",
   "metadata": {},
   "outputs": [],
   "source": [
    "alpha = Die(['A','B','C','D','E','F','G','H','I','J','K','L','M','N','O','P','Q','R','S','T','U','V','W','X','Y','Z'])"
   ]
  },
  {
   "cell_type": "code",
   "execution_count": 48,
   "id": "d8be52d7-bebd-489b-8115-7330fc1890b9",
   "metadata": {},
   "outputs": [],
   "source": [
    "alpha.change_the_weight('A',8.4966)"
   ]
  },
  {
   "cell_type": "code",
   "execution_count": 49,
   "id": "405a72ab-240a-4967-bed0-7a99a3a74dcf",
   "metadata": {},
   "outputs": [],
   "source": [
    "alpha.change_the_weight('B',2.0720)"
   ]
  },
  {
   "cell_type": "code",
   "execution_count": 50,
   "id": "28d81d2f-7f19-4c2c-b1a1-c620ee5529c1",
   "metadata": {},
   "outputs": [],
   "source": [
    "alpha.change_the_weight('C',4.5388)"
   ]
  },
  {
   "cell_type": "code",
   "execution_count": 51,
   "id": "66756ff4-d0ff-45b1-8740-b4aa8c1c4cb5",
   "metadata": {},
   "outputs": [],
   "source": [
    "alpha.change_the_weight('D',3.3844)"
   ]
  },
  {
   "cell_type": "code",
   "execution_count": 52,
   "id": "9110b861-8a02-4b3f-92d3-5d0a374aee98",
   "metadata": {},
   "outputs": [],
   "source": [
    "alpha.change_the_weight('E',11.1607)"
   ]
  },
  {
   "cell_type": "code",
   "execution_count": 53,
   "id": "251c4399-bc0a-4f4e-a26c-b052d7b46fca",
   "metadata": {},
   "outputs": [],
   "source": [
    "alpha.change_the_weight('F',1.8121)"
   ]
  },
  {
   "cell_type": "code",
   "execution_count": 54,
   "id": "7846c1c3-abc9-4502-a23d-278e96830fab",
   "metadata": {},
   "outputs": [],
   "source": [
    "alpha.change_the_weight('G',2.4705)"
   ]
  },
  {
   "cell_type": "code",
   "execution_count": 55,
   "id": "4e557cf9-1eb1-44fe-a7b8-d2ba6b3a41e1",
   "metadata": {},
   "outputs": [],
   "source": [
    "alpha.change_the_weight('H',3.0034)"
   ]
  },
  {
   "cell_type": "code",
   "execution_count": 56,
   "id": "200465b1-3a39-4e55-b0e3-307902c7b354",
   "metadata": {},
   "outputs": [],
   "source": [
    "alpha.change_the_weight('I',7.5448)"
   ]
  },
  {
   "cell_type": "code",
   "execution_count": 57,
   "id": "fc5a1d62-d859-4206-bd08-cd89d551257c",
   "metadata": {},
   "outputs": [],
   "source": [
    "alpha.change_the_weight('J',0.1965)"
   ]
  },
  {
   "cell_type": "code",
   "execution_count": 58,
   "id": "dbea524a-1ac2-44f7-b9e5-38f34260ff15",
   "metadata": {},
   "outputs": [],
   "source": [
    "alpha.change_the_weight('K',1.1016)"
   ]
  },
  {
   "cell_type": "code",
   "execution_count": 59,
   "id": "03c58419-4585-4ca1-8add-0c51a86c6b2f",
   "metadata": {},
   "outputs": [],
   "source": [
    "alpha.change_the_weight('L',5.4893)"
   ]
  },
  {
   "cell_type": "code",
   "execution_count": 60,
   "id": "33771d27-6b68-44ad-80b5-288a8b1bf4d0",
   "metadata": {},
   "outputs": [],
   "source": [
    "alpha.change_the_weight('M',3.0129)"
   ]
  },
  {
   "cell_type": "code",
   "execution_count": 61,
   "id": "9c16e2ad-2171-4991-92b8-655918336128",
   "metadata": {},
   "outputs": [],
   "source": [
    "alpha.change_the_weight('N',6.6544)"
   ]
  },
  {
   "cell_type": "code",
   "execution_count": 62,
   "id": "1c41a57f-6052-4dc8-bb2f-8d47b377f33e",
   "metadata": {},
   "outputs": [],
   "source": [
    "alpha.change_the_weight('O',7.1635)"
   ]
  },
  {
   "cell_type": "code",
   "execution_count": 63,
   "id": "5d02490d-63cd-47eb-aeb5-e9846783e4ff",
   "metadata": {},
   "outputs": [],
   "source": [
    "alpha.change_the_weight('P',3.1671)"
   ]
  },
  {
   "cell_type": "code",
   "execution_count": 64,
   "id": "48147af6-284b-40fd-a5f1-6cd305ebc174",
   "metadata": {},
   "outputs": [],
   "source": [
    "alpha.change_the_weight('Q',0.1962)"
   ]
  },
  {
   "cell_type": "code",
   "execution_count": 65,
   "id": "5f685c06-5b84-4517-830f-9fc1e71629dc",
   "metadata": {},
   "outputs": [],
   "source": [
    "alpha.change_the_weight('R',7.5809)"
   ]
  },
  {
   "cell_type": "code",
   "execution_count": 66,
   "id": "71b3c944-6e05-4f7c-88c0-f30ee8940b43",
   "metadata": {},
   "outputs": [],
   "source": [
    "alpha.change_the_weight('S',5.7351)"
   ]
  },
  {
   "cell_type": "code",
   "execution_count": 67,
   "id": "22903148-744d-46f9-bf26-996ff9f2e69f",
   "metadata": {},
   "outputs": [],
   "source": [
    "alpha.change_the_weight('T',6.9509)"
   ]
  },
  {
   "cell_type": "code",
   "execution_count": 68,
   "id": "f910bcfd-451a-47aa-92b5-be1f2b506785",
   "metadata": {},
   "outputs": [],
   "source": [
    "alpha.change_the_weight('U',3.6308)"
   ]
  },
  {
   "cell_type": "code",
   "execution_count": 69,
   "id": "96b2bec2-7047-43bc-bb09-2cce59b07818",
   "metadata": {},
   "outputs": [],
   "source": [
    "alpha.change_the_weight('V',1.0074)"
   ]
  },
  {
   "cell_type": "code",
   "execution_count": 70,
   "id": "24d3c27b-15b0-47ed-8efc-250d55e06a04",
   "metadata": {},
   "outputs": [],
   "source": [
    "alpha.change_the_weight('W',1.2899)"
   ]
  },
  {
   "cell_type": "code",
   "execution_count": 71,
   "id": "e0e780d7-e415-4cab-8889-8d3c6970a8b3",
   "metadata": {},
   "outputs": [],
   "source": [
    "alpha.change_the_weight('X',0.2902)"
   ]
  },
  {
   "cell_type": "code",
   "execution_count": 72,
   "id": "3bbc6fcf-d93a-4c65-9774-cd85e0b45a32",
   "metadata": {},
   "outputs": [],
   "source": [
    "alpha.change_the_weight('Y',1.7779)"
   ]
  },
  {
   "cell_type": "code",
   "execution_count": 73,
   "id": "3de2af5f-cbb3-4de6-a2de-b7b20e048a79",
   "metadata": {},
   "outputs": [],
   "source": [
    "alpha.change_the_weight('Z',0.2722)"
   ]
  },
  {
   "cell_type": "code",
   "execution_count": 74,
   "id": "195db152-f9d0-475a-a609-4ae01b8ddb36",
   "metadata": {},
   "outputs": [
    {
     "name": "stdout",
     "output_type": "stream",
     "text": [
      "The current state faces and weights:\n"
     ]
    },
    {
     "data": {
      "text/html": [
       "<div>\n",
       "<style scoped>\n",
       "    .dataframe tbody tr th:only-of-type {\n",
       "        vertical-align: middle;\n",
       "    }\n",
       "\n",
       "    .dataframe tbody tr th {\n",
       "        vertical-align: top;\n",
       "    }\n",
       "\n",
       "    .dataframe thead th {\n",
       "        text-align: right;\n",
       "    }\n",
       "</style>\n",
       "<table border=\"1\" class=\"dataframe\">\n",
       "  <thead>\n",
       "    <tr style=\"text-align: right;\">\n",
       "      <th></th>\n",
       "      <th>faces</th>\n",
       "      <th>weights</th>\n",
       "    </tr>\n",
       "  </thead>\n",
       "  <tbody>\n",
       "    <tr>\n",
       "      <th>0</th>\n",
       "      <td>A</td>\n",
       "      <td>8.4966</td>\n",
       "    </tr>\n",
       "    <tr>\n",
       "      <th>1</th>\n",
       "      <td>B</td>\n",
       "      <td>2.0720</td>\n",
       "    </tr>\n",
       "    <tr>\n",
       "      <th>2</th>\n",
       "      <td>C</td>\n",
       "      <td>4.5388</td>\n",
       "    </tr>\n",
       "    <tr>\n",
       "      <th>3</th>\n",
       "      <td>D</td>\n",
       "      <td>3.3844</td>\n",
       "    </tr>\n",
       "    <tr>\n",
       "      <th>4</th>\n",
       "      <td>E</td>\n",
       "      <td>11.1607</td>\n",
       "    </tr>\n",
       "    <tr>\n",
       "      <th>5</th>\n",
       "      <td>F</td>\n",
       "      <td>1.8121</td>\n",
       "    </tr>\n",
       "    <tr>\n",
       "      <th>6</th>\n",
       "      <td>G</td>\n",
       "      <td>2.4705</td>\n",
       "    </tr>\n",
       "    <tr>\n",
       "      <th>7</th>\n",
       "      <td>H</td>\n",
       "      <td>3.0034</td>\n",
       "    </tr>\n",
       "    <tr>\n",
       "      <th>8</th>\n",
       "      <td>I</td>\n",
       "      <td>7.5448</td>\n",
       "    </tr>\n",
       "    <tr>\n",
       "      <th>9</th>\n",
       "      <td>J</td>\n",
       "      <td>0.1965</td>\n",
       "    </tr>\n",
       "    <tr>\n",
       "      <th>10</th>\n",
       "      <td>K</td>\n",
       "      <td>1.1016</td>\n",
       "    </tr>\n",
       "    <tr>\n",
       "      <th>11</th>\n",
       "      <td>L</td>\n",
       "      <td>5.4893</td>\n",
       "    </tr>\n",
       "    <tr>\n",
       "      <th>12</th>\n",
       "      <td>M</td>\n",
       "      <td>3.0129</td>\n",
       "    </tr>\n",
       "    <tr>\n",
       "      <th>13</th>\n",
       "      <td>N</td>\n",
       "      <td>6.6544</td>\n",
       "    </tr>\n",
       "    <tr>\n",
       "      <th>14</th>\n",
       "      <td>O</td>\n",
       "      <td>7.1635</td>\n",
       "    </tr>\n",
       "    <tr>\n",
       "      <th>15</th>\n",
       "      <td>P</td>\n",
       "      <td>3.1671</td>\n",
       "    </tr>\n",
       "    <tr>\n",
       "      <th>16</th>\n",
       "      <td>Q</td>\n",
       "      <td>0.1962</td>\n",
       "    </tr>\n",
       "    <tr>\n",
       "      <th>17</th>\n",
       "      <td>R</td>\n",
       "      <td>7.5809</td>\n",
       "    </tr>\n",
       "    <tr>\n",
       "      <th>18</th>\n",
       "      <td>S</td>\n",
       "      <td>5.7351</td>\n",
       "    </tr>\n",
       "    <tr>\n",
       "      <th>19</th>\n",
       "      <td>T</td>\n",
       "      <td>6.9509</td>\n",
       "    </tr>\n",
       "    <tr>\n",
       "      <th>20</th>\n",
       "      <td>U</td>\n",
       "      <td>3.6308</td>\n",
       "    </tr>\n",
       "    <tr>\n",
       "      <th>21</th>\n",
       "      <td>V</td>\n",
       "      <td>1.0074</td>\n",
       "    </tr>\n",
       "    <tr>\n",
       "      <th>22</th>\n",
       "      <td>W</td>\n",
       "      <td>1.2899</td>\n",
       "    </tr>\n",
       "    <tr>\n",
       "      <th>23</th>\n",
       "      <td>X</td>\n",
       "      <td>0.2902</td>\n",
       "    </tr>\n",
       "    <tr>\n",
       "      <th>24</th>\n",
       "      <td>Y</td>\n",
       "      <td>1.7779</td>\n",
       "    </tr>\n",
       "    <tr>\n",
       "      <th>25</th>\n",
       "      <td>Z</td>\n",
       "      <td>0.2722</td>\n",
       "    </tr>\n",
       "  </tbody>\n",
       "</table>\n",
       "</div>"
      ],
      "text/plain": [
       "   faces  weights\n",
       "0      A   8.4966\n",
       "1      B   2.0720\n",
       "2      C   4.5388\n",
       "3      D   3.3844\n",
       "4      E  11.1607\n",
       "5      F   1.8121\n",
       "6      G   2.4705\n",
       "7      H   3.0034\n",
       "8      I   7.5448\n",
       "9      J   0.1965\n",
       "10     K   1.1016\n",
       "11     L   5.4893\n",
       "12     M   3.0129\n",
       "13     N   6.6544\n",
       "14     O   7.1635\n",
       "15     P   3.1671\n",
       "16     Q   0.1962\n",
       "17     R   7.5809\n",
       "18     S   5.7351\n",
       "19     T   6.9509\n",
       "20     U   3.6308\n",
       "21     V   1.0074\n",
       "22     W   1.2899\n",
       "23     X   0.2902\n",
       "24     Y   1.7779\n",
       "25     Z   0.2722"
      ]
     },
     "execution_count": 74,
     "metadata": {},
     "output_type": "execute_result"
    }
   ],
   "source": [
    "alpha.show()"
   ]
  },
  {
   "cell_type": "code",
   "execution_count": 75,
   "id": "f8f48b70-29bd-4ae4-8082-b41ba8dcd428",
   "metadata": {},
   "outputs": [],
   "source": [
    "game5 = DieGame([alpha,alpha,alpha,alpha,alpha])"
   ]
  },
  {
   "cell_type": "code",
   "execution_count": 76,
   "id": "7512b041-e838-4d72-a0f0-63179e34e5a6",
   "metadata": {},
   "outputs": [],
   "source": [
    "game5.play2(1000)"
   ]
  },
  {
   "cell_type": "code",
   "execution_count": 77,
   "id": "d69049d5-9cc5-4cad-ae83-cf77d2cfb719",
   "metadata": {},
   "outputs": [
    {
     "data": {
      "text/html": [
       "<div>\n",
       "<style scoped>\n",
       "    .dataframe tbody tr th:only-of-type {\n",
       "        vertical-align: middle;\n",
       "    }\n",
       "\n",
       "    .dataframe tbody tr th {\n",
       "        vertical-align: top;\n",
       "    }\n",
       "\n",
       "    .dataframe thead th {\n",
       "        text-align: right;\n",
       "    }\n",
       "</style>\n",
       "<table border=\"1\" class=\"dataframe\">\n",
       "  <thead>\n",
       "    <tr style=\"text-align: right;\">\n",
       "      <th></th>\n",
       "      <th>0</th>\n",
       "      <th>1</th>\n",
       "      <th>2</th>\n",
       "      <th>3</th>\n",
       "      <th>4</th>\n",
       "    </tr>\n",
       "    <tr>\n",
       "      <th>Roll_Number</th>\n",
       "      <th></th>\n",
       "      <th></th>\n",
       "      <th></th>\n",
       "      <th></th>\n",
       "      <th></th>\n",
       "    </tr>\n",
       "  </thead>\n",
       "  <tbody>\n",
       "    <tr>\n",
       "      <th>1</th>\n",
       "      <td>Y</td>\n",
       "      <td>E</td>\n",
       "      <td>E</td>\n",
       "      <td>N</td>\n",
       "      <td>M</td>\n",
       "    </tr>\n",
       "    <tr>\n",
       "      <th>2</th>\n",
       "      <td>S</td>\n",
       "      <td>L</td>\n",
       "      <td>S</td>\n",
       "      <td>H</td>\n",
       "      <td>D</td>\n",
       "    </tr>\n",
       "    <tr>\n",
       "      <th>3</th>\n",
       "      <td>I</td>\n",
       "      <td>R</td>\n",
       "      <td>E</td>\n",
       "      <td>A</td>\n",
       "      <td>E</td>\n",
       "    </tr>\n",
       "    <tr>\n",
       "      <th>4</th>\n",
       "      <td>B</td>\n",
       "      <td>U</td>\n",
       "      <td>B</td>\n",
       "      <td>C</td>\n",
       "      <td>D</td>\n",
       "    </tr>\n",
       "    <tr>\n",
       "      <th>5</th>\n",
       "      <td>N</td>\n",
       "      <td>R</td>\n",
       "      <td>T</td>\n",
       "      <td>L</td>\n",
       "      <td>T</td>\n",
       "    </tr>\n",
       "    <tr>\n",
       "      <th>...</th>\n",
       "      <td>...</td>\n",
       "      <td>...</td>\n",
       "      <td>...</td>\n",
       "      <td>...</td>\n",
       "      <td>...</td>\n",
       "    </tr>\n",
       "    <tr>\n",
       "      <th>996</th>\n",
       "      <td>E</td>\n",
       "      <td>O</td>\n",
       "      <td>I</td>\n",
       "      <td>T</td>\n",
       "      <td>R</td>\n",
       "    </tr>\n",
       "    <tr>\n",
       "      <th>997</th>\n",
       "      <td>P</td>\n",
       "      <td>N</td>\n",
       "      <td>A</td>\n",
       "      <td>A</td>\n",
       "      <td>Y</td>\n",
       "    </tr>\n",
       "    <tr>\n",
       "      <th>998</th>\n",
       "      <td>R</td>\n",
       "      <td>R</td>\n",
       "      <td>D</td>\n",
       "      <td>E</td>\n",
       "      <td>S</td>\n",
       "    </tr>\n",
       "    <tr>\n",
       "      <th>999</th>\n",
       "      <td>W</td>\n",
       "      <td>U</td>\n",
       "      <td>L</td>\n",
       "      <td>A</td>\n",
       "      <td>O</td>\n",
       "    </tr>\n",
       "    <tr>\n",
       "      <th>1000</th>\n",
       "      <td>A</td>\n",
       "      <td>A</td>\n",
       "      <td>W</td>\n",
       "      <td>O</td>\n",
       "      <td>T</td>\n",
       "    </tr>\n",
       "  </tbody>\n",
       "</table>\n",
       "<p>1000 rows × 5 columns</p>\n",
       "</div>"
      ],
      "text/plain": [
       "             0  1  2  3  4\n",
       "Roll_Number               \n",
       "1            Y  E  E  N  M\n",
       "2            S  L  S  H  D\n",
       "3            I  R  E  A  E\n",
       "4            B  U  B  C  D\n",
       "5            N  R  T  L  T\n",
       "...         .. .. .. .. ..\n",
       "996          E  O  I  T  R\n",
       "997          P  N  A  A  Y\n",
       "998          R  R  D  E  S\n",
       "999          W  U  L  A  O\n",
       "1000         A  A  W  O  T\n",
       "\n",
       "[1000 rows x 5 columns]"
      ]
     },
     "execution_count": 77,
     "metadata": {},
     "output_type": "execute_result"
    }
   ],
   "source": [
    "game5.display()"
   ]
  },
  {
   "cell_type": "markdown",
   "id": "e65262af-6d10-4ea2-87ce-9315d5273948",
   "metadata": {},
   "source": [
    "### How many combos can you that look like actual English words? ← NOTE: \"combo\" here just means resulting sequence, not literally combination as opposed to permutation."
   ]
  },
  {
   "cell_type": "code",
   "execution_count": 78,
   "id": "9025e26e-9ba2-4ffc-9497-ed26b26d1b3f",
   "metadata": {},
   "outputs": [],
   "source": [
    "hey_jude = Analyzer(game5)"
   ]
  },
  {
   "cell_type": "code",
   "execution_count": 79,
   "id": "1f80d7de-80ba-492a-9fe1-0f1777d863e8",
   "metadata": {},
   "outputs": [
    {
     "data": {
      "text/html": [
       "<div>\n",
       "<style scoped>\n",
       "    .dataframe tbody tr th:only-of-type {\n",
       "        vertical-align: middle;\n",
       "    }\n",
       "\n",
       "    .dataframe tbody tr th {\n",
       "        vertical-align: top;\n",
       "    }\n",
       "\n",
       "    .dataframe thead th {\n",
       "        text-align: right;\n",
       "    }\n",
       "</style>\n",
       "<table border=\"1\" class=\"dataframe\">\n",
       "  <thead>\n",
       "    <tr style=\"text-align: right;\">\n",
       "      <th></th>\n",
       "      <th></th>\n",
       "      <th></th>\n",
       "      <th></th>\n",
       "      <th></th>\n",
       "      <th>Number of Instances</th>\n",
       "    </tr>\n",
       "    <tr>\n",
       "      <th>0</th>\n",
       "      <th>1</th>\n",
       "      <th>2</th>\n",
       "      <th>3</th>\n",
       "      <th>4</th>\n",
       "      <th></th>\n",
       "    </tr>\n",
       "  </thead>\n",
       "  <tbody>\n",
       "    <tr>\n",
       "      <th>A</th>\n",
       "      <th>A</th>\n",
       "      <th>A</th>\n",
       "      <th>I</th>\n",
       "      <th>Y</th>\n",
       "      <td>1</td>\n",
       "    </tr>\n",
       "    <tr>\n",
       "      <th rowspan=\"4\" valign=\"top\">O</th>\n",
       "      <th rowspan=\"4\" valign=\"top\">O</th>\n",
       "      <th>O</th>\n",
       "      <th>F</th>\n",
       "      <th>T</th>\n",
       "      <td>1</td>\n",
       "    </tr>\n",
       "    <tr>\n",
       "      <th>P</th>\n",
       "      <th>G</th>\n",
       "      <th>A</th>\n",
       "      <td>1</td>\n",
       "    </tr>\n",
       "    <tr>\n",
       "      <th>S</th>\n",
       "      <th>N</th>\n",
       "      <th>E</th>\n",
       "      <td>1</td>\n",
       "    </tr>\n",
       "    <tr>\n",
       "      <th>T</th>\n",
       "      <th>E</th>\n",
       "      <th>U</th>\n",
       "      <td>1</td>\n",
       "    </tr>\n",
       "    <tr>\n",
       "      <th>...</th>\n",
       "      <th>...</th>\n",
       "      <th>...</th>\n",
       "      <th>...</th>\n",
       "      <th>...</th>\n",
       "      <td>...</td>\n",
       "    </tr>\n",
       "    <tr>\n",
       "      <th rowspan=\"3\" valign=\"top\">H</th>\n",
       "      <th rowspan=\"3\" valign=\"top\">A</th>\n",
       "      <th rowspan=\"2\" valign=\"top\">C</th>\n",
       "      <th>F</th>\n",
       "      <th>I</th>\n",
       "      <td>1</td>\n",
       "    </tr>\n",
       "    <tr>\n",
       "      <th>I</th>\n",
       "      <th>A</th>\n",
       "      <td>1</td>\n",
       "    </tr>\n",
       "    <tr>\n",
       "      <th>E</th>\n",
       "      <th>N</th>\n",
       "      <th>M</th>\n",
       "      <td>1</td>\n",
       "    </tr>\n",
       "    <tr>\n",
       "      <th>G</th>\n",
       "      <th>O</th>\n",
       "      <th>A</th>\n",
       "      <th>O</th>\n",
       "      <th>C</th>\n",
       "      <td>1</td>\n",
       "    </tr>\n",
       "    <tr>\n",
       "      <th>Z</th>\n",
       "      <th>T</th>\n",
       "      <th>E</th>\n",
       "      <th>R</th>\n",
       "      <th>E</th>\n",
       "      <td>1</td>\n",
       "    </tr>\n",
       "  </tbody>\n",
       "</table>\n",
       "<p>1000 rows × 1 columns</p>\n",
       "</div>"
      ],
      "text/plain": [
       "           Number of Instances\n",
       "0 1 2 3 4                     \n",
       "A A A I Y                    1\n",
       "O O O F T                    1\n",
       "    P G A                    1\n",
       "    S N E                    1\n",
       "    T E U                    1\n",
       "...                        ...\n",
       "H A C F I                    1\n",
       "      I A                    1\n",
       "    E N M                    1\n",
       "G O A O C                    1\n",
       "Z T E R E                    1\n",
       "\n",
       "[1000 rows x 1 columns]"
      ]
     },
     "execution_count": 79,
     "metadata": {},
     "output_type": "execute_result"
    }
   ],
   "source": [
    "hey_jude.combo()"
   ]
  },
  {
   "cell_type": "code",
   "execution_count": 80,
   "id": "f96105d6-52c9-416b-993d-45a4926dacac",
   "metadata": {},
   "outputs": [
    {
     "data": {
      "text/html": [
       "<div>\n",
       "<style scoped>\n",
       "    .dataframe tbody tr th:only-of-type {\n",
       "        vertical-align: middle;\n",
       "    }\n",
       "\n",
       "    .dataframe tbody tr th {\n",
       "        vertical-align: top;\n",
       "    }\n",
       "\n",
       "    .dataframe thead th {\n",
       "        text-align: right;\n",
       "    }\n",
       "</style>\n",
       "<table border=\"1\" class=\"dataframe\">\n",
       "  <thead>\n",
       "    <tr style=\"text-align: right;\">\n",
       "      <th></th>\n",
       "      <th></th>\n",
       "      <th></th>\n",
       "      <th></th>\n",
       "      <th></th>\n",
       "      <th>Number of Instances</th>\n",
       "    </tr>\n",
       "    <tr>\n",
       "      <th>0</th>\n",
       "      <th>1</th>\n",
       "      <th>2</th>\n",
       "      <th>3</th>\n",
       "      <th>4</th>\n",
       "      <th></th>\n",
       "    </tr>\n",
       "  </thead>\n",
       "  <tbody>\n",
       "    <tr>\n",
       "      <th>A</th>\n",
       "      <th>A</th>\n",
       "      <th>A</th>\n",
       "      <th>I</th>\n",
       "      <th>Y</th>\n",
       "      <td>1</td>\n",
       "    </tr>\n",
       "    <tr>\n",
       "      <th rowspan=\"4\" valign=\"top\">O</th>\n",
       "      <th rowspan=\"4\" valign=\"top\">O</th>\n",
       "      <th>O</th>\n",
       "      <th>F</th>\n",
       "      <th>T</th>\n",
       "      <td>1</td>\n",
       "    </tr>\n",
       "    <tr>\n",
       "      <th>P</th>\n",
       "      <th>G</th>\n",
       "      <th>A</th>\n",
       "      <td>1</td>\n",
       "    </tr>\n",
       "    <tr>\n",
       "      <th>S</th>\n",
       "      <th>N</th>\n",
       "      <th>E</th>\n",
       "      <td>1</td>\n",
       "    </tr>\n",
       "    <tr>\n",
       "      <th>T</th>\n",
       "      <th>E</th>\n",
       "      <th>U</th>\n",
       "      <td>1</td>\n",
       "    </tr>\n",
       "    <tr>\n",
       "      <th>...</th>\n",
       "      <th>...</th>\n",
       "      <th>...</th>\n",
       "      <th>...</th>\n",
       "      <th>...</th>\n",
       "      <td>...</td>\n",
       "    </tr>\n",
       "    <tr>\n",
       "      <th rowspan=\"3\" valign=\"top\">H</th>\n",
       "      <th rowspan=\"3\" valign=\"top\">A</th>\n",
       "      <th rowspan=\"2\" valign=\"top\">C</th>\n",
       "      <th>F</th>\n",
       "      <th>I</th>\n",
       "      <td>1</td>\n",
       "    </tr>\n",
       "    <tr>\n",
       "      <th>I</th>\n",
       "      <th>A</th>\n",
       "      <td>1</td>\n",
       "    </tr>\n",
       "    <tr>\n",
       "      <th>E</th>\n",
       "      <th>N</th>\n",
       "      <th>M</th>\n",
       "      <td>1</td>\n",
       "    </tr>\n",
       "    <tr>\n",
       "      <th>G</th>\n",
       "      <th>O</th>\n",
       "      <th>A</th>\n",
       "      <th>O</th>\n",
       "      <th>C</th>\n",
       "      <td>1</td>\n",
       "    </tr>\n",
       "    <tr>\n",
       "      <th>Z</th>\n",
       "      <th>T</th>\n",
       "      <th>E</th>\n",
       "      <th>R</th>\n",
       "      <th>E</th>\n",
       "      <td>1</td>\n",
       "    </tr>\n",
       "  </tbody>\n",
       "</table>\n",
       "<p>1000 rows × 1 columns</p>\n",
       "</div>"
      ],
      "text/plain": [
       "           Number of Instances\n",
       "0 1 2 3 4                     \n",
       "A A A I Y                    1\n",
       "O O O F T                    1\n",
       "    P G A                    1\n",
       "    S N E                    1\n",
       "    T E U                    1\n",
       "...                        ...\n",
       "H A C F I                    1\n",
       "      I A                    1\n",
       "    E N M                    1\n",
       "G O A O C                    1\n",
       "Z T E R E                    1\n",
       "\n",
       "[1000 rows x 1 columns]"
      ]
     },
     "execution_count": 80,
     "metadata": {},
     "output_type": "execute_result"
    }
   ],
   "source": [
    "pd.set_option('display.max_rows', 100) #I did a 1000, looked through and it really didn't look like anything\n",
    "hey_jude.combo()"
   ]
  },
  {
   "cell_type": "code",
   "execution_count": 81,
   "id": "3284d934-0c63-4822-9715-2af9dddd914f",
   "metadata": {},
   "outputs": [],
   "source": [
    "game6 = DieGame([alpha,alpha,alpha])"
   ]
  },
  {
   "cell_type": "code",
   "execution_count": 82,
   "id": "14822d21-34fb-481f-a6ca-91802bf8786f",
   "metadata": {},
   "outputs": [],
   "source": [
    "game6.play2(1000)"
   ]
  },
  {
   "cell_type": "code",
   "execution_count": 83,
   "id": "37799ee0-dee5-4cbe-830f-11c337e9aeb7",
   "metadata": {},
   "outputs": [],
   "source": [
    "gently_weeps = Analyzer(game6)"
   ]
  },
  {
   "cell_type": "code",
   "execution_count": 84,
   "id": "af5f659f-e0d7-4010-b1c1-8aa82a0cf0d4",
   "metadata": {},
   "outputs": [
    {
     "data": {
      "text/html": [
       "<div>\n",
       "<style scoped>\n",
       "    .dataframe tbody tr th:only-of-type {\n",
       "        vertical-align: middle;\n",
       "    }\n",
       "\n",
       "    .dataframe tbody tr th {\n",
       "        vertical-align: top;\n",
       "    }\n",
       "\n",
       "    .dataframe thead th {\n",
       "        text-align: right;\n",
       "    }\n",
       "</style>\n",
       "<table border=\"1\" class=\"dataframe\">\n",
       "  <thead>\n",
       "    <tr style=\"text-align: right;\">\n",
       "      <th></th>\n",
       "      <th></th>\n",
       "      <th></th>\n",
       "      <th>Number of Instances</th>\n",
       "    </tr>\n",
       "    <tr>\n",
       "      <th>0</th>\n",
       "      <th>1</th>\n",
       "      <th>2</th>\n",
       "      <th></th>\n",
       "    </tr>\n",
       "  </thead>\n",
       "  <tbody>\n",
       "    <tr>\n",
       "      <th>A</th>\n",
       "      <th>A</th>\n",
       "      <th>A</th>\n",
       "      <td>1</td>\n",
       "    </tr>\n",
       "    <tr>\n",
       "      <th rowspan=\"4\" valign=\"top\">O</th>\n",
       "      <th rowspan=\"2\" valign=\"top\">I</th>\n",
       "      <th>T</th>\n",
       "      <td>1</td>\n",
       "    </tr>\n",
       "    <tr>\n",
       "      <th>U</th>\n",
       "      <td>1</td>\n",
       "    </tr>\n",
       "    <tr>\n",
       "      <th>K</th>\n",
       "      <th>O</th>\n",
       "      <td>1</td>\n",
       "    </tr>\n",
       "    <tr>\n",
       "      <th>L</th>\n",
       "      <th>E</th>\n",
       "      <td>1</td>\n",
       "    </tr>\n",
       "    <tr>\n",
       "      <th>...</th>\n",
       "      <th>...</th>\n",
       "      <th>...</th>\n",
       "      <td>...</td>\n",
       "    </tr>\n",
       "    <tr>\n",
       "      <th>N</th>\n",
       "      <th>N</th>\n",
       "      <th>N</th>\n",
       "      <td>3</td>\n",
       "    </tr>\n",
       "    <tr>\n",
       "      <th rowspan=\"2\" valign=\"top\">I</th>\n",
       "      <th>I</th>\n",
       "      <th>N</th>\n",
       "      <td>3</td>\n",
       "    </tr>\n",
       "    <tr>\n",
       "      <th>R</th>\n",
       "      <th>R</th>\n",
       "      <td>3</td>\n",
       "    </tr>\n",
       "    <tr>\n",
       "      <th rowspan=\"2\" valign=\"top\">E</th>\n",
       "      <th>E</th>\n",
       "      <th>E</th>\n",
       "      <td>4</td>\n",
       "    </tr>\n",
       "    <tr>\n",
       "      <th>I</th>\n",
       "      <th>E</th>\n",
       "      <td>4</td>\n",
       "    </tr>\n",
       "  </tbody>\n",
       "</table>\n",
       "<p>904 rows × 1 columns</p>\n",
       "</div>"
      ],
      "text/plain": [
       "       Number of Instances\n",
       "0 1 2                     \n",
       "A A A                    1\n",
       "O I T                    1\n",
       "    U                    1\n",
       "  K O                    1\n",
       "  L E                    1\n",
       "...                    ...\n",
       "N N N                    3\n",
       "I I N                    3\n",
       "  R R                    3\n",
       "E E E                    4\n",
       "  I E                    4\n",
       "\n",
       "[904 rows x 1 columns]"
      ]
     },
     "execution_count": 84,
     "metadata": {},
     "output_type": "execute_result"
    }
   ],
   "source": [
    "pd.set_option('display.max_rows', 100) #More frequent with 3 letter words (and easier to see) especially if you consider government \n",
    "# agency names words\n",
    "gently_weeps.combo()"
   ]
  },
  {
   "cell_type": "markdown",
   "id": "b22d375e-3ecc-4f31-9c14-c426bc89ef6f",
   "metadata": {},
   "source": [
    "### Directory Listing:"
   ]
  },
  {
   "cell_type": "code",
   "execution_count": 86,
   "id": "bda65a99-7f2d-40be-ba73-c5f0270e2ca7",
   "metadata": {},
   "outputs": [
    {
     "name": "stdout",
     "output_type": "stream",
     "text": [
      "total 568\n",
      "drwxr-xr-x@  6 kylerhalat-shafer     192 Jul 13 13:06 \u001b[34mAdded Sort\u001b[m\u001b[m/\n",
      "drwxr-xr-x@  7 kylerhalat-shafer     224 Jul 12 18:32 \u001b[34mArchive\u001b[m\u001b[m/\n",
      "-rw-r--r--   1 kylerhalat-shafer    3877 Jul 12 22:52 Clean_Test.ipynb\n",
      "-rw-rw-r--@  1 kylerhalat-shafer  136021 Jul 13 13:52 Final_Project.ipynb\n",
      "drwxr-xr-x@  6 kylerhalat-shafer     192 Jul 12 22:05 \u001b[34mFull Duplicates\u001b[m\u001b[m/\n",
      "drwxr-xr-x@ 11 kylerhalat-shafer     352 Jul 14 09:31 \u001b[34mFull package\u001b[m\u001b[m/\n",
      "drwxr-xr-x@  4 kylerhalat-shafer     128 Jul 12 18:34 \u001b[34mSpecs\u001b[m\u001b[m/\n",
      "-rw-r--r--@  1 kylerhalat-shafer    7048 Jul 13 00:24 Test.ipynb\n",
      "drwxr-xr-x@  5 kylerhalat-shafer     160 Jul 11 20:17 \u001b[34m__pycache__\u001b[m\u001b[m/\n",
      "-rw-r--r--   1 kylerhalat-shafer  136978 Jul 14 09:31 final-project-submission.ipynb\n",
      "\n",
      "./Added Sort:\n",
      "total 40\n",
      "drwxr-xr-x@ 3 kylerhalat-shafer    96 Jul 13 13:06 \u001b[34m__pycache__\u001b[m\u001b[m/\n",
      "-rw-r--r--@ 1 kylerhalat-shafer  8884 Jul 13 13:03 montecarlo1.py\n",
      "-rw-r--r--@ 1 kylerhalat-shafer  6217 Jul 13 13:04 montecarlo1_test.py\n",
      "\n",
      "./Added Sort/__pycache__:\n",
      "total 16\n",
      "-rw-r--r--  1 kylerhalat-shafer  7376 Jul 13 13:04 montecarlo1.cpython-310.pyc\n",
      "\n",
      "./Archive:\n",
      "total 0\n",
      "drwxr-xr-x@ 9 kylerhalat-shafer  288 Jul 12 18:29 \u001b[34m1\u001b[m\u001b[m/\n",
      "drwxr-xr-x@ 9 kylerhalat-shafer  288 Jul 12 18:29 \u001b[34m2\u001b[m\u001b[m/\n",
      "drwxr-xr-x@ 5 kylerhalat-shafer  160 Jul 12 18:32 \u001b[34mFull copy\u001b[m\u001b[m/\n",
      "drwxr-xr-x@ 6 kylerhalat-shafer  192 Jul 12 18:32 \u001b[34mpy files\u001b[m\u001b[m/\n",
      "\n",
      "./Archive/1:\n",
      "total 360\n",
      "-rw-rw-r--@ 1 kylerhalat-shafer  33490 Jul 10 21:20 Classes.ipynb\n",
      "-rw-rw-r--@ 1 kylerhalat-shafer   9811 Jul 10 21:20 Exceptions_Tools.ipynb\n",
      "drwxr-xr-x@ 9 kylerhalat-shafer    288 Jul 12 18:29 \u001b[34mFinal Project Other\u001b[m\u001b[m/\n",
      "-rw-rw-r--@ 1 kylerhalat-shafer  39261 Jul 10 21:20 Final_Project.ipynb\n",
      "-rw-rw-r--@ 1 kylerhalat-shafer  37836 Jul 10 21:20 Full_Review.ipynb\n",
      "-rw-rw-r--@ 1 kylerhalat-shafer  52891 Jul 10 21:20 NumPy_Pandas.ipynb\n",
      "\n",
      "./Archive/1/Final Project Other:\n",
      "total 192\n",
      "-rw-rw-r--@ 1 kylerhalat-shafer   3303 Jul 11 11:30 Dice_Game_Class.ipynb\n",
      "-rw-rw-r--@ 1 kylerhalat-shafer   3162 Jul 11 11:30 Dice_Game_Func.ipynb\n",
      "-rw-rw-r--@ 1 kylerhalat-shafer   4666 Jul 11 11:30 Die_Class.ipynb\n",
      "-rw-rw-r--@ 1 kylerhalat-shafer  11659 Jul 11 11:30 Final_Project-Copy1.ipynb\n",
      "-rw-rw-r--@ 1 kylerhalat-shafer  27112 Jul 11 11:30 Final_Project-Copy2.ipynb\n",
      "-rw-rw-r--@ 1 kylerhalat-shafer  39261 Jul 11 11:30 Final_Project.ipynb\n",
      "\n",
      "./Archive/2:\n",
      "total 192\n",
      "-rw-rw-r--@ 1 kylerhalat-shafer   3303 Jul 11 11:30 Dice_Game_Class.ipynb\n",
      "-rw-rw-r--@ 1 kylerhalat-shafer   3162 Jul 11 11:30 Dice_Game_Func.ipynb\n",
      "-rw-rw-r--@ 1 kylerhalat-shafer   4666 Jul 11 11:30 Die_Class.ipynb\n",
      "-rw-rw-r--@ 1 kylerhalat-shafer  11659 Jul 11 11:30 Final_Project-Copy1.ipynb\n",
      "-rw-rw-r--@ 1 kylerhalat-shafer  27112 Jul 11 11:30 Final_Project-Copy2.ipynb\n",
      "-rw-rw-r--@ 1 kylerhalat-shafer  39261 Jul 11 11:30 Final_Project.ipynb\n",
      "\n",
      "./Archive/Full copy:\n",
      "total 224\n",
      "-rw-r--r--  1 kylerhalat-shafer  68790 Jul 11 23:29 Final_Project-Copy1.ipynb\n",
      "-rw-r--r--@ 1 kylerhalat-shafer  42318 Jul 11 20:16 Final_Project_Test.ipynb\n",
      "\n",
      "./Archive/py files:\n",
      "total 24\n",
      "-rw-rw-r--@ 1 kylerhalat-shafer   823 Jul 11 20:14 analyzer.py\n",
      "-rw-rw-r--@ 1 kylerhalat-shafer  1197 Jul 11 20:14 die.py\n",
      "-rw-rw-r--@ 1 kylerhalat-shafer  1322 Jul 11 20:15 diegame.py\n",
      "\n",
      "./Full Duplicates:\n",
      "total 288\n",
      "-rw-r--r--  1 kylerhalat-shafer  138468 Jul 12 22:05 Final_Project-Copy1.ipynb\n",
      "-rw-r--r--  1 kylerhalat-shafer    7035 Jul 12 18:33 Test-Copy1.ipynb\n",
      "\n",
      "./Full package:\n",
      "total 248\n",
      "drwxr-xr-x@ 4 kylerhalat-shafer     128 Jul 12 21:52 \u001b[34mIterative\u001b[m\u001b[m/\n",
      "drwxr-xr-x@ 4 kylerhalat-shafer     128 Jul 12 23:53 \u001b[34mOther\u001b[m\u001b[m/\n",
      "drwxr-xr-x@ 4 kylerhalat-shafer     128 Jul 12 22:51 \u001b[34m__pycache__\u001b[m\u001b[m/\n",
      "drwxr-xr-x@ 6 kylerhalat-shafer     192 Jul 13 09:24 \u001b[34mmontecarlo\u001b[m\u001b[m/\n",
      "-rw-r--r--@ 1 kylerhalat-shafer  118079 Jul 14 09:31 montecarlo_demo.ipynb\n",
      "-rw-r--r--@ 1 kylerhalat-shafer     665 Jul 12 23:48 setup.py\n",
      "-rw-r--r--@ 1 kylerhalat-shafer     485 Jul 12 22:49 test_results.txt\n",
      "\n",
      "./Full package/Iterative:\n",
      "total 32\n",
      "-rw-r--r--@ 1 kylerhalat-shafer  8834 Jul 12 21:09 montecarlo.py\n",
      "-rw-r--r--  1 kylerhalat-shafer  2463 Jul 12 21:51 montecarlo_test.py\n",
      "\n",
      "./Full package/Other:\n",
      "total 824\n",
      "-rw-r--r--@ 1 kylerhalat-shafer  421401 Jul 12 22:27 Screen Shot 2022-07-12 at 22.27.45.png\n",
      "\n",
      "./Full package/__pycache__:\n",
      "total 32\n",
      "-rw-r--r--  1 kylerhalat-shafer  7347 Jul 12 21:10 montecarlo.cpython-310.pyc\n",
      "-rw-r--r--  1 kylerhalat-shafer  7339 Jul 12 22:27 montecarlo.cpython-39.pyc\n",
      "\n",
      "./Full package/montecarlo:\n",
      "total 32\n",
      "-rw-r--r--@ 1 kylerhalat-shafer   169 Jul 12 23:52 __init__.py\n",
      "-rw-r--r--@ 1 kylerhalat-shafer  8843 Jul 12 22:26 montecarlo.py\n",
      "drwxr-xr-x@ 4 kylerhalat-shafer   128 Jul 13 09:24 \u001b[34mtest\u001b[m\u001b[m/\n",
      "\n",
      "./Full package/montecarlo/test:\n",
      "total 16\n",
      "-rw-r--r--@ 1 kylerhalat-shafer  6213 Jul 13 00:23 montecarlo_test.py\n",
      "\n",
      "./Specs:\n",
      "total 48\n",
      "-rw-r--r--@ 1 kylerhalat-shafer  22763 Jul 11 18:15 Final Project.docx\n",
      "\n",
      "./__pycache__:\n",
      "total 24\n",
      "-rw-r--r--  1 kylerhalat-shafer  1309 Jul 11 20:17 analyzer.cpython-39.pyc\n",
      "-rw-r--r--  1 kylerhalat-shafer  1355 Jul 11 20:17 die.cpython-39.pyc\n",
      "-rw-r--r--  1 kylerhalat-shafer  1275 Jul 11 20:17 diegame.cpython-39.pyc\n"
     ]
    }
   ],
   "source": [
    "!ls -lRF -o"
   ]
  },
  {
   "cell_type": "markdown",
   "id": "866b9350-aad7-4ca2-878a-9efb705af8b0",
   "metadata": {},
   "source": [
    "## Intallation Output:"
   ]
  },
  {
   "cell_type": "code",
   "execution_count": 1,
   "id": "55aeb248-691f-46ca-8aa5-0897d7a2e43d",
   "metadata": {},
   "outputs": [
    {
     "name": "stdout",
     "output_type": "stream",
     "text": [
      "Obtaining file:///Users/kylerhalat-shafer/Desktop/UVA/MSDS/Programming_for_Data_Science/Final_Project/Full_package\n",
      "  Preparing metadata (setup.py) ... \u001b[?25ldone\n",
      "\u001b[?25hRequirement already satisfied: numpy>=1.11.1 in /Users/kylerhalat-shafer/opt/anaconda3/lib/python3.9/site-packages (from montecarlo==1.0.0) (1.21.5)\n",
      "Requirement already satisfied: matplotlib>=1.5.1 in /Users/kylerhalat-shafer/opt/anaconda3/lib/python3.9/site-packages (from montecarlo==1.0.0) (3.5.1)\n",
      "Requirement already satisfied: pandas>=1.4.3 in /Users/kylerhalat-shafer/opt/anaconda3/lib/python3.9/site-packages (from montecarlo==1.0.0) (1.4.3)\n",
      "Requirement already satisfied: packaging>=20.0 in /Users/kylerhalat-shafer/opt/anaconda3/lib/python3.9/site-packages (from matplotlib>=1.5.1->montecarlo==1.0.0) (21.3)\n",
      "Requirement already satisfied: fonttools>=4.22.0 in /Users/kylerhalat-shafer/opt/anaconda3/lib/python3.9/site-packages (from matplotlib>=1.5.1->montecarlo==1.0.0) (4.25.0)\n",
      "Requirement already satisfied: pillow>=6.2.0 in /Users/kylerhalat-shafer/opt/anaconda3/lib/python3.9/site-packages (from matplotlib>=1.5.1->montecarlo==1.0.0) (9.0.1)\n",
      "Requirement already satisfied: python-dateutil>=2.7 in /Users/kylerhalat-shafer/opt/anaconda3/lib/python3.9/site-packages (from matplotlib>=1.5.1->montecarlo==1.0.0) (2.8.2)\n",
      "Requirement already satisfied: kiwisolver>=1.0.1 in /Users/kylerhalat-shafer/opt/anaconda3/lib/python3.9/site-packages (from matplotlib>=1.5.1->montecarlo==1.0.0) (1.3.2)\n",
      "Requirement already satisfied: cycler>=0.10 in /Users/kylerhalat-shafer/opt/anaconda3/lib/python3.9/site-packages (from matplotlib>=1.5.1->montecarlo==1.0.0) (0.11.0)\n",
      "Requirement already satisfied: pyparsing>=2.2.1 in /Users/kylerhalat-shafer/opt/anaconda3/lib/python3.9/site-packages (from matplotlib>=1.5.1->montecarlo==1.0.0) (3.0.4)\n",
      "Requirement already satisfied: pytz>=2020.1 in /Users/kylerhalat-shafer/opt/anaconda3/lib/python3.9/site-packages (from pandas>=1.4.3->montecarlo==1.0.0) (2021.3)\n",
      "Requirement already satisfied: six>=1.5 in /Users/kylerhalat-shafer/opt/anaconda3/lib/python3.9/site-packages (from python-dateutil>=2.7->matplotlib>=1.5.1->montecarlo==1.0.0) (1.16.0)\n",
      "Installing collected packages: montecarlo\n",
      "  Attempting uninstall: montecarlo\n",
      "    Found existing installation: montecarlo 1.0.0\n",
      "    Uninstalling montecarlo-1.0.0:\n",
      "      Successfully uninstalled montecarlo-1.0.0\n",
      "  Running setup.py develop for montecarlo\n",
      "Successfully installed montecarlo-1.0.0\n",
      "Note: you may need to restart the kernel to use updated packages.\n"
     ]
    }
   ],
   "source": [
    "pip install -e /Users/kylerhalat-shafer/Desktop/UVA/MSDS/Programming_for_Data_Science/Final_Project/Full_package"
   ]
  },
  {
   "cell_type": "code",
   "execution_count": null,
   "id": "f398384d-68bc-4b8d-b180-4ddd25a64570",
   "metadata": {},
   "outputs": [],
   "source": []
  }
 ],
 "metadata": {
  "kernelspec": {
   "display_name": "Python 3 (ipykernel)",
   "language": "python",
   "name": "python3"
  },
  "language_info": {
   "codemirror_mode": {
    "name": "ipython",
    "version": 3
   },
   "file_extension": ".py",
   "mimetype": "text/x-python",
   "name": "python",
   "nbconvert_exporter": "python",
   "pygments_lexer": "ipython3",
   "version": "3.9.12"
  }
 },
 "nbformat": 4,
 "nbformat_minor": 5
}
